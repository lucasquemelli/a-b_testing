{
 "cells": [
  {
   "cell_type": "markdown",
   "id": "f7a4f185",
   "metadata": {},
   "source": [
    "# A/B Testing Motivation"
   ]
  },
  {
   "cell_type": "markdown",
   "id": "5e2eefba",
   "metadata": {},
   "source": [
    "We have a current webpage. We want to implement a new webpage which is desired to have 2% higher of conversion. To measure the efficiency of the B-webpage, we must have two groups:\n",
    "\n",
    "        - Group A: Control group, which is the one we evaluate the conversion of A-webpage.\n",
    "        - Group B: Treatment group, which is the one we evaluate the performance of the B-webpage.\n",
    "        \n",
    "Thus, we will compare the performance of each webpage. The test must be performed by taking a sample from the population. "
   ]
  },
  {
   "cell_type": "markdown",
   "id": "5101fdf3",
   "metadata": {},
   "source": [
    "#### Execution\n",
    "\n",
    "- The groups must be homogeneous between each other. We have to create 2 groups randomly.\n",
    "- We have to assure that the difference between conversions are not from the randomness of the samples and the sample size. We may avoid this problem by using a statistical inference method to decide if whether the data can support a particular hypothesis.\n",
    "- To construct the hypothesis:\n",
    "\n",
    "        A: the current scenario (status quo), without modifications. (null hypothesis)\n",
    "            \n",
    "        B: the new scenario, with some new implementation or modification. (alternative hypothesis)\n",
    "        \n",
    "#### Rational\n",
    "\n",
    "\n",
    "**1.** We assume the **hypothesis A** as true. By doing this, we assume that there is no difference between the webpages. **(null hypothesis)**\n",
    "\n",
    "**2.** By assuming **hypothesis A** as true and that there is no difference between the pages, if we observe a conversion value very far from each other, it may be caused by the experiment randomness.\n",
    "\n",
    "**3.** If the probability (p-value) of happening the difference between the pages (null hypothesis) is very high: the randomness effect is so low that we may admit that the difference is caused by the pages. \n",
    "\n",
    "        That means: If the p-value is low, we reject the null hypothesis in favor of the alternative hypothesis. If it is high, we do not have enough evidence to reject the null hypothesis.\n",
    "        \n",
    "        The \"high value\" means higher than an alpha value (confidence value) we define. Usually, alpha is 0.05. Alpha is the maximum of randomness we admit.\n",
    "        \n",
    "**The main rational is:** if the probability **(p-value)** of happening the null hypothesis is higher than the maximum randomness **(alpha)** we admitted, therefore the null hypothesis is \"more important\" than randomness and we cannot reject null hypothesis - because we have low effect of randomness. But if the p-value is lower than the maximum randomness we admitted, thus the randomness is \"more important\" than the null hypothesis and therefore we may reject the null hypothesis. \n",
    "        "
   ]
  },
  {
   "cell_type": "markdown",
   "id": "bd350226",
   "metadata": {},
   "source": [
    "# Libraries"
   ]
  },
  {
   "cell_type": "code",
   "execution_count": 55,
   "id": "5bd9a9dd",
   "metadata": {
    "ExecuteTime": {
     "end_time": "2024-02-14T19:25:49.677736Z",
     "start_time": "2024-02-14T19:25:49.674477Z"
    }
   },
   "outputs": [],
   "source": [
    "import pandas as pd\n",
    "import numpy as np\n",
    "import math\n",
    "import pingouin as pg\n",
    "import seaborn as sns\n",
    "from statsmodels.stats import api as sms\n",
    "from matplotlib import pyplot as plt"
   ]
  },
  {
   "cell_type": "markdown",
   "id": "eb97157a",
   "metadata": {},
   "source": [
    "# Loading Data"
   ]
  },
  {
   "cell_type": "code",
   "execution_count": 2,
   "id": "e4e1ae59",
   "metadata": {
    "ExecuteTime": {
     "end_time": "2024-02-09T14:17:38.453504Z",
     "start_time": "2024-02-09T14:17:38.444710Z"
    }
   },
   "outputs": [
    {
     "data": {
      "text/plain": [
       "'/Users/lucasquemelli/Documents/repos/AB testing'"
      ]
     },
     "execution_count": 2,
     "metadata": {},
     "output_type": "execute_result"
    }
   ],
   "source": [
    "pwd"
   ]
  },
  {
   "cell_type": "code",
   "execution_count": 3,
   "id": "2db09fb8",
   "metadata": {
    "ExecuteTime": {
     "end_time": "2024-02-09T14:17:38.752715Z",
     "start_time": "2024-02-09T14:17:38.455083Z"
    }
   },
   "outputs": [],
   "source": [
    "data = pd.read_csv(\"/Users/lucasquemelli/Documents/repos/AB testing/ab_data.csv\")"
   ]
  },
  {
   "cell_type": "code",
   "execution_count": 4,
   "id": "e9176c60",
   "metadata": {
    "ExecuteTime": {
     "end_time": "2024-02-09T14:17:38.767322Z",
     "start_time": "2024-02-09T14:17:38.755813Z"
    }
   },
   "outputs": [
    {
     "data": {
      "text/html": [
       "<div>\n",
       "<style scoped>\n",
       "    .dataframe tbody tr th:only-of-type {\n",
       "        vertical-align: middle;\n",
       "    }\n",
       "\n",
       "    .dataframe tbody tr th {\n",
       "        vertical-align: top;\n",
       "    }\n",
       "\n",
       "    .dataframe thead th {\n",
       "        text-align: right;\n",
       "    }\n",
       "</style>\n",
       "<table border=\"1\" class=\"dataframe\">\n",
       "  <thead>\n",
       "    <tr style=\"text-align: right;\">\n",
       "      <th></th>\n",
       "      <th>user_id</th>\n",
       "      <th>timestamp</th>\n",
       "      <th>group</th>\n",
       "      <th>landing_page</th>\n",
       "      <th>converted</th>\n",
       "    </tr>\n",
       "  </thead>\n",
       "  <tbody>\n",
       "    <tr>\n",
       "      <th>0</th>\n",
       "      <td>851104</td>\n",
       "      <td>2017-01-21 22:11:48.556739</td>\n",
       "      <td>control</td>\n",
       "      <td>old_page</td>\n",
       "      <td>0</td>\n",
       "    </tr>\n",
       "    <tr>\n",
       "      <th>1</th>\n",
       "      <td>804228</td>\n",
       "      <td>2017-01-12 08:01:45.159739</td>\n",
       "      <td>control</td>\n",
       "      <td>old_page</td>\n",
       "      <td>0</td>\n",
       "    </tr>\n",
       "    <tr>\n",
       "      <th>2</th>\n",
       "      <td>661590</td>\n",
       "      <td>2017-01-11 16:55:06.154213</td>\n",
       "      <td>treatment</td>\n",
       "      <td>new_page</td>\n",
       "      <td>0</td>\n",
       "    </tr>\n",
       "    <tr>\n",
       "      <th>3</th>\n",
       "      <td>853541</td>\n",
       "      <td>2017-01-08 18:28:03.143765</td>\n",
       "      <td>treatment</td>\n",
       "      <td>new_page</td>\n",
       "      <td>0</td>\n",
       "    </tr>\n",
       "    <tr>\n",
       "      <th>4</th>\n",
       "      <td>864975</td>\n",
       "      <td>2017-01-21 01:52:26.210827</td>\n",
       "      <td>control</td>\n",
       "      <td>old_page</td>\n",
       "      <td>1</td>\n",
       "    </tr>\n",
       "  </tbody>\n",
       "</table>\n",
       "</div>"
      ],
      "text/plain": [
       "   user_id                   timestamp      group landing_page  converted\n",
       "0   851104  2017-01-21 22:11:48.556739    control     old_page          0\n",
       "1   804228  2017-01-12 08:01:45.159739    control     old_page          0\n",
       "2   661590  2017-01-11 16:55:06.154213  treatment     new_page          0\n",
       "3   853541  2017-01-08 18:28:03.143765  treatment     new_page          0\n",
       "4   864975  2017-01-21 01:52:26.210827    control     old_page          1"
      ]
     },
     "execution_count": 4,
     "metadata": {},
     "output_type": "execute_result"
    }
   ],
   "source": [
    "data.head()"
   ]
  },
  {
   "cell_type": "code",
   "execution_count": 5,
   "id": "0bdc660c",
   "metadata": {
    "ExecuteTime": {
     "end_time": "2024-02-09T14:17:38.773588Z",
     "start_time": "2024-02-09T14:17:38.769404Z"
    }
   },
   "outputs": [
    {
     "data": {
      "text/plain": [
       "(294478, 5)"
      ]
     },
     "execution_count": 5,
     "metadata": {},
     "output_type": "execute_result"
    }
   ],
   "source": [
    "data.shape"
   ]
  },
  {
   "cell_type": "markdown",
   "id": "a349d107",
   "metadata": {},
   "source": [
    "# 1. Experiment Design"
   ]
  },
  {
   "cell_type": "markdown",
   "id": "a5980198",
   "metadata": {},
   "source": [
    "Based on the bussiness, we must define the hypotheses and the type of the test. We cannot use both of the tests mentioned below, we must choose only one."
   ]
  },
  {
   "cell_type": "markdown",
   "id": "2e3a9569",
   "metadata": {},
   "source": [
    "## 1.1. Formulation of Hypotheses"
   ]
  },
  {
   "cell_type": "markdown",
   "id": "2882bd3e",
   "metadata": {},
   "source": [
    "As we already defined above, the hypotheses are as follows:\n",
    "\n",
    "**1. Hypothesis A**: we assume that there is no difference between the webpages. **(null hypothesis)**\n",
    "\n",
    "**2. Hypothesis B:** we assume that there is significant difference between the webpages. **(alternative hypothesis)**"
   ]
  },
  {
   "cell_type": "markdown",
   "id": "3bf9c5c1",
   "metadata": {},
   "source": [
    "## 1.2. One-tailed Test"
   ]
  },
  {
   "cell_type": "markdown",
   "id": "1cc9bfa5",
   "metadata": {},
   "source": [
    "A one-tailed test, also known as a one-sided test, is a statistical test used to determine if the sample data falls into a specific direction from the hypothesized population parameter. In a one-tailed test, the alternative hypothesis specifies a particular direction of the effect or difference being tested.\n",
    "\n",
    "For example, if we are testing whether a new drug increases the average lifespan of patients, the one-tailed test would focus on whether the drug increases lifespan without considering the possibility of it decreasing lifespan.\n",
    "\n",
    "The decision to use a one-tailed test depends on the specific research question and the directional hypothesis being tested. One-tailed tests are often used when there is strong theoretical or practical justification to expect an effect in a specific direction.\n",
    "\n",
    "It's important to note that one-tailed tests can be more powerful than two-tailed tests in detecting effects in the specified direction, but they also carry the risk of overlooking effects in the opposite direction. Therefore, researchers should carefully consider the choice of test based on the nature of the research question and the potential consequences of Type I and Type II errors."
   ]
  },
  {
   "cell_type": "markdown",
   "id": "7da54113",
   "metadata": {},
   "source": [
    "- **Null hypothesis:** when the probability of happen the null hypothesis (p<sub>0</sub>) is equal to the probability of happen the alternative hypothesis (p).\n",
    "## H<sub>0</sub>: p = p<sub>0</sub>"
   ]
  },
  {
   "cell_type": "markdown",
   "id": "9d5603ad",
   "metadata": {},
   "source": [
    "- **Alternative hypothesis:** when the probability of happen the alternative hypothesis (p) is higher the probability of happen the null hypothesis (p<sub>0</sub>).\n",
    "## H<sub>1</sub>: p > p<sub>0</sub>"
   ]
  },
  {
   "cell_type": "markdown",
   "id": "be1711ed",
   "metadata": {},
   "source": [
    "**ATTENTION:** to use this test we must aske ourselves if the effect can only goes to one direction. Could that only be higher? Could that only be lower?"
   ]
  },
  {
   "cell_type": "markdown",
   "id": "54c0394f",
   "metadata": {},
   "source": [
    "## 1.3. Two-tailed Test"
   ]
  },
  {
   "cell_type": "markdown",
   "id": "2ddf2b34",
   "metadata": {},
   "source": [
    "By comparing two webpages, the effect is not only one direction: the conversion may be higher or lower. At such a situation we use the two-tailed test."
   ]
  },
  {
   "cell_type": "markdown",
   "id": "e249b7da",
   "metadata": {},
   "source": [
    "A two-tailed test, also known as a two-sided test, is a statistical test used to determine if there is a significant difference between the observed sample data and the hypothesized population parameter in either direction. In a two-tailed test, the alternative hypothesis typically states that the parameter is not equal to a specific value, without specifying a particular direction of the effect.\n",
    "\n",
    "For example, if we are testing whether a new teaching method affects test scores, the two-tailed test would check whether there is a significant difference in test scores, regardless of whether they increase or decrease.\n",
    "\n",
    "The decision to use a two-tailed test is often made when there is no prior expectation or justification for a particular direction of the effect. It allows for a more conservative approach by considering the possibility of differences in both directions.\n",
    "\n",
    "In a two-tailed test, the critical region is split into two equal parts, with rejection regions in both tails of the distribution. The test statistic is compared to the critical values corresponding to the desired level of significance, typically α (alpha), divided equally between the two tails.\n",
    "\n",
    "It's important to note that two-tailed tests are generally less powerful than one-tailed tests for detecting effects in a specific direction. However, they provide a more comprehensive assessment of the data by considering the possibility of differences in both directions.\n",
    "\n",
    "Researchers should carefully consider the choice of test based on the specific research question, the nature of the data, and any prior theoretical or empirical evidence regarding the direction of the effect."
   ]
  },
  {
   "cell_type": "markdown",
   "id": "3a1d7bef",
   "metadata": {},
   "source": [
    "- **Null hypothesis:** when the probability of happen the null hypothesis (p<sub>0</sub>) is equal to the probability of happen the alternative hypothesis (p).\n",
    "## H<sub>0</sub>: p = p<sub>0</sub>"
   ]
  },
  {
   "cell_type": "markdown",
   "id": "7c162230",
   "metadata": {},
   "source": [
    "- **Alternative hypothesis:** when the probability of happen the alternative hypothesis (p) is different of the probability of happen the null hypothesis (p<sub>0</sub>).\n",
    "## H<sub>1</sub>: p <> p<sub>0</sub>"
   ]
  },
  {
   "cell_type": "markdown",
   "id": "b4b3d2a9",
   "metadata": {},
   "source": [
    "## 1.4. Tests Parameters"
   ]
  },
  {
   "cell_type": "markdown",
   "id": "416d7d75",
   "metadata": {},
   "source": [
    "After deciding between one-tailed or two-tailed test, we must define the parameters."
   ]
  },
  {
   "cell_type": "markdown",
   "id": "0b4fc8bb",
   "metadata": {},
   "source": [
    "### 1.4.1. Confidence Level"
   ]
  },
  {
   "cell_type": "markdown",
   "id": "49659b52",
   "metadata": {},
   "source": [
    "The confidence level in an A/B test is the measure of certainty with which you can trust the results of the test. It indicates the probability that the observed difference between groups (for example, the control group and the test group) is true and not merely due to chance.\n",
    "\n",
    "Typically, the confidence level is expressed as a percentage, such as 95% or 99%. A confidence level of 95%, for example, means there is a 95% probability that the observed difference between groups is statistically significant and not just a result of random variability in the data.\n",
    "\n",
    "The higher the chosen confidence level, the more confident you can be in the results of the test. However, it's important to balance the confidence level with sample size and test sensitivity, as very high confidence levels may require very large samples to detect small differences.\n",
    "\n",
    "In summary, the confidence level in an A/B test is a measure of the probability that the observed results are statistically significant and not due to chance, and it's crucial for assessing the validity and reliability of the test results."
   ]
  },
  {
   "cell_type": "code",
   "execution_count": 6,
   "id": "50d651d3",
   "metadata": {
    "ExecuteTime": {
     "end_time": "2024-02-09T14:17:38.778735Z",
     "start_time": "2024-02-09T14:17:38.775858Z"
    }
   },
   "outputs": [],
   "source": [
    "confidence_level = 0.95"
   ]
  },
  {
   "cell_type": "markdown",
   "id": "59cadbdb",
   "metadata": {},
   "source": [
    "### 1.4.2. Significance Level"
   ]
  },
  {
   "cell_type": "markdown",
   "id": "059e6663",
   "metadata": {},
   "source": [
    "This is: 1 - confidence level. "
   ]
  },
  {
   "cell_type": "markdown",
   "id": "fa248c45",
   "metadata": {},
   "source": [
    "The significance level in an A/B test, often denoted as α (alpha), is the probability of incorrectly rejecting the null hypothesis when it is actually true. In other words, it represents the threshold for determining whether an observed difference between groups is statistically significant or simply due to random variability.\n",
    "\n",
    "Typically, the significance level is set before conducting the test and is commonly chosen to be 0.05 (5%) or 0.01 (1%). This means that if the p-value calculated from the test is less than the significance level (e.g., p < 0.05), the null hypothesis is rejected, and the difference between groups is considered statistically significant.\n",
    "\n",
    "Conversely, if the p-value is greater than the significance level, the null hypothesis is not rejected, and the observed difference is not deemed statistically significant.\n",
    "\n",
    "Choosing the significance level involves a trade-off between Type I and Type II errors. A lower significance level (e.g., α = 0.01) reduces the probability of Type I errors (false positives), but increases the likelihood of Type II errors (false negatives). Conversely, a higher significance level (e.g., α = 0.10) decreases the chance of Type II errors but increases the risk of Type I errors.\n",
    "\n",
    "     Type I error: we reject the null hypothesis by understanding the alternative hypothesis is better, but not.\n",
    "                   This is the probability of observing an event that does not exist.\n",
    "         \n",
    "     Type II error: we do not reject the null hypothesis by understanding it is better, but not.\n",
    "                    This is the probability of not observing an event that do exist.\n",
    "\n",
    "In summary, the significance level in an A/B test determines the threshold for determining statistical significance, and it's crucial for interpreting the results and making decisions based on the test outcomes."
   ]
  },
  {
   "cell_type": "code",
   "execution_count": 7,
   "id": "49315493",
   "metadata": {
    "ExecuteTime": {
     "end_time": "2024-02-09T14:17:38.783485Z",
     "start_time": "2024-02-09T14:17:38.780849Z"
    }
   },
   "outputs": [],
   "source": [
    "significance_level = 1 - confidence_level"
   ]
  },
  {
   "cell_type": "markdown",
   "id": "5ad3fe49",
   "metadata": {},
   "source": [
    "### 1.4.3. Sample Size"
   ]
  },
  {
   "cell_type": "markdown",
   "id": "0b01ef96",
   "metadata": {},
   "source": [
    "There are some parameters we must understand before determining the sample size:"
   ]
  },
  {
   "cell_type": "markdown",
   "id": "8757e5d7",
   "metadata": {},
   "source": [
    "- **effect size:** difference between **control** and **treatment** = 13% - 15% = 2%. It is a measure of the magnitude of the difference or effect that you want to detect in the test. Indicates the practical importance of the difference between groups. We have to test the sample size in order to find the optimum effect size.\n",
    "\n",
    "        effect_size = p1 - p2, where p1 is the current conversion and p2 is the new conversion\n",
    "        p1 = 13% = 0.13\n",
    "        p2 = 15% = 0.15, it is defined by the bussiness team\n",
    "        \n",
    "        Larger differences demand less data points. However, Smaller differences demand more data points.\n",
    "        \n",
    "Here we present 4 ways of calculating the effect size. The most famous family to calculate the effect size is D (difference). \n",
    "\n",
    "    1. Cohen's d: difference between the average of the samples (A and B) over global standard deviation.\n",
    "    2. Glass's delta: same as Cohen's d, but over only the standard deviation of the control group.\n",
    "                      Used when there is n-treatment groups (A, B, C,... n test)\n",
    "    3. Hedge's g: it is a type of Cohen's d, but for sample size lower than 20 (n < 20). \n",
    "    4. Cohen's h: used when 2 samples are independent. "
   ]
  },
  {
   "cell_type": "markdown",
   "id": "b76aadb0",
   "metadata": {},
   "source": [
    "1. Cohen's d:\n",
    "\n",
    "        X: Represents the data from one group (e.g., control group).\n",
    "        Y: Represents the data from another group (e.g., experimental group).\n",
    "        \n",
    "        Small Effect Size: d=0.20\n",
    "        Medium Effect Size: d=0.50\n",
    "        Large Effect Size: d=0.80\n",
    "\n",
    "2. Glass's delta:\n",
    "\n",
    "        X: Represents the data from one group.\n",
    "        Y: Represents the data from another group.\n",
    "\n",
    "3. Hedge's g:\n",
    "\n",
    "        X: Represents the data from one group.\n",
    "        Y: Represents the data from another group.\n",
    "        \n",
    "4. Cohen's h:\n",
    "\n",
    "        X: Represents the proportion or rate in one group.\n",
    "        Y: Represents the proportion or rate in another group."
   ]
  },
  {
   "cell_type": "markdown",
   "id": "71948bb0",
   "metadata": {},
   "source": [
    "- **Statistical Power:** It is the probability that a statistical test will detect a real existing effect. It reflects the test's ability to identify significant differences when they actually exist. It is around 80% (standard - better explanation in the next sections). \n",
    "\n",
    "        Type II error is: β = 1 - statistical_power\n",
    "\n",
    "- **Significance Level:** It is the probability of making a Type I error by incorrectly rejecting the null hypothesis. It is typically defined as α and represents the threshold for considering a result as statistically significant. It is 5% for our case. \n",
    "\n",
    "- **Power Equation:** It is an equation that relates the sample size, statistical power, significance level and effect size. It is used to determine the sample size necessary to achieve a given statistical power under certain conditions."
   ]
  },
  {
   "cell_type": "markdown",
   "id": "96312a74",
   "metadata": {},
   "source": [
    "#### Effect Size for two proportions/averages"
   ]
  },
  {
   "cell_type": "markdown",
   "id": "ad61669c",
   "metadata": {},
   "source": [
    "This test must be performed using scalar values, such as propotions and average values."
   ]
  },
  {
   "cell_type": "code",
   "execution_count": 45,
   "id": "726b1007",
   "metadata": {
    "ExecuteTime": {
     "end_time": "2024-02-14T16:46:41.020842Z",
     "start_time": "2024-02-14T16:46:41.017818Z"
    }
   },
   "outputs": [],
   "source": [
    "# effect size parameters\n",
    "p1 = 0.13\n",
    "p2 = 0.15\n",
    "\n",
    "# effect size\n",
    "effect_size = sms.proportion_effectsize(p1, p2)\n",
    "\n",
    "# statistical power\n",
    "statistical_power = 0.8"
   ]
  },
  {
   "cell_type": "code",
   "execution_count": 46,
   "id": "9de36be8",
   "metadata": {
    "ExecuteTime": {
     "end_time": "2024-02-14T16:46:42.184588Z",
     "start_time": "2024-02-14T16:46:42.180818Z"
    }
   },
   "outputs": [
    {
     "data": {
      "text/plain": [
       "-0.0576728617308947"
      ]
     },
     "execution_count": 46,
     "metadata": {},
     "output_type": "execute_result"
    }
   ],
   "source": [
    "effect_size"
   ]
  },
  {
   "cell_type": "markdown",
   "id": "6acdde74",
   "metadata": {},
   "source": [
    "We may also use the method below:"
   ]
  },
  {
   "cell_type": "code",
   "execution_count": 50,
   "id": "f4b45caa",
   "metadata": {
    "ExecuteTime": {
     "end_time": "2024-02-14T16:51:08.280900Z",
     "start_time": "2024-02-14T16:51:08.276777Z"
    }
   },
   "outputs": [
    {
     "name": "stdout",
     "output_type": "stream",
     "text": [
      "Cohen's d: -0.05766299317048917\n"
     ]
    }
   ],
   "source": [
    "def cohen_d(p1, p2):\n",
    "    \"\"\"\n",
    "    Calculate Cohen's d effect size for two proportions.\n",
    "    \n",
    "    Parameters:\n",
    "        p1 (float): Proportion for group 1.\n",
    "        p2 (float): Proportion for group 2.\n",
    "    \n",
    "    Returns:\n",
    "        float: Cohen's d effect size.\n",
    "    \"\"\"\n",
    "    return (p1 - p2) / np.sqrt((p1 * (1 - p1) + p2 * (1 - p2)) / 2)\n",
    "\n",
    "# p1 and p2 values\n",
    "p1 = 0.13\n",
    "p2 = 0.15\n",
    "\n",
    "# Cohen's d\n",
    "cohen_d_value = cohen_d(p1, p2)\n",
    "print(\"Cohen's d:\", cohen_d_value)\n"
   ]
  },
  {
   "cell_type": "code",
   "execution_count": 53,
   "id": "a7669c01",
   "metadata": {
    "ExecuteTime": {
     "end_time": "2024-02-14T17:05:12.193257Z",
     "start_time": "2024-02-14T17:05:12.185668Z"
    }
   },
   "outputs": [
    {
     "name": "stdout",
     "output_type": "stream",
     "text": [
      "Glass's delta: -0.056011203361120365\n",
      "Hedge's g: -0.0576623975358413\n",
      "Cohen's h: -0.018357842053454587\n"
     ]
    }
   ],
   "source": [
    "def glass_delta(p1, p2):\n",
    "    \"\"\"\n",
    "    Calculate Glass's delta effect size for two proportions.\n",
    "    \n",
    "    Parameters:\n",
    "        p1 (float): Proportion for group 1.\n",
    "        p2 (float): Proportion for group 2.\n",
    "    \n",
    "    Returns:\n",
    "        float: Glass's delta effect size.\n",
    "    \"\"\"\n",
    "    return (p1 - p2) / np.sqrt(p2 * (1 - p2))\n",
    "\n",
    "def hedges_g(p1, p2, n1, n2):\n",
    "    \"\"\"\n",
    "    Calculate Hedge's g effect size for two proportions.\n",
    "    \n",
    "    Parameters:\n",
    "        p1 (float): Proportion for group 1.\n",
    "        p2 (float): Proportion for group 2.\n",
    "        n1 (int): Sample size for group 1.\n",
    "        n2 (int): Sample size for group 2.\n",
    "    \n",
    "    Returns:\n",
    "        float: Hedge's g effect size.\n",
    "    \"\"\"\n",
    "    d = (p1 - p2) / np.sqrt((p1 * (1 - p1) + p2 * (1 - p2)) / 2)\n",
    "    return d * (1 - 3 / (4 * (n1 + n2 - 9)))\n",
    "\n",
    "def cohen_h(p1, p2):\n",
    "    \"\"\"\n",
    "    Calculate Cohen's h effect size for two proportions.\n",
    "    \n",
    "    Parameters:\n",
    "        p1 (float): Proportion for group 1.\n",
    "        p2 (float): Proportion for group 2.\n",
    "    \n",
    "    Returns:\n",
    "        float: Cohen's h effect size.\n",
    "    \"\"\"\n",
    "    return (2 * np.arcsin(np.sqrt(p1)) - 2 * np.arcsin(np.sqrt(p2))) / np.pi\n",
    "\n",
    "# p1 and p2 values\n",
    "p1 = 0.13\n",
    "p2 = 0.15\n",
    "\n",
    "# sample size for Hedge's g :: calculated in the next section\n",
    "n1 = 36308\n",
    "n2 = 36308\n",
    "\n",
    "# effect size\n",
    "glass_delta_value = glass_delta(p1, p2)\n",
    "hedges_g_value = hedges_g(p1, p2, n1, n2)\n",
    "cohen_h_value = cohen_h(p1, p2)\n",
    "\n",
    "print(\"Glass's delta:\", glass_delta_value)\n",
    "print(\"Hedge's g:\", hedges_g_value)\n",
    "print(\"Cohen's h:\", cohen_h_value)\n"
   ]
  },
  {
   "cell_type": "markdown",
   "id": "9afc889d",
   "metadata": {},
   "source": [
    "#### Effect Size for two-dimensional numpy arrays"
   ]
  },
  {
   "cell_type": "markdown",
   "id": "7f0275ee",
   "metadata": {},
   "source": [
    "This test must be performed using two-dimensional arrays. "
   ]
  },
  {
   "cell_type": "code",
   "execution_count": 54,
   "id": "4578221a",
   "metadata": {
    "ExecuteTime": {
     "end_time": "2024-02-14T17:29:14.815785Z",
     "start_time": "2024-02-14T17:29:14.813403Z"
    }
   },
   "outputs": [],
   "source": [
    "# # Cohen's d\n",
    "# pg.compute_effsize(x1, x2, eftype=\"cohen\")\n",
    "\n",
    "# # Glass's delta\n",
    "# pg.compute_effsize(x1, x2, eftype=\"glass\")\n",
    "\n",
    "# # Hedge's g\n",
    "# pg.compute_effsize(x1, x2, eftype=\"hedges\")\n",
    "\n",
    "# # Cohen's h\n",
    "# sms.proportion_effectsize(np.mean(x1), np.mean(x2))"
   ]
  },
  {
   "cell_type": "markdown",
   "id": "afebb597",
   "metadata": {},
   "source": [
    "#### Sample Size"
   ]
  },
  {
   "cell_type": "code",
   "execution_count": 10,
   "id": "63146bb8",
   "metadata": {
    "ExecuteTime": {
     "end_time": "2024-02-09T14:17:38.814837Z",
     "start_time": "2024-02-09T14:17:38.800499Z"
    }
   },
   "outputs": [],
   "source": [
    "#sample size\n",
    "sample_n = sms.NormalIndPower().solve_power(\n",
    "                effect_size=effect_size,\n",
    "                power=statistical_power,\n",
    "                alpha=significance_level\n",
    ")"
   ]
  },
  {
   "cell_type": "code",
   "execution_count": 11,
   "id": "6b59ec42",
   "metadata": {
    "ExecuteTime": {
     "end_time": "2024-02-09T14:17:38.821259Z",
     "start_time": "2024-02-09T14:17:38.817183Z"
    }
   },
   "outputs": [
    {
     "data": {
      "text/plain": [
       "4719.474057599816"
      ]
     },
     "execution_count": 11,
     "metadata": {},
     "output_type": "execute_result"
    }
   ],
   "source": [
    "sample_n"
   ]
  },
  {
   "cell_type": "code",
   "execution_count": 12,
   "id": "89b3f5b2",
   "metadata": {
    "ExecuteTime": {
     "end_time": "2024-02-09T14:17:38.829373Z",
     "start_time": "2024-02-09T14:17:38.823146Z"
    }
   },
   "outputs": [
    {
     "data": {
      "text/plain": [
       "4719"
      ]
     },
     "execution_count": 12,
     "metadata": {},
     "output_type": "execute_result"
    }
   ],
   "source": [
    "np.round(sample_n, 0).astype(int)"
   ]
  },
  {
   "cell_type": "code",
   "execution_count": 13,
   "id": "85b52a81",
   "metadata": {
    "ExecuteTime": {
     "end_time": "2024-02-09T14:17:38.836373Z",
     "start_time": "2024-02-09T14:17:38.831809Z"
    }
   },
   "outputs": [
    {
     "data": {
      "text/plain": [
       "4720"
      ]
     },
     "execution_count": 13,
     "metadata": {},
     "output_type": "execute_result"
    }
   ],
   "source": [
    "math.ceil(sample_n)"
   ]
  },
  {
   "cell_type": "code",
   "execution_count": 14,
   "id": "67fdbe34",
   "metadata": {
    "ExecuteTime": {
     "end_time": "2024-02-09T14:17:38.842278Z",
     "start_time": "2024-02-09T14:17:38.838680Z"
    }
   },
   "outputs": [],
   "source": [
    "sample_n = math.ceil(sample_n)"
   ]
  },
  {
   "cell_type": "code",
   "execution_count": 15,
   "id": "dd4726c9",
   "metadata": {
    "ExecuteTime": {
     "end_time": "2024-02-09T14:17:38.849318Z",
     "start_time": "2024-02-09T14:17:38.844934Z"
    }
   },
   "outputs": [
    {
     "name": "stdout",
     "output_type": "stream",
     "text": [
      "The sample size of the control group is: 4720.\n",
      "The sample size of the treatment group is: 4720.\n",
      "The total sample size is: 9440.\n"
     ]
    }
   ],
   "source": [
    "print(f\"The sample size of the control group is: {sample_n}.\")\n",
    "print(f\"The sample size of the treatment group is: {sample_n}.\")\n",
    "print(f\"The total sample size is: {2*sample_n}.\")"
   ]
  },
  {
   "cell_type": "markdown",
   "id": "84175072",
   "metadata": {},
   "source": [
    "Since we have the current conversion equals to 13% (4720), this value correspond to the size of each group. The total amount of people we must include in the test is:"
   ]
  },
  {
   "cell_type": "code",
   "execution_count": 16,
   "id": "07c319fc",
   "metadata": {
    "ExecuteTime": {
     "end_time": "2024-02-09T14:17:38.855817Z",
     "start_time": "2024-02-09T14:17:38.851508Z"
    }
   },
   "outputs": [
    {
     "data": {
      "text/plain": [
       "36308"
      ]
     },
     "execution_count": 16,
     "metadata": {},
     "output_type": "execute_result"
    }
   ],
   "source": [
    "conversion_rate = 0.13\n",
    "total = sample_n/conversion_rate\n",
    "total = math.ceil(total)\n",
    "total"
   ]
  },
  {
   "cell_type": "code",
   "execution_count": 17,
   "id": "2efc99d5",
   "metadata": {
    "ExecuteTime": {
     "end_time": "2024-02-09T14:17:38.863430Z",
     "start_time": "2024-02-09T14:17:38.858197Z"
    }
   },
   "outputs": [
    {
     "name": "stdout",
     "output_type": "stream",
     "text": [
      "The total people who were tested in control group was: 36308.\n",
      "The total people who were tested in treatment group was: 36308.\n",
      "The total people who were tested in both of the groups was: 72616.\n"
     ]
    }
   ],
   "source": [
    "print(f\"The total people who were tested in control group was: {total}.\")\n",
    "print(f\"The total people who were tested in treatment group was: {total}.\")\n",
    "print(f\"The total people who were tested in both of the groups was: {2*total}.\")"
   ]
  },
  {
   "cell_type": "code",
   "execution_count": 18,
   "id": "6f28f640",
   "metadata": {
    "ExecuteTime": {
     "end_time": "2024-02-09T14:17:38.881483Z",
     "start_time": "2024-02-09T14:17:38.866926Z"
    }
   },
   "outputs": [
    {
     "name": "stdout",
     "output_type": "stream",
     "text": [
      "We have 290584 people in our database.\n"
     ]
    }
   ],
   "source": [
    "print(f\"We have {data['user_id'].nunique()} people in our database.\")"
   ]
  },
  {
   "cell_type": "markdown",
   "id": "3a2cb621",
   "metadata": {},
   "source": [
    "#### Number of samples per conversion difference"
   ]
  },
  {
   "cell_type": "markdown",
   "id": "dc7d0d8f",
   "metadata": {},
   "source": [
    "This section was to evaluate the number of samples based on different values for the new conversion. This experiment was designed with the following assumptions:\n",
    "\n",
    "1. We set the current version (p1) as 0.13.\n",
    "2. The new conversion values vary from 0.14 to 0.30.\n",
    "3. Significance level was 0.05.\n",
    "4. Statistical power equals to 0.80."
   ]
  },
  {
   "cell_type": "code",
   "execution_count": 56,
   "id": "12a220f8",
   "metadata": {
    "ExecuteTime": {
     "end_time": "2024-02-14T19:25:55.597584Z",
     "start_time": "2024-02-14T19:25:54.592360Z"
    }
   },
   "outputs": [],
   "source": [
    "# experiment interval for p2 :: from 0.14 to 0.30 varying by 0.001\n",
    "r = list(np.round(np.arange(0.14, 0.30, 0.001), 3))\n",
    "\n",
    "# confidence level\n",
    "confidence_level = 0.95\n",
    "\n",
    "# significance level \n",
    "significance_level = 1 - confidence_level\n",
    "\n",
    "# current conversion\n",
    "p1 = 0.13\n",
    "\n",
    "# statistical power\n",
    "statistical_power = 0.8\n",
    "\n",
    "# number of samples to be tested based on p2\n",
    "sample_n_list = []\n",
    "\n",
    "for p2 in r:\n",
    "    # effect size\n",
    "    effect_size = sms.proportion_effectsize(p1, p2)\n",
    "    \n",
    "    #sample size\n",
    "    sample_n = sms.NormalIndPower().solve_power(\n",
    "                    effect_size=effect_size,\n",
    "                    power=statistical_power,\n",
    "                    alpha=significance_level\n",
    "    )\n",
    "    \n",
    "    sample_n = math.ceil(sample_n)\n",
    "    sample_n_list.append(sample_n)"
   ]
  },
  {
   "cell_type": "code",
   "execution_count": 69,
   "id": "5958cfcc",
   "metadata": {
    "ExecuteTime": {
     "end_time": "2024-02-14T19:48:55.366312Z",
     "start_time": "2024-02-14T19:48:55.167134Z"
    }
   },
   "outputs": [
    {
     "data": {
      "image/png": "[encoded data removed]",
      "text/plain": [
       "<Figure size 2000x1000 with 1 Axes>"
      ]
     },
     "metadata": {},
     "output_type": "display_data"
    }
   ],
   "source": [
    "plt.figure(figsize=(20,10))\n",
    "sns.lineplot(x=r, y=sample_n_list, color=\"black\")\n",
    "plt.xlabel(\"New conversions tested (-)\", fontsize=14)\n",
    "plt.ylabel(\"Number of samples (-)\", fontsize=14)\n",
    "plt.title(\"Number of samples based on the new conversion values\", fontsize=16);"
   ]
  },
  {
   "cell_type": "markdown",
   "id": "f0111a8d",
   "metadata": {},
   "source": [
    "Lower new conversion values result in lower conversion values differences. For lower differences, we need a high number of samples to observe a significant statistical difference in the hypotheses - that's what we see in the graph. However, for higher differences in the conversion values, we need more and more lower values for the number of samples to observe a significant statistical difference in the hypotheses.\n",
    "\n",
    "        - If we want to test 1% difference of improvement in the conversion, we need thousands of samples.\n",
    "        - But if we want to test a 10% difference or higher, we do not need big amounts of samples.\n",
    "        \n",
    "    That means it is harder and harder to prove there is a significant difference when we see few differences."
   ]
  },
  {
   "cell_type": "code",
   "execution_count": null,
   "id": "97d30714",
   "metadata": {},
   "outputs": [],
   "source": []
  },
  {
   "cell_type": "code",
   "execution_count": null,
   "id": "23d2c991",
   "metadata": {},
   "outputs": [],
   "source": []
  },
  {
   "cell_type": "code",
   "execution_count": null,
   "id": "ab5a7153",
   "metadata": {},
   "outputs": [],
   "source": []
  }
 ],
 "metadata": {
  "kernelspec": {
   "display_name": "Python 3 (ipykernel)",
   "language": "python",
   "name": "python3"
  },
  "language_info": {
   "codemirror_mode": {
    "name": "ipython",
    "version": 3
   },
   "file_extension": ".py",
   "mimetype": "text/x-python",
   "name": "python",
   "nbconvert_exporter": "python",
   "pygments_lexer": "ipython3",
   "version": "3.9.13"
  }
 },
 "nbformat": 4,
 "nbformat_minor": 5
}
