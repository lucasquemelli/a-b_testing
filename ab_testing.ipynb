{
 "cells": [
  {
   "cell_type": "markdown",
   "id": "f7a4f185",
   "metadata": {},
   "source": [
    "# A/B Testing Motivation"
   ]
  },
  {
   "cell_type": "markdown",
   "id": "5e2eefba",
   "metadata": {},
   "source": [
    "We have a current webpage. We want to implement a new webpage which is desired to have 2% higher of conversion. To measure the efficiency of the B-webpage, we must have two groups:\n",
    "\n",
    "        - Group A: Control group, which is the one we evaluate the conversion of A-webpage.\n",
    "        - Group B: Treatment group, which is the one we evaluate the performance of the B-webpage.\n",
    "        \n",
    "Thus, we will compare the performance of each webpage. The test must be performed by taking a sample from the population. "
   ]
  },
  {
   "cell_type": "markdown",
   "id": "5101fdf3",
   "metadata": {},
   "source": [
    "#### Execution\n",
    "\n",
    "- The groups must be homogeneous between each other. We have to create 2 groups randomly.\n",
    "- We have to assure that the difference between conversions are not from the randomness of the samples and the sample size. We may avoid this problem by using a statistical inference method to decide if whether the data can support a particular hypothesis.\n",
    "- To construct the hypothesis:\n",
    "\n",
    "        A: the current scenario (status quo), without modifications. (null hypothesis)\n",
    "            \n",
    "        B: the new scenario, with some new implementation or modification. (alternative hypothesis)\n",
    "        \n",
    "#### Rational\n",
    "\n",
    "\n",
    "**1.** We assume the **hypothesis A** as true. By doing this, we assume that there is no difference between the webpages. **(null hypothesis)**\n",
    "\n",
    "**2.** By assuming **hypothesis A** as true and that there is no difference between the pages, if we observe a conversion value very far from each other, it may be caused by the experiment randomness.\n",
    "\n",
    "**3.** If the probability (p-value) of happening the difference between the pages (null hypothesis) is very high: the randomness effect is so low that we may admit that the difference is caused by the pages. \n",
    "\n",
    "        That means: If the p-value is low, we reject the null hypothesis in favor of the alternative hypothesis. If it is high, we do not have enough evidence to reject the null hypothesis.\n",
    "        \n",
    "        The \"high value\" means higher than an alpha value (confidence value) we define. Usually, alpha is 0.05. Alpha is the maximum of randomness we admit.\n",
    "        \n",
    "**The main rational is:** if the probability **(p-value)** of happening the null hypothesis is higher than the maximum randomness **(alpha)** we admitted, therefore the null hypothesis is \"more important\" than randomness and we cannot reject null hypothesis - because we have low effect of randomness. But if the p-value is lower than the maximum randomness we admitted, thus the randomness is \"more important\" than the null hypothesis and therefore we may reject the null hypothesis. \n",
    "        "
   ]
  },
  {
   "cell_type": "markdown",
   "id": "bd350226",
   "metadata": {},
   "source": [
    "# Libraries"
   ]
  },
  {
   "cell_type": "code",
   "execution_count": 1,
   "id": "172fb496",
   "metadata": {
    "ExecuteTime": {
     "end_time": "2024-02-29T13:33:10.011710Z",
     "start_time": "2024-02-29T13:33:03.002007Z"
    }
   },
   "outputs": [],
   "source": [
    "import pandas as pd\n"
   ]
  },
  {
   "cell_type": "code",
   "execution_count": 2,
   "id": "5bd9a9dd",
   "metadata": {
    "ExecuteTime": {
     "end_time": "2024-02-29T13:33:20.365413Z",
     "start_time": "2024-02-29T13:33:10.014789Z"
    }
   },
   "outputs": [],
   "source": [
    "import numpy as np\n",
    "import math\n",
    "import pingouin as pg\n",
    "import seaborn as sns\n",
    "from statsmodels.stats import api as sms\n",
    "from matplotlib import pyplot as plt\n",
    "from scipy.stats import ttest_1samp, shapiro, ttest_ind, mannwhitneyu, norm, f_oneway, chi2_contingency\n",
    "from statsmodels.stats.multicomp import pairwise_tukeyhsd"
   ]
  },
  {
   "cell_type": "markdown",
   "id": "eb97157a",
   "metadata": {},
   "source": [
    "# Loading Data"
   ]
  },
  {
   "cell_type": "code",
   "execution_count": 3,
   "id": "e4e1ae59",
   "metadata": {
    "ExecuteTime": {
     "end_time": "2024-02-29T13:33:20.376124Z",
     "start_time": "2024-02-29T13:33:20.367100Z"
    }
   },
   "outputs": [
    {
     "data": {
      "text/plain": [
       "'/Users/lucasquemelli/Documents/repos/AB testing'"
      ]
     },
     "execution_count": 3,
     "metadata": {},
     "output_type": "execute_result"
    }
   ],
   "source": [
    "pwd"
   ]
  },
  {
   "cell_type": "code",
   "execution_count": 4,
   "id": "2db09fb8",
   "metadata": {
    "ExecuteTime": {
     "end_time": "2024-02-29T13:33:20.680760Z",
     "start_time": "2024-02-29T13:33:20.378818Z"
    }
   },
   "outputs": [],
   "source": [
    "data = pd.read_csv(\"/Users/lucasquemelli/Documents/repos/AB testing/ab_data.csv\")"
   ]
  },
  {
   "cell_type": "code",
   "execution_count": 5,
   "id": "e9176c60",
   "metadata": {
    "ExecuteTime": {
     "end_time": "2024-02-29T13:33:20.692931Z",
     "start_time": "2024-02-29T13:33:20.682796Z"
    }
   },
   "outputs": [
    {
     "data": {
      "text/html": [
       "<div>\n",
       "<style scoped>\n",
       "    .dataframe tbody tr th:only-of-type {\n",
       "        vertical-align: middle;\n",
       "    }\n",
       "\n",
       "    .dataframe tbody tr th {\n",
       "        vertical-align: top;\n",
       "    }\n",
       "\n",
       "    .dataframe thead th {\n",
       "        text-align: right;\n",
       "    }\n",
       "</style>\n",
       "<table border=\"1\" class=\"dataframe\">\n",
       "  <thead>\n",
       "    <tr style=\"text-align: right;\">\n",
       "      <th></th>\n",
       "      <th>user_id</th>\n",
       "      <th>timestamp</th>\n",
       "      <th>group</th>\n",
       "      <th>landing_page</th>\n",
       "      <th>converted</th>\n",
       "    </tr>\n",
       "  </thead>\n",
       "  <tbody>\n",
       "    <tr>\n",
       "      <th>0</th>\n",
       "      <td>851104</td>\n",
       "      <td>2017-01-21 22:11:48.556739</td>\n",
       "      <td>control</td>\n",
       "      <td>old_page</td>\n",
       "      <td>0</td>\n",
       "    </tr>\n",
       "    <tr>\n",
       "      <th>1</th>\n",
       "      <td>804228</td>\n",
       "      <td>2017-01-12 08:01:45.159739</td>\n",
       "      <td>control</td>\n",
       "      <td>old_page</td>\n",
       "      <td>0</td>\n",
       "    </tr>\n",
       "    <tr>\n",
       "      <th>2</th>\n",
       "      <td>661590</td>\n",
       "      <td>2017-01-11 16:55:06.154213</td>\n",
       "      <td>treatment</td>\n",
       "      <td>new_page</td>\n",
       "      <td>0</td>\n",
       "    </tr>\n",
       "    <tr>\n",
       "      <th>3</th>\n",
       "      <td>853541</td>\n",
       "      <td>2017-01-08 18:28:03.143765</td>\n",
       "      <td>treatment</td>\n",
       "      <td>new_page</td>\n",
       "      <td>0</td>\n",
       "    </tr>\n",
       "    <tr>\n",
       "      <th>4</th>\n",
       "      <td>864975</td>\n",
       "      <td>2017-01-21 01:52:26.210827</td>\n",
       "      <td>control</td>\n",
       "      <td>old_page</td>\n",
       "      <td>1</td>\n",
       "    </tr>\n",
       "  </tbody>\n",
       "</table>\n",
       "</div>"
      ],
      "text/plain": [
       "   user_id                   timestamp      group landing_page  converted\n",
       "0   851104  2017-01-21 22:11:48.556739    control     old_page          0\n",
       "1   804228  2017-01-12 08:01:45.159739    control     old_page          0\n",
       "2   661590  2017-01-11 16:55:06.154213  treatment     new_page          0\n",
       "3   853541  2017-01-08 18:28:03.143765  treatment     new_page          0\n",
       "4   864975  2017-01-21 01:52:26.210827    control     old_page          1"
      ]
     },
     "execution_count": 5,
     "metadata": {},
     "output_type": "execute_result"
    }
   ],
   "source": [
    "data.head()"
   ]
  },
  {
   "cell_type": "code",
   "execution_count": 6,
   "id": "0bdc660c",
   "metadata": {
    "ExecuteTime": {
     "end_time": "2024-02-29T13:33:20.699986Z",
     "start_time": "2024-02-29T13:33:20.695161Z"
    }
   },
   "outputs": [
    {
     "data": {
      "text/plain": [
       "(294478, 5)"
      ]
     },
     "execution_count": 6,
     "metadata": {},
     "output_type": "execute_result"
    }
   ],
   "source": [
    "data.shape"
   ]
  },
  {
   "cell_type": "markdown",
   "id": "a349d107",
   "metadata": {},
   "source": [
    "# 1. Experiment Design"
   ]
  },
  {
   "cell_type": "markdown",
   "id": "a5980198",
   "metadata": {},
   "source": [
    "Based on the bussiness, we must define the hypotheses and the type of the test. We cannot use both of the tests mentioned below, we must choose only one."
   ]
  },
  {
   "cell_type": "markdown",
   "id": "2e3a9569",
   "metadata": {},
   "source": [
    "## 1.1. Formulation of Hypotheses"
   ]
  },
  {
   "cell_type": "markdown",
   "id": "2882bd3e",
   "metadata": {},
   "source": [
    "As we already defined above, the hypotheses are as follows:\n",
    "\n",
    "**1. Hypothesis A**: we assume that there is no difference between the webpages. **(null hypothesis)**\n",
    "\n",
    "**2. Hypothesis B:** we assume that there is significant difference between the webpages. **(alternative hypothesis)**"
   ]
  },
  {
   "cell_type": "markdown",
   "id": "3bf9c5c1",
   "metadata": {},
   "source": [
    "## 1.2. One-tailed Test"
   ]
  },
  {
   "cell_type": "markdown",
   "id": "1cc9bfa5",
   "metadata": {},
   "source": [
    "A one-tailed test, also known as a one-sided test, is a statistical test used to determine if the sample data falls into a specific direction from the hypothesized population parameter. In a one-tailed test, the alternative hypothesis specifies a particular direction of the effect or difference being tested.\n",
    "\n",
    "For example, if we are testing whether a new drug increases the average lifespan of patients, the one-tailed test would focus on whether the drug increases lifespan without considering the possibility of it decreasing lifespan.\n",
    "\n",
    "The decision to use a one-tailed test depends on the specific research question and the directional hypothesis being tested. One-tailed tests are often used when there is strong theoretical or practical justification to expect an effect in a specific direction.\n",
    "\n",
    "It's important to note that one-tailed tests can be more powerful than two-tailed tests in detecting effects in the specified direction, but they also carry the risk of overlooking effects in the opposite direction. Therefore, researchers should carefully consider the choice of test based on the nature of the research question and the potential consequences of Type I and Type II errors."
   ]
  },
  {
   "cell_type": "markdown",
   "id": "7da54113",
   "metadata": {},
   "source": [
    "- **Null hypothesis:** when the probability of happen the null hypothesis (p<sub>0</sub>) is equal to the probability of happen the alternative hypothesis (p).\n",
    "## H<sub>0</sub>: p = p<sub>0</sub>"
   ]
  },
  {
   "cell_type": "markdown",
   "id": "9d5603ad",
   "metadata": {},
   "source": [
    "- **Alternative hypothesis:** when the probability of happen the alternative hypothesis (p) is higher the probability of happen the null hypothesis (p<sub>0</sub>).\n",
    "## H<sub>1</sub>: p > p<sub>0</sub>"
   ]
  },
  {
   "cell_type": "markdown",
   "id": "be1711ed",
   "metadata": {},
   "source": [
    "**ATTENTION:** to use this test we must aske ourselves if the effect can only goes to one direction. Could that only be higher? Could that only be lower?"
   ]
  },
  {
   "cell_type": "markdown",
   "id": "54c0394f",
   "metadata": {},
   "source": [
    "## 1.3. Two-tailed Test"
   ]
  },
  {
   "cell_type": "markdown",
   "id": "2ddf2b34",
   "metadata": {},
   "source": [
    "By comparing two webpages, the effect is not only one direction: the conversion may be higher or lower. At such a situation we use the two-tailed test."
   ]
  },
  {
   "cell_type": "markdown",
   "id": "e249b7da",
   "metadata": {},
   "source": [
    "A two-tailed test, also known as a two-sided test, is a statistical test used to determine if there is a significant difference between the observed sample data and the hypothesized population parameter in either direction. In a two-tailed test, the alternative hypothesis typically states that the parameter is not equal to a specific value, without specifying a particular direction of the effect.\n",
    "\n",
    "For example, if we are testing whether a new teaching method affects test scores, the two-tailed test would check whether there is a significant difference in test scores, regardless of whether they increase or decrease.\n",
    "\n",
    "The decision to use a two-tailed test is often made when there is no prior expectation or justification for a particular direction of the effect. It allows for a more conservative approach by considering the possibility of differences in both directions.\n",
    "\n",
    "In a two-tailed test, the critical region is split into two equal parts, with rejection regions in both tails of the distribution. The test statistic is compared to the critical values corresponding to the desired level of significance, typically α (alpha), divided equally between the two tails.\n",
    "\n",
    "It's important to note that two-tailed tests are generally less powerful than one-tailed tests for detecting effects in a specific direction. However, they provide a more comprehensive assessment of the data by considering the possibility of differences in both directions.\n",
    "\n",
    "Researchers should carefully consider the choice of test based on the specific research question, the nature of the data, and any prior theoretical or empirical evidence regarding the direction of the effect."
   ]
  },
  {
   "cell_type": "markdown",
   "id": "3a1d7bef",
   "metadata": {},
   "source": [
    "- **Null hypothesis:** when the probability of happen the null hypothesis (p<sub>0</sub>) is equal to the probability of happen the alternative hypothesis (p).\n",
    "## H<sub>0</sub>: p = p<sub>0</sub>"
   ]
  },
  {
   "cell_type": "markdown",
   "id": "7c162230",
   "metadata": {},
   "source": [
    "- **Alternative hypothesis:** when the probability of happen the alternative hypothesis (p) is different of the probability of happen the null hypothesis (p<sub>0</sub>).\n",
    "## H<sub>1</sub>: p <> p<sub>0</sub>"
   ]
  },
  {
   "cell_type": "markdown",
   "id": "b4b3d2a9",
   "metadata": {},
   "source": [
    "## 1.4. Tests Parameters"
   ]
  },
  {
   "cell_type": "markdown",
   "id": "416d7d75",
   "metadata": {},
   "source": [
    "After deciding between one-tailed or two-tailed test, we must define the parameters."
   ]
  },
  {
   "cell_type": "markdown",
   "id": "0b4fc8bb",
   "metadata": {},
   "source": [
    "### 1.4.1. Confidence Level"
   ]
  },
  {
   "cell_type": "markdown",
   "id": "49659b52",
   "metadata": {},
   "source": [
    "The confidence level in an A/B test is the measure of certainty with which you can trust the results of the test. It indicates the probability that the observed difference between groups (for example, the control group and the test group) is true and not merely due to chance.\n",
    "\n",
    "Typically, the confidence level is expressed as a percentage, such as 95% or 99%. A confidence level of 95%, for example, means there is a 95% probability that the observed difference between groups is statistically significant and not just a result of random variability in the data.\n",
    "\n",
    "The higher the chosen confidence level, the more confident you can be in the results of the test. However, it's important to balance the confidence level with sample size and test sensitivity, as very high confidence levels may require very large samples to detect small differences.\n",
    "\n",
    "In summary, the confidence level in an A/B test is a measure of the probability that the observed results are statistically significant and not due to chance, and it's crucial for assessing the validity and reliability of the test results."
   ]
  },
  {
   "cell_type": "code",
   "execution_count": 7,
   "id": "50d651d3",
   "metadata": {
    "ExecuteTime": {
     "end_time": "2024-02-29T13:33:20.704752Z",
     "start_time": "2024-02-29T13:33:20.702082Z"
    }
   },
   "outputs": [],
   "source": [
    "confidence_level = 0.95"
   ]
  },
  {
   "cell_type": "markdown",
   "id": "59cadbdb",
   "metadata": {},
   "source": [
    "### 1.4.2. Significance Level"
   ]
  },
  {
   "cell_type": "markdown",
   "id": "059e6663",
   "metadata": {},
   "source": [
    "This is: 1 - confidence level. "
   ]
  },
  {
   "cell_type": "markdown",
   "id": "fa248c45",
   "metadata": {},
   "source": [
    "The significance level in an A/B test, often denoted as α (alpha), is the probability of incorrectly rejecting the null hypothesis when it is actually true. In other words, it represents the threshold for determining whether an observed difference between groups is statistically significant or simply due to random variability.\n",
    "\n",
    "Typically, the significance level is set before conducting the test and is commonly chosen to be 0.05 (5%) or 0.01 (1%). This means that if the p-value calculated from the test is less than the significance level (e.g., p < 0.05), the null hypothesis is rejected, and the difference between groups is considered statistically significant.\n",
    "\n",
    "Conversely, if the p-value is greater than the significance level, the null hypothesis is not rejected, and the observed difference is not deemed statistically significant.\n",
    "\n",
    "Choosing the significance level involves a trade-off between Type I and Type II errors. A lower significance level (e.g., α = 0.01) reduces the probability of Type I errors (false positives), but increases the likelihood of Type II errors (false negatives). Conversely, a higher significance level (e.g., α = 0.10) decreases the chance of Type II errors but increases the risk of Type I errors.\n",
    "\n",
    "     Type I error: we reject the null hypothesis by understanding the alternative hypothesis is better, but not.\n",
    "                   This is the probability of observing an event that does not exist.\n",
    "         \n",
    "     Type II error: we do not reject the null hypothesis by understanding it is better, but not.\n",
    "                    This is the probability of not observing an event that do exist.\n",
    "\n",
    "In summary, the significance level in an A/B test determines the threshold for determining statistical significance, and it's crucial for interpreting the results and making decisions based on the test outcomes."
   ]
  },
  {
   "cell_type": "code",
   "execution_count": 8,
   "id": "49315493",
   "metadata": {
    "ExecuteTime": {
     "end_time": "2024-02-29T13:33:20.709191Z",
     "start_time": "2024-02-29T13:33:20.706863Z"
    }
   },
   "outputs": [],
   "source": [
    "significance_level = 1 - confidence_level"
   ]
  },
  {
   "cell_type": "markdown",
   "id": "5ad3fe49",
   "metadata": {},
   "source": [
    "### 1.4.3. Sample Size"
   ]
  },
  {
   "cell_type": "markdown",
   "id": "0b01ef96",
   "metadata": {},
   "source": [
    "There are some parameters we must understand before determining the sample size:"
   ]
  },
  {
   "cell_type": "markdown",
   "id": "8757e5d7",
   "metadata": {},
   "source": [
    "- **effect size:** difference between **control** and **treatment** = 12% - 14% = 2%. It is a measure of the magnitude of the difference or effect that you want to detect in the test. Indicates the practical importance of the difference between groups. We have to test the sample size in order to find the optimum effect size.\n",
    "\n",
    "        effect_size = p1 - p2, where p1 is the current conversion and p2 is the new conversion\n",
    "        p1 = 12% = 0.12\n",
    "        p2 = 14% = 0.14, it is defined by the bussiness team\n",
    "        \n",
    "        Larger differences demand less data points. However, Smaller differences demand more data points.\n",
    "        \n",
    "Here we present 4 ways of calculating the effect size. The most famous family to calculate the effect size is D (difference). \n",
    "\n",
    "    1. Cohen's d: difference between the average of the samples (A and B) over global standard deviation.\n",
    "    2. Glass's delta: same as Cohen's d, but over only the standard deviation of the control group.\n",
    "                      Used when there is n-treatment groups (A, B, C,... n test)\n",
    "    3. Hedge's g: it is a type of Cohen's d, but for sample size lower than 20 (n < 20). \n",
    "    4. Cohen's h: used when 2 samples are independent. "
   ]
  },
  {
   "cell_type": "markdown",
   "id": "b76aadb0",
   "metadata": {},
   "source": [
    "1. Cohen's d:\n",
    "\n",
    "        X: Represents the data from one group (e.g., control group).\n",
    "        Y: Represents the data from another group (e.g., experimental group).\n",
    "        \n",
    "        Small Effect Size: d=0.20\n",
    "        Medium Effect Size: d=0.50\n",
    "        Large Effect Size: d=0.80\n",
    "\n",
    "2. Glass's delta:\n",
    "\n",
    "        X: Represents the data from one group.\n",
    "        Y: Represents the data from another group.\n",
    "\n",
    "3. Hedge's g:\n",
    "\n",
    "        X: Represents the data from one group.\n",
    "        Y: Represents the data from another group.\n",
    "        \n",
    "4. Cohen's h:\n",
    "\n",
    "        X: Represents the proportion or rate in one group.\n",
    "        Y: Represents the proportion or rate in another group."
   ]
  },
  {
   "cell_type": "markdown",
   "id": "71948bb0",
   "metadata": {},
   "source": [
    "- **Statistical Power:** It is the probability that a statistical test will detect a real existing effect. It reflects the test's ability to identify significant differences when they actually exist. It is around 80% (standard - better explanation in the next sections). \n",
    "\n",
    "        Type II error is: β = 1 - statistical_power\n",
    "\n",
    "- **Significance Level:** It is the probability of making a Type I error by incorrectly rejecting the null hypothesis. It is typically defined as α and represents the threshold for considering a result as statistically significant. It is 5% for our case. \n",
    "\n",
    "- **Power Equation:** It is an equation that relates the sample size, statistical power, significance level and effect size. It is used to determine the sample size necessary to achieve a given statistical power under certain conditions."
   ]
  },
  {
   "cell_type": "markdown",
   "id": "69f32387",
   "metadata": {},
   "source": [
    "#### Effect Size for two proportions/averages"
   ]
  },
  {
   "cell_type": "markdown",
   "id": "d22e2587",
   "metadata": {},
   "source": [
    "This test must be performed using scalar values, such as propotions and average values."
   ]
  },
  {
   "cell_type": "code",
   "execution_count": 9,
   "id": "726b1007",
   "metadata": {
    "ExecuteTime": {
     "end_time": "2024-02-29T13:33:20.713942Z",
     "start_time": "2024-02-29T13:33:20.711193Z"
    }
   },
   "outputs": [],
   "source": [
    "# effect size parameters\n",
    "p1 = 0.12\n",
    "p2 = 0.14\n",
    "\n",
    "# effect size\n",
    "effect_size = sms.proportion_effectsize(p1, p2)\n",
    "\n",
    "# statistical power\n",
    "statistical_power = 0.8"
   ]
  },
  {
   "cell_type": "code",
   "execution_count": 10,
   "id": "9de36be8",
   "metadata": {
    "ExecuteTime": {
     "end_time": "2024-02-29T13:33:20.722317Z",
     "start_time": "2024-02-29T13:33:20.718636Z"
    }
   },
   "outputs": [
    {
     "data": {
      "text/plain": [
       "-0.05951079608252363"
      ]
     },
     "execution_count": 10,
     "metadata": {},
     "output_type": "execute_result"
    }
   ],
   "source": [
    "effect_size"
   ]
  },
  {
   "cell_type": "markdown",
   "id": "6acdde74",
   "metadata": {},
   "source": [
    "We may also use the method below:"
   ]
  },
  {
   "cell_type": "code",
   "execution_count": 11,
   "id": "227e66d5",
   "metadata": {
    "ExecuteTime": {
     "end_time": "2024-02-29T13:33:20.728942Z",
     "start_time": "2024-02-29T13:33:20.724339Z"
    }
   },
   "outputs": [
    {
     "name": "stdout",
     "output_type": "stream",
     "text": [
      "Cohen's d: -0.059496411730873014\n"
     ]
    }
   ],
   "source": [
    "def cohen_d(p1, p2):\n",
    "    \"\"\"\n",
    "    Calculate Cohen's d effect size for two proportions.\n",
    "    \n",
    "    Parameters:\n",
    "        p1 (float): Proportion for group 1.\n",
    "        p2 (float): Proportion for group 2.\n",
    "    \n",
    "    Returns:\n",
    "        float: Cohen's d effect size.\n",
    "    \"\"\"\n",
    "    return (p1 - p2) / np.sqrt((p1 * (1 - p1) + p2 * (1 - p2)) / 2)\n",
    "\n",
    "# p1 and p2 values\n",
    "p1 = 0.12\n",
    "p2 = 0.14\n",
    "\n",
    "# Cohen's d\n",
    "cohen_d_value = cohen_d(p1, p2)\n",
    "print(\"Cohen's d:\", cohen_d_value)\n"
   ]
  },
  {
   "cell_type": "code",
   "execution_count": 12,
   "id": "21a567b6",
   "metadata": {
    "ExecuteTime": {
     "end_time": "2024-02-29T13:33:20.739208Z",
     "start_time": "2024-02-29T13:33:20.731438Z"
    }
   },
   "outputs": [
    {
     "name": "stdout",
     "output_type": "stream",
     "text": [
      "Glass's delta: -0.057639041770423546\n",
      "Hedge's g: -0.05949137364700735\n",
      "Cohen's h: -0.018942874727734874\n"
     ]
    }
   ],
   "source": [
    "def glass_delta(p1, p2):\n",
    "    \"\"\"\n",
    "    Calculate Glass's delta effect size for two proportions.\n",
    "    \n",
    "    Parameters:\n",
    "        p1 (float): Proportion for group 1.\n",
    "        p2 (float): Proportion for group 2.\n",
    "    \n",
    "    Returns:\n",
    "        float: Glass's delta effect size.\n",
    "    \"\"\"\n",
    "    return (p1 - p2) / np.sqrt(p2 * (1 - p2))\n",
    "\n",
    "def hedges_g(p1, p2, n1, n2):\n",
    "    \"\"\"\n",
    "    Calculate Hedge's g effect size for two proportions.\n",
    "    \n",
    "    Parameters:\n",
    "        p1 (float): Proportion for group 1.\n",
    "        p2 (float): Proportion for group 2.\n",
    "        n1 (int): Sample size for group 1.\n",
    "        n2 (int): Sample size for group 2.\n",
    "    \n",
    "    Returns:\n",
    "        float: Hedge's g effect size.\n",
    "    \"\"\"\n",
    "    d = (p1 - p2) / np.sqrt((p1 * (1 - p1) + p2 * (1 - p2)) / 2)\n",
    "    return d * (1 - 3 / (4 * (n1 + n2 - 9)))\n",
    "\n",
    "def cohen_h(p1, p2):\n",
    "    \"\"\"\n",
    "    Calculate Cohen's h effect size for two proportions.\n",
    "    \n",
    "    Parameters:\n",
    "        p1 (float): Proportion for group 1.\n",
    "        p2 (float): Proportion for group 2.\n",
    "    \n",
    "    Returns:\n",
    "        float: Cohen's h effect size.\n",
    "    \"\"\"\n",
    "    return (2 * np.arcsin(np.sqrt(p1)) - 2 * np.arcsin(np.sqrt(p2))) / np.pi\n",
    "\n",
    "# p1 and p2 values\n",
    "p1 = 0.12\n",
    "p2 = 0.14\n",
    "\n",
    "# sample size for Hedge's g :: calculated in the next section\n",
    "n1 = 4433\n",
    "n2 = 4433\n",
    "\n",
    "# effect size\n",
    "glass_delta_value = glass_delta(p1, p2)\n",
    "hedges_g_value = hedges_g(p1, p2, n1, n2)\n",
    "cohen_h_value = cohen_h(p1, p2)\n",
    "\n",
    "print(\"Glass's delta:\", glass_delta_value)\n",
    "print(\"Hedge's g:\", hedges_g_value)\n",
    "print(\"Cohen's h:\", cohen_h_value)\n"
   ]
  },
  {
   "cell_type": "markdown",
   "id": "90f01205",
   "metadata": {},
   "source": [
    "#### Effect Size for two-dimensional numpy arrays"
   ]
  },
  {
   "cell_type": "markdown",
   "id": "dcfb399a",
   "metadata": {},
   "source": [
    "This test must be performed using two-dimensional arrays. "
   ]
  },
  {
   "cell_type": "code",
   "execution_count": 13,
   "id": "4578221a",
   "metadata": {
    "ExecuteTime": {
     "end_time": "2024-02-29T13:33:20.743953Z",
     "start_time": "2024-02-29T13:33:20.741368Z"
    }
   },
   "outputs": [],
   "source": [
    "# # Cohen's d\n",
    "# pg.compute_effsize(x1, x2, eftype=\"cohen\")\n",
    "\n",
    "# # Glass's delta\n",
    "# pg.compute_effsize(x1, x2, eftype=\"glass\")\n",
    "\n",
    "# # Hedge's g\n",
    "# pg.compute_effsize(x1, x2, eftype=\"hedges\")\n",
    "\n",
    "# # Cohen's h\n",
    "# sms.proportion_effectsize(np.mean(x1), np.mean(x2))"
   ]
  },
  {
   "cell_type": "markdown",
   "id": "e046009b",
   "metadata": {},
   "source": [
    "#### Sample Size"
   ]
  },
  {
   "cell_type": "code",
   "execution_count": 14,
   "id": "63146bb8",
   "metadata": {
    "ExecuteTime": {
     "end_time": "2024-02-29T13:33:20.757785Z",
     "start_time": "2024-02-29T13:33:20.745905Z"
    }
   },
   "outputs": [],
   "source": [
    "#sample size\n",
    "sample_n = sms.NormalIndPower().solve_power(\n",
    "                effect_size=effect_size,\n",
    "                power=statistical_power,\n",
    "                alpha=significance_level\n",
    ")"
   ]
  },
  {
   "cell_type": "code",
   "execution_count": 15,
   "id": "6b59ec42",
   "metadata": {
    "ExecuteTime": {
     "end_time": "2024-02-29T13:33:20.763924Z",
     "start_time": "2024-02-29T13:33:20.759804Z"
    }
   },
   "outputs": [
    {
     "data": {
      "text/plain": [
       "4432.462669953661"
      ]
     },
     "execution_count": 15,
     "metadata": {},
     "output_type": "execute_result"
    }
   ],
   "source": [
    "sample_n"
   ]
  },
  {
   "cell_type": "code",
   "execution_count": 16,
   "id": "89b3f5b2",
   "metadata": {
    "ExecuteTime": {
     "end_time": "2024-02-29T13:33:20.770739Z",
     "start_time": "2024-02-29T13:33:20.765905Z"
    }
   },
   "outputs": [
    {
     "data": {
      "text/plain": [
       "4432"
      ]
     },
     "execution_count": 16,
     "metadata": {},
     "output_type": "execute_result"
    }
   ],
   "source": [
    "np.round(sample_n, 0).astype(int)"
   ]
  },
  {
   "cell_type": "code",
   "execution_count": 17,
   "id": "85b52a81",
   "metadata": {
    "ExecuteTime": {
     "end_time": "2024-02-29T13:33:20.776795Z",
     "start_time": "2024-02-29T13:33:20.772861Z"
    }
   },
   "outputs": [
    {
     "data": {
      "text/plain": [
       "4433"
      ]
     },
     "execution_count": 17,
     "metadata": {},
     "output_type": "execute_result"
    }
   ],
   "source": [
    "math.ceil(sample_n)"
   ]
  },
  {
   "cell_type": "code",
   "execution_count": 18,
   "id": "67fdbe34",
   "metadata": {
    "ExecuteTime": {
     "end_time": "2024-02-29T13:33:20.781587Z",
     "start_time": "2024-02-29T13:33:20.778819Z"
    }
   },
   "outputs": [],
   "source": [
    "sample_n = math.ceil(sample_n)"
   ]
  },
  {
   "cell_type": "code",
   "execution_count": 19,
   "id": "dd4726c9",
   "metadata": {
    "ExecuteTime": {
     "end_time": "2024-02-29T13:33:20.786726Z",
     "start_time": "2024-02-29T13:33:20.783567Z"
    }
   },
   "outputs": [
    {
     "name": "stdout",
     "output_type": "stream",
     "text": [
      "The minimum sample size of the control group is: 4433.\n",
      "The minimum sample size of the treatment group is: 4433.\n",
      "The minimum total sample size is: 8866.\n"
     ]
    }
   ],
   "source": [
    "print(f\"The minimum sample size of the control group is: {sample_n}.\")\n",
    "print(f\"The minimum sample size of the treatment group is: {sample_n}.\")\n",
    "print(f\"The minimum total sample size is: {2*sample_n}.\")"
   ]
  },
  {
   "cell_type": "code",
   "execution_count": 20,
   "id": "6f28f640",
   "metadata": {
    "ExecuteTime": {
     "end_time": "2024-02-29T13:33:20.802368Z",
     "start_time": "2024-02-29T13:33:20.788975Z"
    }
   },
   "outputs": [
    {
     "name": "stdout",
     "output_type": "stream",
     "text": [
      "We have 290584 people in our database.\n"
     ]
    }
   ],
   "source": [
    "print(f\"We have {data['user_id'].nunique()} people in our database.\")"
   ]
  },
  {
   "cell_type": "markdown",
   "id": "7cb2104e",
   "metadata": {},
   "source": [
    "#### Minimum number of samples per conversion difference"
   ]
  },
  {
   "cell_type": "markdown",
   "id": "24faa84a",
   "metadata": {},
   "source": [
    "This section was to evaluate the number of samples based on different values for the new conversion. This experiment was designed with the following assumptions:\n",
    "\n",
    "1. We set the current version (p1) as 0.13.\n",
    "2. The new conversion values vary from 0.14 to 0.30.\n",
    "3. Significance level was 0.05.\n",
    "4. Statistical power equals to 0.80."
   ]
  },
  {
   "cell_type": "code",
   "execution_count": 21,
   "id": "12a220f8",
   "metadata": {
    "ExecuteTime": {
     "end_time": "2024-02-29T13:33:21.696117Z",
     "start_time": "2024-02-29T13:33:20.804628Z"
    }
   },
   "outputs": [],
   "source": [
    "# experiment interval for p2 :: from 0.13 to 0.30 varying by 0.001\n",
    "r = list(np.round(np.arange(0.13, 0.30, 0.001), 3))\n",
    "\n",
    "# confidence level\n",
    "confidence_level = 0.95\n",
    "\n",
    "# significance level \n",
    "significance_level = 1 - confidence_level\n",
    "\n",
    "# current conversion\n",
    "p1 = 0.12\n",
    "\n",
    "# statistical power\n",
    "statistical_power = 0.8\n",
    "\n",
    "# number of samples to be tested based on p2\n",
    "sample_n_list = []\n",
    "\n",
    "for p2 in r:\n",
    "    # effect size\n",
    "    effect_size = sms.proportion_effectsize(p1, p2)\n",
    "    \n",
    "    #sample size\n",
    "    sample_n_test = sms.NormalIndPower().solve_power(\n",
    "                    effect_size=effect_size,\n",
    "                    power=statistical_power,\n",
    "                    alpha=significance_level\n",
    "    )\n",
    "    \n",
    "    sample_n_test = math.ceil(sample_n_test)\n",
    "    sample_n_list.append(sample_n_test)"
   ]
  },
  {
   "cell_type": "code",
   "execution_count": 22,
   "id": "5958cfcc",
   "metadata": {
    "ExecuteTime": {
     "end_time": "2024-02-29T13:33:21.924448Z",
     "start_time": "2024-02-29T13:33:21.697879Z"
    }
   },
   "outputs": [
    {
     "data": {
      "image/png": "[encoded data removed]",
      "text/plain": [
       "<Figure size 2000x1000 with 1 Axes>"
      ]
     },
     "metadata": {},
     "output_type": "display_data"
    }
   ],
   "source": [
    "plt.figure(figsize=(20,10))\n",
    "plt.plot(r, sample_n_list, color=\"black\")\n",
    "\n",
    "plt.xlabel(\"New conversions tested (-)\", fontsize=14)\n",
    "plt.ylabel(\"Number of samples (-)\", fontsize=14)\n",
    "plt.title(\"Minimum number of samples based on the new conversion values\", fontsize=16);"
   ]
  },
  {
   "cell_type": "markdown",
   "id": "88f72e60",
   "metadata": {},
   "source": [
    "Lower new conversion values result in lower conversion values differences. For lower differences, we need a high number of samples to observe a significant statistical difference in the hypotheses - that's what we see in the graph. However, for higher differences in the conversion values, we need more and more lower values for the number of samples to observe a significant statistical difference in the hypotheses.\n",
    "\n",
    "        - If we want to test 1% difference of improvement in the conversion, we need thousands of samples.\n",
    "        - But if we want to test a 10% difference or higher, we do not need big amounts of samples.\n",
    "        \n",
    "    That means it is harder and harder to prove there is a significant difference when we see few differences."
   ]
  },
  {
   "cell_type": "markdown",
   "id": "356ec8cf",
   "metadata": {},
   "source": [
    "## 2. Data Description"
   ]
  },
  {
   "cell_type": "code",
   "execution_count": 23,
   "id": "23d2c991",
   "metadata": {
    "ExecuteTime": {
     "end_time": "2024-02-29T13:33:21.934462Z",
     "start_time": "2024-02-29T13:33:21.926107Z"
    }
   },
   "outputs": [],
   "source": [
    "df2 = data.copy()"
   ]
  },
  {
   "cell_type": "markdown",
   "id": "dd6dff17",
   "metadata": {},
   "source": [
    "## 2.1. Data Fields Meaning"
   ]
  },
  {
   "cell_type": "code",
   "execution_count": 24,
   "id": "b63e2483",
   "metadata": {
    "ExecuteTime": {
     "end_time": "2024-02-29T13:33:21.943290Z",
     "start_time": "2024-02-29T13:33:21.936046Z"
    }
   },
   "outputs": [
    {
     "data": {
      "text/html": [
       "<div>\n",
       "<style scoped>\n",
       "    .dataframe tbody tr th:only-of-type {\n",
       "        vertical-align: middle;\n",
       "    }\n",
       "\n",
       "    .dataframe tbody tr th {\n",
       "        vertical-align: top;\n",
       "    }\n",
       "\n",
       "    .dataframe thead th {\n",
       "        text-align: right;\n",
       "    }\n",
       "</style>\n",
       "<table border=\"1\" class=\"dataframe\">\n",
       "  <thead>\n",
       "    <tr style=\"text-align: right;\">\n",
       "      <th></th>\n",
       "      <th>user_id</th>\n",
       "      <th>timestamp</th>\n",
       "      <th>group</th>\n",
       "      <th>landing_page</th>\n",
       "      <th>converted</th>\n",
       "    </tr>\n",
       "  </thead>\n",
       "  <tbody>\n",
       "    <tr>\n",
       "      <th>0</th>\n",
       "      <td>851104</td>\n",
       "      <td>2017-01-21 22:11:48.556739</td>\n",
       "      <td>control</td>\n",
       "      <td>old_page</td>\n",
       "      <td>0</td>\n",
       "    </tr>\n",
       "    <tr>\n",
       "      <th>1</th>\n",
       "      <td>804228</td>\n",
       "      <td>2017-01-12 08:01:45.159739</td>\n",
       "      <td>control</td>\n",
       "      <td>old_page</td>\n",
       "      <td>0</td>\n",
       "    </tr>\n",
       "    <tr>\n",
       "      <th>2</th>\n",
       "      <td>661590</td>\n",
       "      <td>2017-01-11 16:55:06.154213</td>\n",
       "      <td>treatment</td>\n",
       "      <td>new_page</td>\n",
       "      <td>0</td>\n",
       "    </tr>\n",
       "    <tr>\n",
       "      <th>3</th>\n",
       "      <td>853541</td>\n",
       "      <td>2017-01-08 18:28:03.143765</td>\n",
       "      <td>treatment</td>\n",
       "      <td>new_page</td>\n",
       "      <td>0</td>\n",
       "    </tr>\n",
       "    <tr>\n",
       "      <th>4</th>\n",
       "      <td>864975</td>\n",
       "      <td>2017-01-21 01:52:26.210827</td>\n",
       "      <td>control</td>\n",
       "      <td>old_page</td>\n",
       "      <td>1</td>\n",
       "    </tr>\n",
       "  </tbody>\n",
       "</table>\n",
       "</div>"
      ],
      "text/plain": [
       "   user_id                   timestamp      group landing_page  converted\n",
       "0   851104  2017-01-21 22:11:48.556739    control     old_page          0\n",
       "1   804228  2017-01-12 08:01:45.159739    control     old_page          0\n",
       "2   661590  2017-01-11 16:55:06.154213  treatment     new_page          0\n",
       "3   853541  2017-01-08 18:28:03.143765  treatment     new_page          0\n",
       "4   864975  2017-01-21 01:52:26.210827    control     old_page          1"
      ]
     },
     "execution_count": 24,
     "metadata": {},
     "output_type": "execute_result"
    }
   ],
   "source": [
    "df2.head()"
   ]
  },
  {
   "cell_type": "markdown",
   "id": "08e1da40",
   "metadata": {},
   "source": [
    "- user_id: identification key for each user\n",
    "- timestamp: date and time a user visited a webpage and performed an action (converted or not)\n",
    "- group: whether users are from control or treatment group \n",
    "- landing_page: whether webpage is new or old\n",
    "- converted: whether the user purchased or not using the webpage"
   ]
  },
  {
   "cell_type": "markdown",
   "id": "d76dd7fa",
   "metadata": {},
   "source": [
    "## 2.2. Data Dimensions"
   ]
  },
  {
   "cell_type": "code",
   "execution_count": 25,
   "id": "d4b106dc",
   "metadata": {
    "ExecuteTime": {
     "end_time": "2024-02-29T13:33:21.948497Z",
     "start_time": "2024-02-29T13:33:21.945371Z"
    }
   },
   "outputs": [
    {
     "name": "stdout",
     "output_type": "stream",
     "text": [
      "Number of rows: 294478\n",
      "Number of cols: 5\n"
     ]
    }
   ],
   "source": [
    "print(\"Number of rows: {}\".format(df2.shape[0]))\n",
    "print(\"Number of cols: {}\".format(df2.shape[1]))"
   ]
  },
  {
   "cell_type": "markdown",
   "id": "2c139682",
   "metadata": {},
   "source": [
    "## 2.3. Data Types"
   ]
  },
  {
   "cell_type": "code",
   "execution_count": 26,
   "id": "31645c23",
   "metadata": {
    "ExecuteTime": {
     "end_time": "2024-02-29T13:33:21.955215Z",
     "start_time": "2024-02-29T13:33:21.950559Z"
    }
   },
   "outputs": [
    {
     "data": {
      "text/plain": [
       "user_id          int64\n",
       "timestamp       object\n",
       "group           object\n",
       "landing_page    object\n",
       "converted        int64\n",
       "dtype: object"
      ]
     },
     "execution_count": 26,
     "metadata": {},
     "output_type": "execute_result"
    }
   ],
   "source": [
    "df2.dtypes"
   ]
  },
  {
   "cell_type": "code",
   "execution_count": 27,
   "id": "61f299a3",
   "metadata": {
    "ExecuteTime": {
     "end_time": "2024-02-29T13:33:22.001127Z",
     "start_time": "2024-02-29T13:33:21.957293Z"
    }
   },
   "outputs": [
    {
     "name": "stdout",
     "output_type": "stream",
     "text": [
      "<class 'pandas.core.frame.DataFrame'>\n",
      "RangeIndex: 294478 entries, 0 to 294477\n",
      "Data columns (total 5 columns):\n",
      " #   Column        Non-Null Count   Dtype \n",
      "---  ------        --------------   ----- \n",
      " 0   user_id       294478 non-null  int64 \n",
      " 1   timestamp     294478 non-null  object\n",
      " 2   group         294478 non-null  object\n",
      " 3   landing_page  294478 non-null  object\n",
      " 4   converted     294478 non-null  int64 \n",
      "dtypes: int64(2), object(3)\n",
      "memory usage: 11.2+ MB\n"
     ]
    }
   ],
   "source": [
    "df2.info()"
   ]
  },
  {
   "cell_type": "code",
   "execution_count": 28,
   "id": "1cc659f9",
   "metadata": {
    "ExecuteTime": {
     "end_time": "2024-02-29T13:33:22.087041Z",
     "start_time": "2024-02-29T13:33:22.012709Z"
    }
   },
   "outputs": [],
   "source": [
    "df2[\"timestamp\"] = pd.to_datetime(df2[\"timestamp\"])"
   ]
  },
  {
   "cell_type": "code",
   "execution_count": 29,
   "id": "e9a72276",
   "metadata": {
    "ExecuteTime": {
     "end_time": "2024-02-29T13:33:22.094054Z",
     "start_time": "2024-02-29T13:33:22.088850Z"
    }
   },
   "outputs": [
    {
     "data": {
      "text/plain": [
       "user_id                  int64\n",
       "timestamp       datetime64[ns]\n",
       "group                   object\n",
       "landing_page            object\n",
       "converted                int64\n",
       "dtype: object"
      ]
     },
     "execution_count": 29,
     "metadata": {},
     "output_type": "execute_result"
    }
   ],
   "source": [
    "df2.dtypes"
   ]
  },
  {
   "cell_type": "code",
   "execution_count": 30,
   "id": "c8b5b080",
   "metadata": {
    "ExecuteTime": {
     "end_time": "2024-02-29T13:33:22.103968Z",
     "start_time": "2024-02-29T13:33:22.096248Z"
    }
   },
   "outputs": [
    {
     "data": {
      "text/html": [
       "<div>\n",
       "<style scoped>\n",
       "    .dataframe tbody tr th:only-of-type {\n",
       "        vertical-align: middle;\n",
       "    }\n",
       "\n",
       "    .dataframe tbody tr th {\n",
       "        vertical-align: top;\n",
       "    }\n",
       "\n",
       "    .dataframe thead th {\n",
       "        text-align: right;\n",
       "    }\n",
       "</style>\n",
       "<table border=\"1\" class=\"dataframe\">\n",
       "  <thead>\n",
       "    <tr style=\"text-align: right;\">\n",
       "      <th></th>\n",
       "      <th>user_id</th>\n",
       "      <th>timestamp</th>\n",
       "      <th>group</th>\n",
       "      <th>landing_page</th>\n",
       "      <th>converted</th>\n",
       "    </tr>\n",
       "  </thead>\n",
       "  <tbody>\n",
       "    <tr>\n",
       "      <th>0</th>\n",
       "      <td>851104</td>\n",
       "      <td>2017-01-21 22:11:48.556739</td>\n",
       "      <td>control</td>\n",
       "      <td>old_page</td>\n",
       "      <td>0</td>\n",
       "    </tr>\n",
       "    <tr>\n",
       "      <th>1</th>\n",
       "      <td>804228</td>\n",
       "      <td>2017-01-12 08:01:45.159739</td>\n",
       "      <td>control</td>\n",
       "      <td>old_page</td>\n",
       "      <td>0</td>\n",
       "    </tr>\n",
       "    <tr>\n",
       "      <th>2</th>\n",
       "      <td>661590</td>\n",
       "      <td>2017-01-11 16:55:06.154213</td>\n",
       "      <td>treatment</td>\n",
       "      <td>new_page</td>\n",
       "      <td>0</td>\n",
       "    </tr>\n",
       "    <tr>\n",
       "      <th>3</th>\n",
       "      <td>853541</td>\n",
       "      <td>2017-01-08 18:28:03.143765</td>\n",
       "      <td>treatment</td>\n",
       "      <td>new_page</td>\n",
       "      <td>0</td>\n",
       "    </tr>\n",
       "    <tr>\n",
       "      <th>4</th>\n",
       "      <td>864975</td>\n",
       "      <td>2017-01-21 01:52:26.210827</td>\n",
       "      <td>control</td>\n",
       "      <td>old_page</td>\n",
       "      <td>1</td>\n",
       "    </tr>\n",
       "  </tbody>\n",
       "</table>\n",
       "</div>"
      ],
      "text/plain": [
       "   user_id                  timestamp      group landing_page  converted\n",
       "0   851104 2017-01-21 22:11:48.556739    control     old_page          0\n",
       "1   804228 2017-01-12 08:01:45.159739    control     old_page          0\n",
       "2   661590 2017-01-11 16:55:06.154213  treatment     new_page          0\n",
       "3   853541 2017-01-08 18:28:03.143765  treatment     new_page          0\n",
       "4   864975 2017-01-21 01:52:26.210827    control     old_page          1"
      ]
     },
     "execution_count": 30,
     "metadata": {},
     "output_type": "execute_result"
    }
   ],
   "source": [
    "df2.head()"
   ]
  },
  {
   "cell_type": "markdown",
   "id": "acc55062",
   "metadata": {},
   "source": [
    "## 2.4. Na Check"
   ]
  },
  {
   "cell_type": "code",
   "execution_count": 31,
   "id": "6520ee73",
   "metadata": {
    "ExecuteTime": {
     "end_time": "2024-02-29T13:33:22.133786Z",
     "start_time": "2024-02-29T13:33:22.105806Z"
    }
   },
   "outputs": [
    {
     "data": {
      "text/plain": [
       "user_id         0\n",
       "timestamp       0\n",
       "group           0\n",
       "landing_page    0\n",
       "converted       0\n",
       "dtype: int64"
      ]
     },
     "execution_count": 31,
     "metadata": {},
     "output_type": "execute_result"
    }
   ],
   "source": [
    "df2.isna().sum()"
   ]
  },
  {
   "cell_type": "markdown",
   "id": "ed7da6df",
   "metadata": {},
   "source": [
    "## 2.5. Flag Analysis"
   ]
  },
  {
   "cell_type": "markdown",
   "id": "b3851332",
   "metadata": {},
   "source": [
    "We must assure people from control group are not in the treatment group and vice-versa. "
   ]
  },
  {
   "cell_type": "code",
   "execution_count": 32,
   "id": "37cb3c8d",
   "metadata": {
    "ExecuteTime": {
     "end_time": "2024-02-29T13:33:22.194932Z",
     "start_time": "2024-02-29T13:33:22.135652Z"
    }
   },
   "outputs": [
    {
     "data": {
      "text/html": [
       "<div>\n",
       "<style scoped>\n",
       "    .dataframe tbody tr th:only-of-type {\n",
       "        vertical-align: middle;\n",
       "    }\n",
       "\n",
       "    .dataframe tbody tr th {\n",
       "        vertical-align: top;\n",
       "    }\n",
       "\n",
       "    .dataframe thead th {\n",
       "        text-align: right;\n",
       "    }\n",
       "</style>\n",
       "<table border=\"1\" class=\"dataframe\">\n",
       "  <thead>\n",
       "    <tr style=\"text-align: right;\">\n",
       "      <th></th>\n",
       "      <th>group</th>\n",
       "      <th>landing_page</th>\n",
       "      <th>user_id</th>\n",
       "    </tr>\n",
       "  </thead>\n",
       "  <tbody>\n",
       "    <tr>\n",
       "      <th>0</th>\n",
       "      <td>control</td>\n",
       "      <td>new_page</td>\n",
       "      <td>1928</td>\n",
       "    </tr>\n",
       "    <tr>\n",
       "      <th>1</th>\n",
       "      <td>control</td>\n",
       "      <td>old_page</td>\n",
       "      <td>145274</td>\n",
       "    </tr>\n",
       "    <tr>\n",
       "      <th>2</th>\n",
       "      <td>treatment</td>\n",
       "      <td>new_page</td>\n",
       "      <td>145311</td>\n",
       "    </tr>\n",
       "    <tr>\n",
       "      <th>3</th>\n",
       "      <td>treatment</td>\n",
       "      <td>old_page</td>\n",
       "      <td>1965</td>\n",
       "    </tr>\n",
       "  </tbody>\n",
       "</table>\n",
       "</div>"
      ],
      "text/plain": [
       "       group landing_page  user_id\n",
       "0    control     new_page     1928\n",
       "1    control     old_page   145274\n",
       "2  treatment     new_page   145311\n",
       "3  treatment     old_page     1965"
      ]
     },
     "execution_count": 32,
     "metadata": {},
     "output_type": "execute_result"
    }
   ],
   "source": [
    "df2[[\"user_id\", \"group\", \"landing_page\"]].groupby([\"group\", \"landing_page\"]).count().reset_index()"
   ]
  },
  {
   "cell_type": "markdown",
   "id": "6192c47d",
   "metadata": {},
   "source": [
    "Since control group should only see the old page and treatment group the new page, we have duplicated people in:\n",
    "\n",
    "- **control and new page:** 1928.\n",
    "- **treatment and old page:** 1965."
   ]
  },
  {
   "cell_type": "markdown",
   "id": "3d259c94",
   "metadata": {},
   "source": [
    "Let's analyze now how many people and which of them are in both of the groups:"
   ]
  },
  {
   "cell_type": "code",
   "execution_count": 33,
   "id": "4a17de3a",
   "metadata": {
    "ExecuteTime": {
     "end_time": "2024-02-29T13:33:22.303733Z",
     "start_time": "2024-02-29T13:33:22.197068Z"
    }
   },
   "outputs": [
    {
     "data": {
      "text/html": [
       "<div>\n",
       "<style scoped>\n",
       "    .dataframe tbody tr th:only-of-type {\n",
       "        vertical-align: middle;\n",
       "    }\n",
       "\n",
       "    .dataframe tbody tr th {\n",
       "        vertical-align: top;\n",
       "    }\n",
       "\n",
       "    .dataframe thead th {\n",
       "        text-align: right;\n",
       "    }\n",
       "</style>\n",
       "<table border=\"1\" class=\"dataframe\">\n",
       "  <thead>\n",
       "    <tr style=\"text-align: right;\">\n",
       "      <th></th>\n",
       "      <th>user_id</th>\n",
       "      <th>group</th>\n",
       "    </tr>\n",
       "  </thead>\n",
       "  <tbody>\n",
       "    <tr>\n",
       "      <th>91655</th>\n",
       "      <td>729669</td>\n",
       "      <td>2</td>\n",
       "    </tr>\n",
       "    <tr>\n",
       "      <th>179531</th>\n",
       "      <td>825266</td>\n",
       "      <td>2</td>\n",
       "    </tr>\n",
       "    <tr>\n",
       "      <th>30345</th>\n",
       "      <td>663033</td>\n",
       "      <td>2</td>\n",
       "    </tr>\n",
       "    <tr>\n",
       "      <th>41348</th>\n",
       "      <td>674959</td>\n",
       "      <td>2</td>\n",
       "    </tr>\n",
       "    <tr>\n",
       "      <th>225511</th>\n",
       "      <td>875210</td>\n",
       "      <td>2</td>\n",
       "    </tr>\n",
       "    <tr>\n",
       "      <th>45345</th>\n",
       "      <td>679326</td>\n",
       "      <td>2</td>\n",
       "    </tr>\n",
       "    <tr>\n",
       "      <th>277617</th>\n",
       "      <td>931907</td>\n",
       "      <td>2</td>\n",
       "    </tr>\n",
       "    <tr>\n",
       "      <th>221100</th>\n",
       "      <td>870418</td>\n",
       "      <td>2</td>\n",
       "    </tr>\n",
       "    <tr>\n",
       "      <th>77696</th>\n",
       "      <td>714496</td>\n",
       "      <td>2</td>\n",
       "    </tr>\n",
       "    <tr>\n",
       "      <th>70438</th>\n",
       "      <td>706601</td>\n",
       "      <td>2</td>\n",
       "    </tr>\n",
       "  </tbody>\n",
       "</table>\n",
       "</div>"
      ],
      "text/plain": [
       "        user_id  group\n",
       "91655    729669      2\n",
       "179531   825266      2\n",
       "30345    663033      2\n",
       "41348    674959      2\n",
       "225511   875210      2\n",
       "45345    679326      2\n",
       "277617   931907      2\n",
       "221100   870418      2\n",
       "77696    714496      2\n",
       "70438    706601      2"
      ]
     },
     "execution_count": 33,
     "metadata": {},
     "output_type": "execute_result"
    }
   ],
   "source": [
    "df2[[\"user_id\", \"group\"]].groupby(\"user_id\").count().reset_index().sort_values(\"group\", ascending=False).head(10)"
   ]
  },
  {
   "cell_type": "code",
   "execution_count": 34,
   "id": "5684afe7",
   "metadata": {
    "ExecuteTime": {
     "end_time": "2024-02-29T13:33:22.402847Z",
     "start_time": "2024-02-29T13:33:22.305638Z"
    }
   },
   "outputs": [
    {
     "data": {
      "text/html": [
       "<div>\n",
       "<style scoped>\n",
       "    .dataframe tbody tr th:only-of-type {\n",
       "        vertical-align: middle;\n",
       "    }\n",
       "\n",
       "    .dataframe tbody tr th {\n",
       "        vertical-align: top;\n",
       "    }\n",
       "\n",
       "    .dataframe thead th {\n",
       "        text-align: right;\n",
       "    }\n",
       "</style>\n",
       "<table border=\"1\" class=\"dataframe\">\n",
       "  <thead>\n",
       "    <tr style=\"text-align: right;\">\n",
       "      <th></th>\n",
       "      <th>user_id</th>\n",
       "      <th>group</th>\n",
       "    </tr>\n",
       "  </thead>\n",
       "  <tbody>\n",
       "    <tr>\n",
       "      <th>43</th>\n",
       "      <td>630052</td>\n",
       "      <td>2</td>\n",
       "    </tr>\n",
       "    <tr>\n",
       "      <th>111</th>\n",
       "      <td>630126</td>\n",
       "      <td>2</td>\n",
       "    </tr>\n",
       "    <tr>\n",
       "      <th>122</th>\n",
       "      <td>630137</td>\n",
       "      <td>2</td>\n",
       "    </tr>\n",
       "    <tr>\n",
       "      <th>281</th>\n",
       "      <td>630320</td>\n",
       "      <td>2</td>\n",
       "    </tr>\n",
       "    <tr>\n",
       "      <th>420</th>\n",
       "      <td>630471</td>\n",
       "      <td>2</td>\n",
       "    </tr>\n",
       "    <tr>\n",
       "      <th>...</th>\n",
       "      <td>...</td>\n",
       "      <td>...</td>\n",
       "    </tr>\n",
       "    <tr>\n",
       "      <th>290244</th>\n",
       "      <td>945627</td>\n",
       "      <td>2</td>\n",
       "    </tr>\n",
       "    <tr>\n",
       "      <th>290259</th>\n",
       "      <td>945645</td>\n",
       "      <td>2</td>\n",
       "    </tr>\n",
       "    <tr>\n",
       "      <th>290315</th>\n",
       "      <td>945703</td>\n",
       "      <td>2</td>\n",
       "    </tr>\n",
       "    <tr>\n",
       "      <th>290399</th>\n",
       "      <td>945797</td>\n",
       "      <td>2</td>\n",
       "    </tr>\n",
       "    <tr>\n",
       "      <th>290556</th>\n",
       "      <td>945971</td>\n",
       "      <td>2</td>\n",
       "    </tr>\n",
       "  </tbody>\n",
       "</table>\n",
       "<p>3894 rows × 2 columns</p>\n",
       "</div>"
      ],
      "text/plain": [
       "        user_id  group\n",
       "43       630052      2\n",
       "111      630126      2\n",
       "122      630137      2\n",
       "281      630320      2\n",
       "420      630471      2\n",
       "...         ...    ...\n",
       "290244   945627      2\n",
       "290259   945645      2\n",
       "290315   945703      2\n",
       "290399   945797      2\n",
       "290556   945971      2\n",
       "\n",
       "[3894 rows x 2 columns]"
      ]
     },
     "execution_count": 34,
     "metadata": {},
     "output_type": "execute_result"
    }
   ],
   "source": [
    "df2[[\"user_id\", \"group\"]].groupby(\"user_id\").count().reset_index().query(\"group > 1\")"
   ]
  },
  {
   "cell_type": "code",
   "execution_count": 35,
   "id": "92d1f595",
   "metadata": {
    "ExecuteTime": {
     "end_time": "2024-02-29T13:33:22.516165Z",
     "start_time": "2024-02-29T13:33:22.404858Z"
    }
   },
   "outputs": [],
   "source": [
    "# saving users which are duplicated\n",
    "df_user_del = df2[[\"user_id\", \"group\"]].groupby(\"user_id\").count().reset_index().query(\"group > 1\")[\"user_id\"]\n",
    "\n",
    "# removing duplicated user_id\n",
    "df2 = df2[~df2[\"user_id\"].isin(df_user_del)]"
   ]
  },
  {
   "cell_type": "code",
   "execution_count": 36,
   "id": "d6ac821c",
   "metadata": {
    "ExecuteTime": {
     "end_time": "2024-02-29T13:33:22.522229Z",
     "start_time": "2024-02-29T13:33:22.518407Z"
    }
   },
   "outputs": [
    {
     "data": {
      "text/plain": [
       "(286690, 5)"
      ]
     },
     "execution_count": 36,
     "metadata": {},
     "output_type": "execute_result"
    }
   ],
   "source": [
    "df2.shape"
   ]
  },
  {
   "cell_type": "code",
   "execution_count": 37,
   "id": "e39be2bb",
   "metadata": {
    "ExecuteTime": {
     "end_time": "2024-02-29T13:33:22.578812Z",
     "start_time": "2024-02-29T13:33:22.524053Z"
    }
   },
   "outputs": [
    {
     "data": {
      "text/html": [
       "<div>\n",
       "<style scoped>\n",
       "    .dataframe tbody tr th:only-of-type {\n",
       "        vertical-align: middle;\n",
       "    }\n",
       "\n",
       "    .dataframe tbody tr th {\n",
       "        vertical-align: top;\n",
       "    }\n",
       "\n",
       "    .dataframe thead th {\n",
       "        text-align: right;\n",
       "    }\n",
       "</style>\n",
       "<table border=\"1\" class=\"dataframe\">\n",
       "  <thead>\n",
       "    <tr style=\"text-align: right;\">\n",
       "      <th></th>\n",
       "      <th>group</th>\n",
       "      <th>landing_page</th>\n",
       "      <th>user_id</th>\n",
       "    </tr>\n",
       "  </thead>\n",
       "  <tbody>\n",
       "    <tr>\n",
       "      <th>0</th>\n",
       "      <td>control</td>\n",
       "      <td>old_page</td>\n",
       "      <td>143293</td>\n",
       "    </tr>\n",
       "    <tr>\n",
       "      <th>1</th>\n",
       "      <td>treatment</td>\n",
       "      <td>new_page</td>\n",
       "      <td>143397</td>\n",
       "    </tr>\n",
       "  </tbody>\n",
       "</table>\n",
       "</div>"
      ],
      "text/plain": [
       "       group landing_page  user_id\n",
       "0    control     old_page   143293\n",
       "1  treatment     new_page   143397"
      ]
     },
     "execution_count": 37,
     "metadata": {},
     "output_type": "execute_result"
    }
   ],
   "source": [
    "df2[[\"user_id\", \"group\", \"landing_page\"]].groupby([\"group\", \"landing_page\"]).count().reset_index()"
   ]
  },
  {
   "cell_type": "markdown",
   "id": "bdf1d75f",
   "metadata": {},
   "source": [
    "# 3. Random Sampling"
   ]
  },
  {
   "cell_type": "markdown",
   "id": "2b4af65b",
   "metadata": {},
   "source": [
    "Let's do a random sampling to define the groups of analysis."
   ]
  },
  {
   "cell_type": "code",
   "execution_count": 38,
   "id": "69483c41",
   "metadata": {
    "ExecuteTime": {
     "end_time": "2024-02-29T13:33:22.589425Z",
     "start_time": "2024-02-29T13:33:22.580646Z"
    }
   },
   "outputs": [],
   "source": [
    "df3 = df2.copy()"
   ]
  },
  {
   "cell_type": "code",
   "execution_count": 39,
   "id": "a0c38de7",
   "metadata": {
    "ExecuteTime": {
     "end_time": "2024-02-29T13:33:22.599179Z",
     "start_time": "2024-02-29T13:33:22.591469Z"
    }
   },
   "outputs": [
    {
     "data": {
      "text/html": [
       "<div>\n",
       "<style scoped>\n",
       "    .dataframe tbody tr th:only-of-type {\n",
       "        vertical-align: middle;\n",
       "    }\n",
       "\n",
       "    .dataframe tbody tr th {\n",
       "        vertical-align: top;\n",
       "    }\n",
       "\n",
       "    .dataframe thead th {\n",
       "        text-align: right;\n",
       "    }\n",
       "</style>\n",
       "<table border=\"1\" class=\"dataframe\">\n",
       "  <thead>\n",
       "    <tr style=\"text-align: right;\">\n",
       "      <th></th>\n",
       "      <th>user_id</th>\n",
       "      <th>timestamp</th>\n",
       "      <th>group</th>\n",
       "      <th>landing_page</th>\n",
       "      <th>converted</th>\n",
       "    </tr>\n",
       "  </thead>\n",
       "  <tbody>\n",
       "    <tr>\n",
       "      <th>0</th>\n",
       "      <td>851104</td>\n",
       "      <td>2017-01-21 22:11:48.556739</td>\n",
       "      <td>control</td>\n",
       "      <td>old_page</td>\n",
       "      <td>0</td>\n",
       "    </tr>\n",
       "    <tr>\n",
       "      <th>1</th>\n",
       "      <td>804228</td>\n",
       "      <td>2017-01-12 08:01:45.159739</td>\n",
       "      <td>control</td>\n",
       "      <td>old_page</td>\n",
       "      <td>0</td>\n",
       "    </tr>\n",
       "    <tr>\n",
       "      <th>2</th>\n",
       "      <td>661590</td>\n",
       "      <td>2017-01-11 16:55:06.154213</td>\n",
       "      <td>treatment</td>\n",
       "      <td>new_page</td>\n",
       "      <td>0</td>\n",
       "    </tr>\n",
       "    <tr>\n",
       "      <th>3</th>\n",
       "      <td>853541</td>\n",
       "      <td>2017-01-08 18:28:03.143765</td>\n",
       "      <td>treatment</td>\n",
       "      <td>new_page</td>\n",
       "      <td>0</td>\n",
       "    </tr>\n",
       "    <tr>\n",
       "      <th>4</th>\n",
       "      <td>864975</td>\n",
       "      <td>2017-01-21 01:52:26.210827</td>\n",
       "      <td>control</td>\n",
       "      <td>old_page</td>\n",
       "      <td>1</td>\n",
       "    </tr>\n",
       "  </tbody>\n",
       "</table>\n",
       "</div>"
      ],
      "text/plain": [
       "   user_id                  timestamp      group landing_page  converted\n",
       "0   851104 2017-01-21 22:11:48.556739    control     old_page          0\n",
       "1   804228 2017-01-12 08:01:45.159739    control     old_page          0\n",
       "2   661590 2017-01-11 16:55:06.154213  treatment     new_page          0\n",
       "3   853541 2017-01-08 18:28:03.143765  treatment     new_page          0\n",
       "4   864975 2017-01-21 01:52:26.210827    control     old_page          1"
      ]
     },
     "execution_count": 39,
     "metadata": {},
     "output_type": "execute_result"
    }
   ],
   "source": [
    "df3.head()"
   ]
  },
  {
   "cell_type": "markdown",
   "id": "1bbeb210",
   "metadata": {},
   "source": [
    "## 3.1. Control Sample"
   ]
  },
  {
   "cell_type": "code",
   "execution_count": 40,
   "id": "31a70e10",
   "metadata": {
    "ExecuteTime": {
     "end_time": "2024-02-29T13:33:22.635812Z",
     "start_time": "2024-02-29T13:33:22.601008Z"
    }
   },
   "outputs": [],
   "source": [
    "df_control_sample = df3[df3[\"group\"] == \"control\"].sample(n=sample_n, random_state=42)"
   ]
  },
  {
   "cell_type": "code",
   "execution_count": 41,
   "id": "16352966",
   "metadata": {
    "ExecuteTime": {
     "end_time": "2024-02-29T13:33:22.641975Z",
     "start_time": "2024-02-29T13:33:22.638029Z"
    }
   },
   "outputs": [
    {
     "name": "stdout",
     "output_type": "stream",
     "text": [
      "Control group size: 4433.\n"
     ]
    }
   ],
   "source": [
    "print(f\"Control group size: {df_control_sample.shape[0]}.\")"
   ]
  },
  {
   "cell_type": "markdown",
   "id": "912d8f57",
   "metadata": {},
   "source": [
    "## 3.2. Treatment Sample"
   ]
  },
  {
   "cell_type": "code",
   "execution_count": 42,
   "id": "00989846",
   "metadata": {
    "ExecuteTime": {
     "end_time": "2024-02-29T13:33:22.681658Z",
     "start_time": "2024-02-29T13:33:22.644022Z"
    }
   },
   "outputs": [],
   "source": [
    "df_treatment_sample = df3[df3[\"group\"] == \"treatment\"].sample(n=sample_n, random_state=42)"
   ]
  },
  {
   "cell_type": "code",
   "execution_count": 43,
   "id": "c01ed89c",
   "metadata": {
    "ExecuteTime": {
     "end_time": "2024-02-29T13:33:22.687734Z",
     "start_time": "2024-02-29T13:33:22.683852Z"
    }
   },
   "outputs": [
    {
     "name": "stdout",
     "output_type": "stream",
     "text": [
      "Treatment group size: 4433.\n"
     ]
    }
   ],
   "source": [
    "print(f\"Treatment group size: {df_treatment_sample.shape[0]}.\")"
   ]
  },
  {
   "cell_type": "markdown",
   "id": "63f1b816",
   "metadata": {},
   "source": [
    "## 3.3. DataFrame A/B"
   ]
  },
  {
   "cell_type": "code",
   "execution_count": 44,
   "id": "9e22810c",
   "metadata": {
    "ExecuteTime": {
     "end_time": "2024-02-29T13:33:22.696268Z",
     "start_time": "2024-02-29T13:33:22.690028Z"
    }
   },
   "outputs": [],
   "source": [
    "df_ab = pd.concat([df_control_sample, df_treatment_sample]).reset_index()\n",
    "df_ab.drop(columns=\"index\", inplace=True)"
   ]
  },
  {
   "cell_type": "code",
   "execution_count": 45,
   "id": "a4929a8b",
   "metadata": {
    "ExecuteTime": {
     "end_time": "2024-02-29T13:33:22.706442Z",
     "start_time": "2024-02-29T13:33:22.698225Z"
    }
   },
   "outputs": [
    {
     "data": {
      "text/html": [
       "<div>\n",
       "<style scoped>\n",
       "    .dataframe tbody tr th:only-of-type {\n",
       "        vertical-align: middle;\n",
       "    }\n",
       "\n",
       "    .dataframe tbody tr th {\n",
       "        vertical-align: top;\n",
       "    }\n",
       "\n",
       "    .dataframe thead th {\n",
       "        text-align: right;\n",
       "    }\n",
       "</style>\n",
       "<table border=\"1\" class=\"dataframe\">\n",
       "  <thead>\n",
       "    <tr style=\"text-align: right;\">\n",
       "      <th></th>\n",
       "      <th>user_id</th>\n",
       "      <th>timestamp</th>\n",
       "      <th>group</th>\n",
       "      <th>landing_page</th>\n",
       "      <th>converted</th>\n",
       "    </tr>\n",
       "  </thead>\n",
       "  <tbody>\n",
       "    <tr>\n",
       "      <th>0</th>\n",
       "      <td>663037</td>\n",
       "      <td>2017-01-05 02:13:38.063443</td>\n",
       "      <td>control</td>\n",
       "      <td>old_page</td>\n",
       "      <td>0</td>\n",
       "    </tr>\n",
       "    <tr>\n",
       "      <th>1</th>\n",
       "      <td>932826</td>\n",
       "      <td>2017-01-13 04:50:06.941679</td>\n",
       "      <td>control</td>\n",
       "      <td>old_page</td>\n",
       "      <td>1</td>\n",
       "    </tr>\n",
       "    <tr>\n",
       "      <th>2</th>\n",
       "      <td>922999</td>\n",
       "      <td>2017-01-04 07:19:23.813317</td>\n",
       "      <td>control</td>\n",
       "      <td>old_page</td>\n",
       "      <td>0</td>\n",
       "    </tr>\n",
       "    <tr>\n",
       "      <th>3</th>\n",
       "      <td>857826</td>\n",
       "      <td>2017-01-19 02:27:37.678241</td>\n",
       "      <td>control</td>\n",
       "      <td>old_page</td>\n",
       "      <td>0</td>\n",
       "    </tr>\n",
       "    <tr>\n",
       "      <th>4</th>\n",
       "      <td>762926</td>\n",
       "      <td>2017-01-18 17:50:59.261406</td>\n",
       "      <td>control</td>\n",
       "      <td>old_page</td>\n",
       "      <td>0</td>\n",
       "    </tr>\n",
       "  </tbody>\n",
       "</table>\n",
       "</div>"
      ],
      "text/plain": [
       "   user_id                  timestamp    group landing_page  converted\n",
       "0   663037 2017-01-05 02:13:38.063443  control     old_page          0\n",
       "1   932826 2017-01-13 04:50:06.941679  control     old_page          1\n",
       "2   922999 2017-01-04 07:19:23.813317  control     old_page          0\n",
       "3   857826 2017-01-19 02:27:37.678241  control     old_page          0\n",
       "4   762926 2017-01-18 17:50:59.261406  control     old_page          0"
      ]
     },
     "execution_count": 45,
     "metadata": {},
     "output_type": "execute_result"
    }
   ],
   "source": [
    "df_ab.head()"
   ]
  },
  {
   "cell_type": "markdown",
   "id": "b5cd2513",
   "metadata": {},
   "source": [
    "# 4. Webpage Conversion"
   ]
  },
  {
   "cell_type": "markdown",
   "id": "0c5a45ca",
   "metadata": {},
   "source": [
    "## 4.1. Control Group"
   ]
  },
  {
   "cell_type": "code",
   "execution_count": 46,
   "id": "6879fc09",
   "metadata": {
    "ExecuteTime": {
     "end_time": "2024-02-29T13:33:22.712229Z",
     "start_time": "2024-02-29T13:33:22.708506Z"
    }
   },
   "outputs": [],
   "source": [
    "# people who purchased\n",
    "sales = df_control_sample.loc[df_control_sample[\"converted\"] == 1, \"converted\"].sum()\n",
    "\n",
    "# everyone who visited the webpage (purchased or not)\n",
    "visit = len(df_control_sample)"
   ]
  },
  {
   "cell_type": "code",
   "execution_count": 47,
   "id": "6e02227e",
   "metadata": {
    "ExecuteTime": {
     "end_time": "2024-02-29T13:33:22.717133Z",
     "start_time": "2024-02-29T13:33:22.714117Z"
    }
   },
   "outputs": [
    {
     "name": "stdout",
     "output_type": "stream",
     "text": [
      "Control group conversion rate: 11.26%.\n"
     ]
    }
   ],
   "source": [
    "conv_rate_control = round(sales/visit, 4)\n",
    "print(f\"Control group conversion rate: {conv_rate_control*100}%.\")"
   ]
  },
  {
   "cell_type": "markdown",
   "id": "efc29542",
   "metadata": {},
   "source": [
    "The higher the number of samples, the closest it is to the entire population conversion rate. As we may see below, the entire population conversion rate for the control group is:"
   ]
  },
  {
   "cell_type": "code",
   "execution_count": 48,
   "id": "0be31f36",
   "metadata": {
    "ExecuteTime": {
     "end_time": "2024-02-29T13:33:22.780492Z",
     "start_time": "2024-02-29T13:33:22.719070Z"
    }
   },
   "outputs": [
    {
     "name": "stdout",
     "output_type": "stream",
     "text": [
      "Population conversion rate: 12.0%.\n"
     ]
    }
   ],
   "source": [
    "population_conv_rate = df2[(df2[\"converted\"] == 1) & (df2[\"group\"] == \"control\")][\"converted\"].sum()/df2[(df2[\"group\"] == \"control\")][\"user_id\"].nunique()\n",
    "print(f\"Population conversion rate: {population_conv_rate.round(2)*100}%.\")"
   ]
  },
  {
   "cell_type": "markdown",
   "id": "2350fcbb",
   "metadata": {},
   "source": [
    "This value above is the same as what we call by \"current conversion\". "
   ]
  },
  {
   "cell_type": "markdown",
   "id": "d4b927ae",
   "metadata": {},
   "source": [
    "## 4.2. Treatment Group"
   ]
  },
  {
   "cell_type": "code",
   "execution_count": 49,
   "id": "4504f8c1",
   "metadata": {
    "ExecuteTime": {
     "end_time": "2024-02-29T13:33:22.787166Z",
     "start_time": "2024-02-29T13:33:22.782325Z"
    }
   },
   "outputs": [],
   "source": [
    "# people who purchased\n",
    "sales = df_treatment_sample.loc[df_treatment_sample[\"converted\"] == 1, \"converted\"].sum()\n",
    "\n",
    "# everyone who visited the webpage (purchased or not)\n",
    "visit = len(df_treatment_sample)"
   ]
  },
  {
   "cell_type": "code",
   "execution_count": 50,
   "id": "da4d03f0",
   "metadata": {
    "ExecuteTime": {
     "end_time": "2024-02-29T13:33:22.792537Z",
     "start_time": "2024-02-29T13:33:22.789194Z"
    }
   },
   "outputs": [
    {
     "name": "stdout",
     "output_type": "stream",
     "text": [
      "Control group conversion rate: 12.7%.\n"
     ]
    }
   ],
   "source": [
    "conv_rate_treatment = round(sales/visit, 4)\n",
    "print(f\"Control group conversion rate: {conv_rate_treatment*100}%.\")"
   ]
  },
  {
   "cell_type": "markdown",
   "id": "615a11a2",
   "metadata": {},
   "source": [
    "# 5. Hypotheses Testing"
   ]
  },
  {
   "cell_type": "code",
   "execution_count": 51,
   "id": "7694fea0",
   "metadata": {
    "ExecuteTime": {
     "end_time": "2024-02-29T13:33:22.804183Z",
     "start_time": "2024-02-29T13:33:22.794358Z"
    }
   },
   "outputs": [],
   "source": [
    "df5 = df3.copy()"
   ]
  },
  {
   "cell_type": "code",
   "execution_count": 52,
   "id": "edd3b588",
   "metadata": {
    "ExecuteTime": {
     "end_time": "2024-02-29T13:33:22.814984Z",
     "start_time": "2024-02-29T13:33:22.806565Z"
    }
   },
   "outputs": [
    {
     "data": {
      "text/html": [
       "<div>\n",
       "<style scoped>\n",
       "    .dataframe tbody tr th:only-of-type {\n",
       "        vertical-align: middle;\n",
       "    }\n",
       "\n",
       "    .dataframe tbody tr th {\n",
       "        vertical-align: top;\n",
       "    }\n",
       "\n",
       "    .dataframe thead th {\n",
       "        text-align: right;\n",
       "    }\n",
       "</style>\n",
       "<table border=\"1\" class=\"dataframe\">\n",
       "  <thead>\n",
       "    <tr style=\"text-align: right;\">\n",
       "      <th></th>\n",
       "      <th>user_id</th>\n",
       "      <th>timestamp</th>\n",
       "      <th>group</th>\n",
       "      <th>landing_page</th>\n",
       "      <th>converted</th>\n",
       "    </tr>\n",
       "  </thead>\n",
       "  <tbody>\n",
       "    <tr>\n",
       "      <th>0</th>\n",
       "      <td>851104</td>\n",
       "      <td>2017-01-21 22:11:48.556739</td>\n",
       "      <td>control</td>\n",
       "      <td>old_page</td>\n",
       "      <td>0</td>\n",
       "    </tr>\n",
       "    <tr>\n",
       "      <th>1</th>\n",
       "      <td>804228</td>\n",
       "      <td>2017-01-12 08:01:45.159739</td>\n",
       "      <td>control</td>\n",
       "      <td>old_page</td>\n",
       "      <td>0</td>\n",
       "    </tr>\n",
       "    <tr>\n",
       "      <th>2</th>\n",
       "      <td>661590</td>\n",
       "      <td>2017-01-11 16:55:06.154213</td>\n",
       "      <td>treatment</td>\n",
       "      <td>new_page</td>\n",
       "      <td>0</td>\n",
       "    </tr>\n",
       "    <tr>\n",
       "      <th>3</th>\n",
       "      <td>853541</td>\n",
       "      <td>2017-01-08 18:28:03.143765</td>\n",
       "      <td>treatment</td>\n",
       "      <td>new_page</td>\n",
       "      <td>0</td>\n",
       "    </tr>\n",
       "    <tr>\n",
       "      <th>4</th>\n",
       "      <td>864975</td>\n",
       "      <td>2017-01-21 01:52:26.210827</td>\n",
       "      <td>control</td>\n",
       "      <td>old_page</td>\n",
       "      <td>1</td>\n",
       "    </tr>\n",
       "  </tbody>\n",
       "</table>\n",
       "</div>"
      ],
      "text/plain": [
       "   user_id                  timestamp      group landing_page  converted\n",
       "0   851104 2017-01-21 22:11:48.556739    control     old_page          0\n",
       "1   804228 2017-01-12 08:01:45.159739    control     old_page          0\n",
       "2   661590 2017-01-11 16:55:06.154213  treatment     new_page          0\n",
       "3   853541 2017-01-08 18:28:03.143765  treatment     new_page          0\n",
       "4   864975 2017-01-21 01:52:26.210827    control     old_page          1"
      ]
     },
     "execution_count": 52,
     "metadata": {},
     "output_type": "execute_result"
    }
   ],
   "source": [
    "df5.head()"
   ]
  },
  {
   "cell_type": "markdown",
   "id": "78783759",
   "metadata": {},
   "source": [
    "We must make some questions in order better understand the problem to formulate the hypotheses. Let's first initiate **the possible steps with discrete/categorical response variable**. \n",
    "\n",
    "1. What is the data type of the response variable? \n",
    "        \n",
    "        Binary. (discrete/categorical)\n",
    "        \n",
    "2. What is the sample size? \n",
    "\n",
    "        n < 5: Fisher's exact test\n",
    "        n > 5: (1) Chi-squared test one or two samples or (2) Z-test"
   ]
  },
  {
   "cell_type": "markdown",
   "id": "39ce513d",
   "metadata": {},
   "source": [
    "On the other hand, if we have a continuous response variable, the steps are:\n",
    "\n",
    "1. What is the data type of the response variable?\n",
    "\n",
    "        Continuous.\n",
    "        \n",
    "2. What do I want to look at the response variable? Ratio? Difference?\n",
    "\n",
    "        Ratio.\n",
    "        \n",
    "3. Do we have dependent and independent variables in this ratio? \n",
    "\n",
    "        Yes: regression analysis.\n",
    "        \n",
    "4. If it is difference: what kind of difference?\n",
    "\n",
    "        Variances: \n",
    "        \n",
    "        (1) Fmax test \n",
    "        (2) Bartlett's test\n",
    "        \n",
    "        Averages: \n",
    "        \n",
    "        (1) For one average/group we use One Sample t-test (t-student distribution)\n",
    "        \n",
    "        (2) For two averages/groups (control and treatment) \n",
    "        \n",
    "            Parametric assumptions satisfied? \n",
    "            \n",
    "                Independent samples, normal distribution (Shapiro-Wilk) and equal variance.\n",
    "                                   * we may transform data into a normal\n",
    "                                   \n",
    "                Yes: we use Two Sample t-test (t-student distribution)\n",
    "                        \n",
    "                No: (1) Mann-Whitney U-test or (2) Welch's test\n",
    "                \n",
    "         (3) More than two averages/groups  \n",
    "        \n",
    "            Parametric assumptions satisfied? \n",
    "            \n",
    "                Independent samples, normal distribution (Shapiro-Wilk) and equal variance.\n",
    "                                   * we may transform data into a normal\n",
    "                                   \n",
    "                Yes: we use One Way ANOVA\n",
    "        \n",
    "                No: Tukey test"
   ]
  },
  {
   "cell_type": "markdown",
   "id": "ef2f1d63",
   "metadata": {},
   "source": [
    "## 5.1. Application Examples"
   ]
  },
  {
   "cell_type": "markdown",
   "id": "5bc0e029",
   "metadata": {},
   "source": [
    "In this subsection, we are going to do some examples in order to understand the hypotheses test for different kinds."
   ]
  },
  {
   "cell_type": "markdown",
   "id": "5b6ffa8c",
   "metadata": {},
   "source": [
    "### 5.1.1. Tree Height (one-sample test)"
   ]
  },
  {
   "cell_type": "markdown",
   "id": "68aee6f9",
   "metadata": {},
   "source": [
    "We want to test if the average tree height is 15 cm. The status quo is 15 cm. However, we used fertilizer on some plants and now we want to test if it increased or decreased their height. Below, the data points we have:"
   ]
  },
  {
   "cell_type": "code",
   "execution_count": 53,
   "id": "cef6e459",
   "metadata": {
    "ExecuteTime": {
     "end_time": "2024-02-29T13:33:22.819864Z",
     "start_time": "2024-02-29T13:33:22.817003Z"
    }
   },
   "outputs": [],
   "source": [
    "df = [14, 14, 16, 13, 12, 17, 15, 14, 15, 13, 15, 14]"
   ]
  },
  {
   "cell_type": "code",
   "execution_count": 54,
   "id": "b24aa96b",
   "metadata": {
    "ExecuteTime": {
     "end_time": "2024-02-29T13:33:22.826411Z",
     "start_time": "2024-02-29T13:33:22.822114Z"
    }
   },
   "outputs": [
    {
     "data": {
      "text/plain": [
       "14.33"
      ]
     },
     "execution_count": 54,
     "metadata": {},
     "output_type": "execute_result"
    }
   ],
   "source": [
    "np.mean(df).round(2)"
   ]
  },
  {
   "cell_type": "markdown",
   "id": "3c77dd8b",
   "metadata": {},
   "source": [
    "We must analyze the number of samples and the current average to understand whether the 14.33 cm average is statistical significant or not. Below, the characteristics of this test:\n",
    "\n",
    "1. Continuous data type.\n",
    "2. Difference.\n",
    "3. No.\n",
    "4. Averages. It is one average/group.\n",
    "\n",
    "        It is two-tailed test since we want to evaluate whether the new average is higher or lower."
   ]
  },
  {
   "cell_type": "markdown",
   "id": "3935e352",
   "metadata": {},
   "source": [
    "H<sub>0</sub>: μ = 15\n",
    "\n",
    "H<sub>1</sub>: μ <> 15"
   ]
  },
  {
   "cell_type": "code",
   "execution_count": 55,
   "id": "78c374ec",
   "metadata": {
    "ExecuteTime": {
     "end_time": "2024-02-29T13:33:22.832782Z",
     "start_time": "2024-02-29T13:33:22.828394Z"
    }
   },
   "outputs": [
    {
     "name": "stdout",
     "output_type": "stream",
     "text": [
      "p-value: 0.12.\n"
     ]
    }
   ],
   "source": [
    "statistic, pvalue = ttest_1samp(df, popmean=15)\n",
    "print(f\"p-value: {pvalue.round(2)}.\")"
   ]
  },
  {
   "cell_type": "code",
   "execution_count": 56,
   "id": "2d66672a",
   "metadata": {
    "ExecuteTime": {
     "end_time": "2024-02-29T13:33:22.839592Z",
     "start_time": "2024-02-29T13:33:22.835139Z"
    }
   },
   "outputs": [
    {
     "name": "stdout",
     "output_type": "stream",
     "text": [
      "We accept (fail to reject) the null hypothesis. There is no significant difference between the groups.\n"
     ]
    }
   ],
   "source": [
    "alpha = 0.05\n",
    "\n",
    "if pvalue < alpha:\n",
    "    print(\"We reject the null hypothesis. There is significant difference between the groups.\")\n",
    "else:\n",
    "    print(\"We accept (fail to reject) the null hypothesis. There is no significant difference between the groups.\")"
   ]
  },
  {
   "cell_type": "markdown",
   "id": "a4e0f94f",
   "metadata": {},
   "source": [
    "Assuming alpha = 0.05 makes p-value > 0.12. That means the probability of null hypothesis is higher than the maximum randomness we admitted. Since it is higher, we may not reject the null hypothesis - we accept it.\n",
    "\n",
    "The 14.33 cm average is NOT statistically significant. The null hypothesis is true: average is 15 cm."
   ]
  },
  {
   "cell_type": "markdown",
   "id": "84a834b3",
   "metadata": {},
   "source": [
    "### 5.1.2. Tree Height (two-sample test) - parametric assumptions satisfied"
   ]
  },
  {
   "cell_type": "markdown",
   "id": "5c35f1e1",
   "metadata": {},
   "source": [
    "Now, researches want to know if two plant species have the same average height. They collected random samples of 20 plants for each specie."
   ]
  },
  {
   "cell_type": "markdown",
   "id": "ba526985",
   "metadata": {},
   "source": [
    "Below, the characteristics of this test:\n",
    "\n",
    "1. Continuous data type.\n",
    "2. Average difference.\n",
    "3. No.\n",
    "4. Averages. They are two averages/groups.\n",
    "\n",
    "        It is two-tailed test since we want to evaluate whether averages are higher or lower.\n",
    "        \n",
    "        Parametric assumptions: \n",
    "        \n",
    "                                Independent samples: YES\n",
    "                                Normal distribution (Shapiro-Wilk): YES\n",
    "                                Equal variance: YES\n",
    "                                \n",
    "        * THE TEST FOR PARAMETRIC ASSUMPTIONS MAY BE SEEN BELOW.                          "
   ]
  },
  {
   "cell_type": "code",
   "execution_count": 57,
   "id": "155092c2",
   "metadata": {
    "ExecuteTime": {
     "end_time": "2024-02-29T13:33:22.847769Z",
     "start_time": "2024-02-29T13:33:22.841711Z"
    }
   },
   "outputs": [],
   "source": [
    "df1 = np.array([14, 15, 15, 16, 13, 8, 14, 17, 16, 14, 19, 20, 21, 15, 15, 16, 16, 13, 14, 12])\n",
    "df2 = np.array([15, 17, 14, 17, 14, 8, 12, 19, 19, 14, 17, 22, 24, 16, 13, 16, 13, 18, 15, 13])"
   ]
  },
  {
   "cell_type": "markdown",
   "id": "6612a27f",
   "metadata": {},
   "source": [
    "H<sub>0</sub>: μ<sub>0</sub> = μ<sub>1</sub>\n",
    "\n",
    "H<sub>1</sub>: μ<sub>0</sub> <> μ<sub>1</sub>"
   ]
  },
  {
   "cell_type": "code",
   "execution_count": 58,
   "id": "fc72e95b",
   "metadata": {
    "ExecuteTime": {
     "end_time": "2024-02-29T13:33:22.853868Z",
     "start_time": "2024-02-29T13:33:22.850278Z"
    }
   },
   "outputs": [
    {
     "name": "stdout",
     "output_type": "stream",
     "text": [
      "15.15\n",
      "15.8\n"
     ]
    }
   ],
   "source": [
    "print(np.mean(df1))\n",
    "print(np.mean(df2))"
   ]
  },
  {
   "cell_type": "markdown",
   "id": "520d87e6",
   "metadata": {},
   "source": [
    "#### Parametric Assumptions Test"
   ]
  },
  {
   "cell_type": "markdown",
   "id": "2c227266",
   "metadata": {},
   "source": [
    "Since we did not collect the data, we are assuming the samples are independent. The reason is that by collecting data from the first group we do not have dependency for collecting data from the second group.\n",
    "\n",
    "**Independent samples:** YES."
   ]
  },
  {
   "cell_type": "markdown",
   "id": "c3f57887",
   "metadata": {},
   "source": [
    "Now, we must perform the Shapiro-Wilk test to analyze the distribution of the samples. \n",
    "\n",
    "**Normal distribution Shapiro-Wilk:** YES.\n",
    "\n",
    "H<sub>0</sub>: normal distribution\n",
    "\n",
    "H<sub>1</sub>: non normal distribution"
   ]
  },
  {
   "cell_type": "code",
   "execution_count": 59,
   "id": "d2d818ca",
   "metadata": {
    "ExecuteTime": {
     "end_time": "2024-02-29T13:33:22.858967Z",
     "start_time": "2024-02-29T13:33:22.855895Z"
    }
   },
   "outputs": [
    {
     "name": "stdout",
     "output_type": "stream",
     "text": [
      "p-value: 0.2268.\n"
     ]
    }
   ],
   "source": [
    "stats, pvalue = shapiro(df1)\n",
    "print(f\"p-value: {round(pvalue, 4)}.\")"
   ]
  },
  {
   "cell_type": "code",
   "execution_count": 60,
   "id": "bbb0f82b",
   "metadata": {
    "ExecuteTime": {
     "end_time": "2024-02-29T13:33:22.864920Z",
     "start_time": "2024-02-29T13:33:22.860894Z"
    }
   },
   "outputs": [
    {
     "name": "stdout",
     "output_type": "stream",
     "text": [
      "We accept (fail to reject) the null hypothesis. It is a normal distribution.\n"
     ]
    }
   ],
   "source": [
    "alpha = 0.05\n",
    "\n",
    "if pvalue < alpha:\n",
    "    print(\"We reject the null hypothesis. It is a non normal distribution.\")\n",
    "else:\n",
    "    print(\"We accept (fail to reject) the null hypothesis. It is a normal distribution.\")"
   ]
  },
  {
   "cell_type": "code",
   "execution_count": 61,
   "id": "0d8b1dc4",
   "metadata": {
    "ExecuteTime": {
     "end_time": "2024-02-29T13:33:23.058649Z",
     "start_time": "2024-02-29T13:33:22.866883Z"
    }
   },
   "outputs": [
    {
     "data": {
      "image/png": "[encoded data removed]",
      "text/plain": [
       "<Figure size 2000x800 with 1 Axes>"
      ]
     },
     "metadata": {},
     "output_type": "display_data"
    }
   ],
   "source": [
    "# size\n",
    "plt.figure(figsize=(20,8))\n",
    "\n",
    "# Plot\n",
    "plt.hist(df1, bins=30, color='skyblue', edgecolor='black', alpha=0.7, density=True)\n",
    "\n",
    "# Adding density line\n",
    "xmin, xmax = plt.xlim()\n",
    "x = np.linspace(xmin, xmax, 100)\n",
    "p = norm.pdf(x, np.mean(df1), np.std(df1))\n",
    "plt.plot(x, p, 'k', linewidth=2)\n",
    "\n",
    "# Labels\n",
    "plt.xlabel('Height (cm)')\n",
    "plt.ylabel('Probability Density')\n",
    "plt.title('Histogram with density line (sample 1)')\n",
    "\n",
    "# Show\n",
    "plt.show()"
   ]
  },
  {
   "cell_type": "code",
   "execution_count": 62,
   "id": "7955604d",
   "metadata": {
    "ExecuteTime": {
     "end_time": "2024-02-29T13:33:23.062831Z",
     "start_time": "2024-02-29T13:33:23.059982Z"
    }
   },
   "outputs": [
    {
     "name": "stdout",
     "output_type": "stream",
     "text": [
      "p-value: 0.6782.\n"
     ]
    }
   ],
   "source": [
    "stats2, pvalue2 = shapiro(df2)\n",
    "print(f\"p-value: {round(pvalue2, 4)}.\")"
   ]
  },
  {
   "cell_type": "code",
   "execution_count": 63,
   "id": "8156f877",
   "metadata": {
    "ExecuteTime": {
     "end_time": "2024-02-29T13:33:23.066703Z",
     "start_time": "2024-02-29T13:33:23.064047Z"
    }
   },
   "outputs": [
    {
     "name": "stdout",
     "output_type": "stream",
     "text": [
      "We accept (fail to reject) the null hypothesis. It is a normal distribution.\n"
     ]
    }
   ],
   "source": [
    "alpha = 0.05\n",
    "\n",
    "if pvalue2 < alpha:\n",
    "    print(\"We reject the null hypothesis. It is a non normal distribution.\")\n",
    "else:\n",
    "    print(\"We accept (fail to reject) the null hypothesis. It is a normal distribution.\")"
   ]
  },
  {
   "cell_type": "code",
   "execution_count": 64,
   "id": "ce307a9d",
   "metadata": {
    "ExecuteTime": {
     "end_time": "2024-02-29T13:33:23.244444Z",
     "start_time": "2024-02-29T13:33:23.068280Z"
    }
   },
   "outputs": [
    {
     "data": {
      "image/png": "[encoded data removed]",
      "text/plain": [
       "<Figure size 2000x800 with 1 Axes>"
      ]
     },
     "metadata": {},
     "output_type": "display_data"
    }
   ],
   "source": [
    "# size\n",
    "plt.figure(figsize=(20,8))\n",
    "\n",
    "# Plot\n",
    "plt.hist(df2, bins=30, color='red', edgecolor='black', alpha=0.7, density=True)\n",
    "\n",
    "# Adding density line\n",
    "xmin, xmax = plt.xlim()\n",
    "x = np.linspace(xmin, xmax, 100)\n",
    "p = norm.pdf(x, np.mean(df2), np.std(df2))\n",
    "plt.plot(x, p, 'k', linewidth=2)\n",
    "\n",
    "# Labels\n",
    "plt.xlabel('Height (cm)')\n",
    "plt.ylabel('Probability Density')\n",
    "plt.title('Histogram with density line (sample 2)')\n",
    "\n",
    "# Show\n",
    "plt.show()"
   ]
  },
  {
   "cell_type": "markdown",
   "id": "7a80760d",
   "metadata": {},
   "source": [
    "**Equal Variance:** YES."
   ]
  },
  {
   "cell_type": "code",
   "execution_count": 65,
   "id": "5a3e62fd",
   "metadata": {
    "ExecuteTime": {
     "end_time": "2024-02-29T13:33:23.248651Z",
     "start_time": "2024-02-29T13:33:23.245680Z"
    }
   },
   "outputs": [
    {
     "name": "stdout",
     "output_type": "stream",
     "text": [
      "Variance dataset one: 7.73.\n",
      "Variance dataset two: 12.26.\n"
     ]
    }
   ],
   "source": [
    "print(f\"Variance dataset one: {round(np.var(df1), 2)}.\")\n",
    "print(f\"Variance dataset two: {round(np.var(df2), 2)}.\")"
   ]
  },
  {
   "cell_type": "markdown",
   "id": "2e594059",
   "metadata": {},
   "source": [
    "If the ratio of higher variance over the lower variance is lower than 4, then we may assume they are equal. This test is often called the equality of variances test or homogeneity of variances test. The general rule we mentioned, where the ratio between two variances being less than 4 implies that they are considered equal, is a commonly used heuristic, but it is not a rigid rule.\n",
    "\n",
    "This test is often used in statistics to check whether the variances of two populations are the same or different. A common approach is to perform Fisher's F test, which compares the variances of two samples by dividing the larger by the smaller. If the variance ratio is not significantly different from 1, then it can be concluded that the variances are equal."
   ]
  },
  {
   "cell_type": "code",
   "execution_count": 66,
   "id": "38de43ef",
   "metadata": {
    "ExecuteTime": {
     "end_time": "2024-02-29T13:33:23.253674Z",
     "start_time": "2024-02-29T13:33:23.250452Z"
    }
   },
   "outputs": [
    {
     "data": {
      "text/plain": [
       "1.59"
      ]
     },
     "execution_count": 66,
     "metadata": {},
     "output_type": "execute_result"
    }
   ],
   "source": [
    "round(12.26/7.73, 2)"
   ]
  },
  {
   "cell_type": "markdown",
   "id": "53eadcc3",
   "metadata": {},
   "source": [
    "Thus, we may assume they are equal. However, the rule that a ratio less than 4 implies equality of variances may be too simplistic and may not apply to all situations. It is important to perform the appropriate statistical test, such as Fisher's F test, to obtain a more accurate conclusion about the equality or difference of variances. The choice of the critical value to determine equality of variances depends on the desired level of significance and the size of the samples involved."
   ]
  },
  {
   "cell_type": "markdown",
   "id": "759044a2",
   "metadata": {},
   "source": [
    "#### t-test"
   ]
  },
  {
   "cell_type": "code",
   "execution_count": 67,
   "id": "3f217e00",
   "metadata": {
    "ExecuteTime": {
     "end_time": "2024-02-29T13:33:23.258841Z",
     "start_time": "2024-02-29T13:33:23.255272Z"
    }
   },
   "outputs": [
    {
     "name": "stdout",
     "output_type": "stream",
     "text": [
      "p-value: 0.53.\n"
     ]
    }
   ],
   "source": [
    "stats, pvalue = ttest_ind(df1, df2, equal_var=True)\n",
    "print(f\"p-value: {round(pvalue, 4)}.\")"
   ]
  },
  {
   "cell_type": "code",
   "execution_count": 68,
   "id": "e1f2f8a3",
   "metadata": {
    "ExecuteTime": {
     "end_time": "2024-02-29T13:33:23.262917Z",
     "start_time": "2024-02-29T13:33:23.260351Z"
    }
   },
   "outputs": [
    {
     "name": "stdout",
     "output_type": "stream",
     "text": [
      "We accept (fail to reject) the null hypothesis. The species have the same average height.\n"
     ]
    }
   ],
   "source": [
    "alpha = 0.05\n",
    "\n",
    "if pvalue < alpha:\n",
    "    print(\"We reject the null hypothesis. The species have heights which are statistically different.\")\n",
    "else:\n",
    "    print(\"We accept (fail to reject) the null hypothesis. The species have the same average height.\")"
   ]
  },
  {
   "cell_type": "markdown",
   "id": "efd6dc27",
   "metadata": {},
   "source": [
    "### 5.1.3. Tree Height (two-sample test) - parametric assumptions not satisfied"
   ]
  },
  {
   "cell_type": "code",
   "execution_count": 69,
   "id": "258f876e",
   "metadata": {
    "ExecuteTime": {
     "end_time": "2024-02-29T13:33:23.267340Z",
     "start_time": "2024-02-29T13:33:23.264479Z"
    }
   },
   "outputs": [],
   "source": [
    "df1 = [20, 23, 21, 20, 18, 17, 18, 14, 20, 24, 43, 19]\n",
    "df2 = [24, 25, 21, 22, 23, 18, 17, 28, 24, 27, 21, 23]"
   ]
  },
  {
   "cell_type": "markdown",
   "id": "4bc86468",
   "metadata": {},
   "source": [
    "H<sub>0</sub>: μ<sub>0</sub> = μ<sub>1</sub> (The average height of the groups are the same)\n",
    "\n",
    "H<sub>1</sub>: μ<sub>0</sub> <> μ<sub>1</sub> (The average height of the groups are different)"
   ]
  },
  {
   "cell_type": "code",
   "execution_count": 70,
   "id": "b11c4884",
   "metadata": {
    "ExecuteTime": {
     "end_time": "2024-02-29T13:33:23.272905Z",
     "start_time": "2024-02-29T13:33:23.269230Z"
    }
   },
   "outputs": [
    {
     "name": "stdout",
     "output_type": "stream",
     "text": [
      "21.42\n",
      "22.75\n"
     ]
    }
   ],
   "source": [
    "print(np.mean(df1).round(2))\n",
    "print(np.mean(df2))"
   ]
  },
  {
   "cell_type": "markdown",
   "id": "aa75ff9f",
   "metadata": {},
   "source": [
    "#### Parametric Assumptions Test"
   ]
  },
  {
   "cell_type": "markdown",
   "id": "efd6d06c",
   "metadata": {},
   "source": [
    "Since we did not collect the data, we are assuming the samples are independent. The reason is that by collecting data from the first group we do not have dependency for collecting data from the second group.\n",
    "\n",
    "**Independent samples:** YES."
   ]
  },
  {
   "cell_type": "markdown",
   "id": "7a6e822d",
   "metadata": {},
   "source": [
    "Now, we must perform the Shapiro-Wilk test to analyze the distribution of the samples. \n",
    "\n",
    "**Normal distribution Shapiro-Wilk:** NO.\n",
    "\n",
    "H<sub>0</sub>: normal distribution\n",
    "\n",
    "H<sub>1</sub>: non normal distribution"
   ]
  },
  {
   "cell_type": "code",
   "execution_count": 71,
   "id": "b399aebf",
   "metadata": {
    "ExecuteTime": {
     "end_time": "2024-02-29T13:33:23.278686Z",
     "start_time": "2024-02-29T13:33:23.275160Z"
    }
   },
   "outputs": [
    {
     "name": "stdout",
     "output_type": "stream",
     "text": [
      "p-value: 0.0005.\n"
     ]
    }
   ],
   "source": [
    "stats, pvalue = shapiro(df1)\n",
    "print(f\"p-value: {round(pvalue, 4)}.\")"
   ]
  },
  {
   "cell_type": "code",
   "execution_count": 72,
   "id": "b3095640",
   "metadata": {
    "ExecuteTime": {
     "end_time": "2024-02-29T13:33:23.283933Z",
     "start_time": "2024-02-29T13:33:23.280667Z"
    }
   },
   "outputs": [
    {
     "name": "stdout",
     "output_type": "stream",
     "text": [
      "We reject the null hypothesis. It is a non normal distribution.\n"
     ]
    }
   ],
   "source": [
    "alpha = 0.05\n",
    "\n",
    "if pvalue < alpha:\n",
    "    print(\"We reject the null hypothesis. It is a non normal distribution.\")\n",
    "else:\n",
    "    print(\"We accept (fail to reject) the null hypothesis. It is a normal distribution.\")"
   ]
  },
  {
   "cell_type": "code",
   "execution_count": 73,
   "id": "948dda08",
   "metadata": {
    "ExecuteTime": {
     "end_time": "2024-02-29T13:33:23.493813Z",
     "start_time": "2024-02-29T13:33:23.285825Z"
    }
   },
   "outputs": [
    {
     "data": {
      "image/png": "[encoded data removed]",
      "text/plain": [
       "<Figure size 2000x800 with 1 Axes>"
      ]
     },
     "metadata": {},
     "output_type": "display_data"
    }
   ],
   "source": [
    "# size\n",
    "plt.figure(figsize=(20,8))\n",
    "\n",
    "# Plot\n",
    "plt.hist(df1, bins=30, color='skyblue', edgecolor='black', alpha=0.7, density=True)\n",
    "\n",
    "# Adding density line\n",
    "xmin, xmax = plt.xlim()\n",
    "x = np.linspace(xmin, xmax, 100)\n",
    "p = norm.pdf(x, np.mean(df1), np.std(df1))\n",
    "plt.plot(x, p, 'k', linewidth=2)\n",
    "\n",
    "# Labels\n",
    "plt.xlabel('Height (cm)')\n",
    "plt.ylabel('Probability Density')\n",
    "plt.title('Histogram with density line (sample 1)')\n",
    "\n",
    "# Show\n",
    "plt.show()"
   ]
  },
  {
   "cell_type": "code",
   "execution_count": 74,
   "id": "a0d41757",
   "metadata": {
    "ExecuteTime": {
     "end_time": "2024-02-29T13:33:23.497900Z",
     "start_time": "2024-02-29T13:33:23.495098Z"
    }
   },
   "outputs": [
    {
     "name": "stdout",
     "output_type": "stream",
     "text": [
      "p-value: 0.9022.\n"
     ]
    }
   ],
   "source": [
    "stats2, pvalue2 = shapiro(df2)\n",
    "print(f\"p-value: {round(pvalue2, 4)}.\")"
   ]
  },
  {
   "cell_type": "code",
   "execution_count": 75,
   "id": "fa3fc022",
   "metadata": {
    "ExecuteTime": {
     "end_time": "2024-02-29T13:33:23.502296Z",
     "start_time": "2024-02-29T13:33:23.499619Z"
    }
   },
   "outputs": [
    {
     "name": "stdout",
     "output_type": "stream",
     "text": [
      "We accept (fail to reject) the null hypothesis. It is a normal distribution.\n"
     ]
    }
   ],
   "source": [
    "alpha = 0.05\n",
    "\n",
    "if pvalue2 < alpha:\n",
    "    print(\"We reject the null hypothesis. It is a non normal distribution.\")\n",
    "else:\n",
    "    print(\"We accept (fail to reject) the null hypothesis. It is a normal distribution.\")"
   ]
  },
  {
   "cell_type": "code",
   "execution_count": 76,
   "id": "1d7167c9",
   "metadata": {
    "ExecuteTime": {
     "end_time": "2024-02-29T13:33:23.682029Z",
     "start_time": "2024-02-29T13:33:23.503883Z"
    }
   },
   "outputs": [
    {
     "data": {
      "image/png": "[encoded data removed]",
      "text/plain": [
       "<Figure size 2000x800 with 1 Axes>"
      ]
     },
     "metadata": {},
     "output_type": "display_data"
    }
   ],
   "source": [
    "# size\n",
    "plt.figure(figsize=(20,8))\n",
    "\n",
    "# Plot\n",
    "plt.hist(df2, bins=30, color='red', edgecolor='black', alpha=0.7, density=True)\n",
    "\n",
    "# Adding density line\n",
    "xmin, xmax = plt.xlim()\n",
    "x = np.linspace(xmin, xmax, 100)\n",
    "p = norm.pdf(x, np.mean(df2), np.std(df2))\n",
    "plt.plot(x, p, 'k', linewidth=2)\n",
    "\n",
    "# Labels\n",
    "plt.xlabel('Height (cm)')\n",
    "plt.ylabel('Probability Density')\n",
    "plt.title('Histogram with density line (sample 2)')\n",
    "\n",
    "# Show\n",
    "plt.show()"
   ]
  },
  {
   "cell_type": "markdown",
   "id": "1b189484",
   "metadata": {},
   "source": [
    "**Equal Variance:** NO."
   ]
  },
  {
   "cell_type": "code",
   "execution_count": 77,
   "id": "19f93c72",
   "metadata": {
    "ExecuteTime": {
     "end_time": "2024-02-29T13:33:23.687201Z",
     "start_time": "2024-02-29T13:33:23.683931Z"
    }
   },
   "outputs": [
    {
     "name": "stdout",
     "output_type": "stream",
     "text": [
      "Variance dataset one: 48.74.\n",
      "Variance dataset two: 9.69.\n"
     ]
    }
   ],
   "source": [
    "print(f\"Variance dataset one: {round(np.var(df1), 2)}.\")\n",
    "print(f\"Variance dataset two: {round(np.var(df2), 2)}.\")"
   ]
  },
  {
   "cell_type": "markdown",
   "id": "98808a01",
   "metadata": {},
   "source": [
    "If the ratio of higher variance over the lower variance is lower than 4, then we may assume they are equal. This test is often called the equality of variances test or homogeneity of variances test. The general rule we mentioned, where the ratio between two variances being less than 4 implies that they are considered equal, is a commonly used heuristic, but it is not a rigid rule.\n",
    "\n",
    "This test is often used in statistics to check whether the variances of two populations are the same or different. A common approach is to perform Fisher's F test, which compares the variances of two samples by dividing the larger by the smaller. If the variance ratio is not significantly different from 1, then it can be concluded that the variances are equal."
   ]
  },
  {
   "cell_type": "code",
   "execution_count": 78,
   "id": "a6ba0bb9",
   "metadata": {
    "ExecuteTime": {
     "end_time": "2024-02-29T13:33:23.692514Z",
     "start_time": "2024-02-29T13:33:23.688957Z"
    }
   },
   "outputs": [
    {
     "data": {
      "text/plain": [
       "5.03"
      ]
     },
     "execution_count": 78,
     "metadata": {},
     "output_type": "execute_result"
    }
   ],
   "source": [
    "round(48.74/9.69, 2)"
   ]
  },
  {
   "cell_type": "markdown",
   "id": "53469cde",
   "metadata": {},
   "source": [
    "Thus, we may assume they are not equal. However, the rule that a ratio less than 4 implies equality of variances may be too simplistic and may not apply to all situations. It is important to perform the appropriate statistical test, such as Fisher's F test, to obtain a more accurate conclusion about the equality or difference of variances. The choice of the critical value to determine equality of variances depends on the desired level of significance and the size of the samples involved."
   ]
  },
  {
   "cell_type": "markdown",
   "id": "acb86278",
   "metadata": {},
   "source": [
    "**Mann-Whitney U-test**"
   ]
  },
  {
   "cell_type": "code",
   "execution_count": 79,
   "id": "57d436b1",
   "metadata": {
    "ExecuteTime": {
     "end_time": "2024-02-29T13:33:23.698508Z",
     "start_time": "2024-02-29T13:33:23.694256Z"
    }
   },
   "outputs": [
    {
     "name": "stdout",
     "output_type": "stream",
     "text": [
      "p-value: 0.0722.\n"
     ]
    }
   ],
   "source": [
    "stats, pvalue = mannwhitneyu(df1, df2)\n",
    "print(f\"p-value: {round(pvalue, 4)}.\")"
   ]
  },
  {
   "cell_type": "code",
   "execution_count": 80,
   "id": "c7c0f39c",
   "metadata": {
    "ExecuteTime": {
     "end_time": "2024-02-29T13:33:23.704124Z",
     "start_time": "2024-02-29T13:33:23.700471Z"
    }
   },
   "outputs": [
    {
     "name": "stdout",
     "output_type": "stream",
     "text": [
      "We accept (fail to reject) the null hypothesis. The species have the same average height.\n"
     ]
    }
   ],
   "source": [
    "alpha = 0.05\n",
    "\n",
    "if pvalue < alpha:\n",
    "    print(\"We reject the null hypothesis. The species have heights which are statistically different.\")\n",
    "else:\n",
    "    print(\"We accept (fail to reject) the null hypothesis. The species have the same average height.\")"
   ]
  },
  {
   "cell_type": "markdown",
   "id": "b6fc7121",
   "metadata": {},
   "source": [
    "### 5.1.4. Tree Height (three or more-sample test) - parametric assumptions not satisfied"
   ]
  },
  {
   "cell_type": "markdown",
   "id": "f64e4bd5",
   "metadata": {},
   "source": [
    "Researches want to know if there is significant difference between the average height of 4 groups which submitted to different treatments.\n",
    "\n",
    "        Assumptions: the plants are from the same specie."
   ]
  },
  {
   "cell_type": "code",
   "execution_count": 81,
   "id": "8bb221cb",
   "metadata": {
    "ExecuteTime": {
     "end_time": "2024-02-29T13:33:23.710558Z",
     "start_time": "2024-02-29T13:33:23.706281Z"
    }
   },
   "outputs": [],
   "source": [
    "df = pd.DataFrame({'A': [25, 30, 28, 36, 29],\n",
    "                   'B': [45, 55, 29, 56, 40],\n",
    "                   'C': [30, 29, 33, 37, 27],\n",
    "                   'D': [54, 60, 51, 62, 73]})"
   ]
  },
  {
   "cell_type": "code",
   "execution_count": 82,
   "id": "cb28ffc8",
   "metadata": {
    "ExecuteTime": {
     "end_time": "2024-02-29T13:33:23.737734Z",
     "start_time": "2024-02-29T13:33:23.730290Z"
    }
   },
   "outputs": [
    {
     "data": {
      "text/html": [
       "<div>\n",
       "<style scoped>\n",
       "    .dataframe tbody tr th:only-of-type {\n",
       "        vertical-align: middle;\n",
       "    }\n",
       "\n",
       "    .dataframe tbody tr th {\n",
       "        vertical-align: top;\n",
       "    }\n",
       "\n",
       "    .dataframe thead th {\n",
       "        text-align: right;\n",
       "    }\n",
       "</style>\n",
       "<table border=\"1\" class=\"dataframe\">\n",
       "  <thead>\n",
       "    <tr style=\"text-align: right;\">\n",
       "      <th></th>\n",
       "      <th>A</th>\n",
       "      <th>B</th>\n",
       "      <th>C</th>\n",
       "      <th>D</th>\n",
       "    </tr>\n",
       "  </thead>\n",
       "  <tbody>\n",
       "    <tr>\n",
       "      <th>0</th>\n",
       "      <td>25</td>\n",
       "      <td>45</td>\n",
       "      <td>30</td>\n",
       "      <td>54</td>\n",
       "    </tr>\n",
       "    <tr>\n",
       "      <th>1</th>\n",
       "      <td>30</td>\n",
       "      <td>55</td>\n",
       "      <td>29</td>\n",
       "      <td>60</td>\n",
       "    </tr>\n",
       "    <tr>\n",
       "      <th>2</th>\n",
       "      <td>28</td>\n",
       "      <td>29</td>\n",
       "      <td>33</td>\n",
       "      <td>51</td>\n",
       "    </tr>\n",
       "    <tr>\n",
       "      <th>3</th>\n",
       "      <td>36</td>\n",
       "      <td>56</td>\n",
       "      <td>37</td>\n",
       "      <td>62</td>\n",
       "    </tr>\n",
       "    <tr>\n",
       "      <th>4</th>\n",
       "      <td>29</td>\n",
       "      <td>40</td>\n",
       "      <td>27</td>\n",
       "      <td>73</td>\n",
       "    </tr>\n",
       "  </tbody>\n",
       "</table>\n",
       "</div>"
      ],
      "text/plain": [
       "    A   B   C   D\n",
       "0  25  45  30  54\n",
       "1  30  55  29  60\n",
       "2  28  29  33  51\n",
       "3  36  56  37  62\n",
       "4  29  40  27  73"
      ]
     },
     "execution_count": 82,
     "metadata": {},
     "output_type": "execute_result"
    }
   ],
   "source": [
    "df"
   ]
  },
  {
   "cell_type": "markdown",
   "id": "257beebd",
   "metadata": {},
   "source": [
    "Every letter above is a treatment. For each treatment we have 5 samples. What we must analyze is if there is a difference between the average height of the plants for each treatment group."
   ]
  },
  {
   "cell_type": "code",
   "execution_count": 83,
   "id": "96a8b9a5",
   "metadata": {
    "ExecuteTime": {
     "end_time": "2024-02-29T13:33:23.752375Z",
     "start_time": "2024-02-29T13:33:23.740007Z"
    }
   },
   "outputs": [
    {
     "data": {
      "text/html": [
       "<div>\n",
       "<style scoped>\n",
       "    .dataframe tbody tr th:only-of-type {\n",
       "        vertical-align: middle;\n",
       "    }\n",
       "\n",
       "    .dataframe tbody tr th {\n",
       "        vertical-align: top;\n",
       "    }\n",
       "\n",
       "    .dataframe thead th {\n",
       "        text-align: right;\n",
       "    }\n",
       "</style>\n",
       "<table border=\"1\" class=\"dataframe\">\n",
       "  <thead>\n",
       "    <tr style=\"text-align: right;\">\n",
       "      <th></th>\n",
       "      <th>index</th>\n",
       "      <th>treatment</th>\n",
       "      <th>value</th>\n",
       "    </tr>\n",
       "  </thead>\n",
       "  <tbody>\n",
       "    <tr>\n",
       "      <th>0</th>\n",
       "      <td>0</td>\n",
       "      <td>A</td>\n",
       "      <td>25</td>\n",
       "    </tr>\n",
       "    <tr>\n",
       "      <th>1</th>\n",
       "      <td>1</td>\n",
       "      <td>A</td>\n",
       "      <td>30</td>\n",
       "    </tr>\n",
       "    <tr>\n",
       "      <th>2</th>\n",
       "      <td>2</td>\n",
       "      <td>A</td>\n",
       "      <td>28</td>\n",
       "    </tr>\n",
       "    <tr>\n",
       "      <th>3</th>\n",
       "      <td>3</td>\n",
       "      <td>A</td>\n",
       "      <td>36</td>\n",
       "    </tr>\n",
       "    <tr>\n",
       "      <th>4</th>\n",
       "      <td>4</td>\n",
       "      <td>A</td>\n",
       "      <td>29</td>\n",
       "    </tr>\n",
       "    <tr>\n",
       "      <th>5</th>\n",
       "      <td>0</td>\n",
       "      <td>B</td>\n",
       "      <td>45</td>\n",
       "    </tr>\n",
       "    <tr>\n",
       "      <th>6</th>\n",
       "      <td>1</td>\n",
       "      <td>B</td>\n",
       "      <td>55</td>\n",
       "    </tr>\n",
       "    <tr>\n",
       "      <th>7</th>\n",
       "      <td>2</td>\n",
       "      <td>B</td>\n",
       "      <td>29</td>\n",
       "    </tr>\n",
       "    <tr>\n",
       "      <th>8</th>\n",
       "      <td>3</td>\n",
       "      <td>B</td>\n",
       "      <td>56</td>\n",
       "    </tr>\n",
       "    <tr>\n",
       "      <th>9</th>\n",
       "      <td>4</td>\n",
       "      <td>B</td>\n",
       "      <td>40</td>\n",
       "    </tr>\n",
       "    <tr>\n",
       "      <th>10</th>\n",
       "      <td>0</td>\n",
       "      <td>C</td>\n",
       "      <td>30</td>\n",
       "    </tr>\n",
       "    <tr>\n",
       "      <th>11</th>\n",
       "      <td>1</td>\n",
       "      <td>C</td>\n",
       "      <td>29</td>\n",
       "    </tr>\n",
       "    <tr>\n",
       "      <th>12</th>\n",
       "      <td>2</td>\n",
       "      <td>C</td>\n",
       "      <td>33</td>\n",
       "    </tr>\n",
       "    <tr>\n",
       "      <th>13</th>\n",
       "      <td>3</td>\n",
       "      <td>C</td>\n",
       "      <td>37</td>\n",
       "    </tr>\n",
       "    <tr>\n",
       "      <th>14</th>\n",
       "      <td>4</td>\n",
       "      <td>C</td>\n",
       "      <td>27</td>\n",
       "    </tr>\n",
       "    <tr>\n",
       "      <th>15</th>\n",
       "      <td>0</td>\n",
       "      <td>D</td>\n",
       "      <td>54</td>\n",
       "    </tr>\n",
       "    <tr>\n",
       "      <th>16</th>\n",
       "      <td>1</td>\n",
       "      <td>D</td>\n",
       "      <td>60</td>\n",
       "    </tr>\n",
       "    <tr>\n",
       "      <th>17</th>\n",
       "      <td>2</td>\n",
       "      <td>D</td>\n",
       "      <td>51</td>\n",
       "    </tr>\n",
       "    <tr>\n",
       "      <th>18</th>\n",
       "      <td>3</td>\n",
       "      <td>D</td>\n",
       "      <td>62</td>\n",
       "    </tr>\n",
       "    <tr>\n",
       "      <th>19</th>\n",
       "      <td>4</td>\n",
       "      <td>D</td>\n",
       "      <td>73</td>\n",
       "    </tr>\n",
       "  </tbody>\n",
       "</table>\n",
       "</div>"
      ],
      "text/plain": [
       "    index treatment  value\n",
       "0       0         A     25\n",
       "1       1         A     30\n",
       "2       2         A     28\n",
       "3       3         A     36\n",
       "4       4         A     29\n",
       "5       0         B     45\n",
       "6       1         B     55\n",
       "7       2         B     29\n",
       "8       3         B     56\n",
       "9       4         B     40\n",
       "10      0         C     30\n",
       "11      1         C     29\n",
       "12      2         C     33\n",
       "13      3         C     37\n",
       "14      4         C     27\n",
       "15      0         D     54\n",
       "16      1         D     60\n",
       "17      2         D     51\n",
       "18      3         D     62\n",
       "19      4         D     73"
      ]
     },
     "execution_count": 83,
     "metadata": {},
     "output_type": "execute_result"
    }
   ],
   "source": [
    "df_melt = pd.melt(df.reset_index(), id_vars=['index'], value_vars=['A', 'B', 'C', 'D'])\n",
    "df_melt.columns = ['index', 'treatment', 'value']\n",
    "df_melt"
   ]
  },
  {
   "cell_type": "code",
   "execution_count": 84,
   "id": "d6be5be5",
   "metadata": {
    "ExecuteTime": {
     "end_time": "2024-02-29T13:33:23.893614Z",
     "start_time": "2024-02-29T13:33:23.754470Z"
    }
   },
   "outputs": [
    {
     "data": {
      "image/png": "[encoded data removed]",
      "text/plain": [
       "<Figure size 640x480 with 1 Axes>"
      ]
     },
     "metadata": {},
     "output_type": "display_data"
    }
   ],
   "source": [
    "sns.boxplot(x='treatment', y='value', data=df_melt)\n",
    "sns.swarmplot(x='treatment', y='value', data=df_melt, color='b');"
   ]
  },
  {
   "cell_type": "markdown",
   "id": "a692a95e",
   "metadata": {},
   "source": [
    "#### Parametric Assumptions"
   ]
  },
  {
   "cell_type": "markdown",
   "id": "dffd4261",
   "metadata": {},
   "source": [
    "**Independent samples:** Yes."
   ]
  },
  {
   "cell_type": "markdown",
   "id": "1f9a43d0",
   "metadata": {},
   "source": [
    "**Normal distribution Shapiro-Wilk:** Yes."
   ]
  },
  {
   "cell_type": "code",
   "execution_count": 85,
   "id": "bac1df24",
   "metadata": {
    "ExecuteTime": {
     "end_time": "2024-02-29T13:33:23.898862Z",
     "start_time": "2024-02-29T13:33:23.895360Z"
    }
   },
   "outputs": [
    {
     "name": "stdout",
     "output_type": "stream",
     "text": [
      "Group A: ShapiroResult(statistic=0.9316344846564609, pvalue=0.6075583653996472)\n",
      "Group B: ShapiroResult(statistic=0.9264495969759936, pvalue=0.5723675006691977)\n",
      "Group C: ShapiroResult(statistic=0.9529604619046342, pvalue=0.7583121101708065)\n",
      "Group D: ShapiroResult(statistic=0.9448274077499924, pvalue=0.7002370626370356)\n"
     ]
    }
   ],
   "source": [
    "print(f\"Group A: {shapiro(df['A'])}\")\n",
    "print(f\"Group B: {shapiro(df['B'])}\")\n",
    "print(f\"Group C: {shapiro(df['C'])}\")\n",
    "print(f\"Group D: {shapiro(df['D'])}\")"
   ]
  },
  {
   "cell_type": "code",
   "execution_count": 86,
   "id": "eac5185d",
   "metadata": {
    "ExecuteTime": {
     "end_time": "2024-02-29T13:33:23.903544Z",
     "start_time": "2024-02-29T13:33:23.900524Z"
    }
   },
   "outputs": [],
   "source": [
    "statsA, pvalueA = shapiro(df['A'])\n",
    "statsB, pvalueB = shapiro(df['B'])\n",
    "statsC, pvalueC = shapiro(df['C'])\n",
    "statsD, pvalueD = shapiro(df['D'])"
   ]
  },
  {
   "cell_type": "code",
   "execution_count": 87,
   "id": "c46ab089",
   "metadata": {
    "ExecuteTime": {
     "end_time": "2024-02-29T13:33:23.907821Z",
     "start_time": "2024-02-29T13:33:23.905196Z"
    }
   },
   "outputs": [
    {
     "name": "stdout",
     "output_type": "stream",
     "text": [
      "We accept (fail to reject) the null hypothesis. It is a normal distribution for treatment A.\n"
     ]
    }
   ],
   "source": [
    "alpha = 0.05\n",
    "\n",
    "if pvalueA < alpha:\n",
    "    print(\"We reject the null hypothesis. It is a non normal distribution for treatment A.\")\n",
    "else:\n",
    "    print(\"We accept (fail to reject) the null hypothesis. It is a normal distribution for treatment A.\")"
   ]
  },
  {
   "cell_type": "code",
   "execution_count": 88,
   "id": "38149a1c",
   "metadata": {
    "ExecuteTime": {
     "end_time": "2024-02-29T13:33:23.912151Z",
     "start_time": "2024-02-29T13:33:23.909540Z"
    }
   },
   "outputs": [
    {
     "name": "stdout",
     "output_type": "stream",
     "text": [
      "We accept (fail to reject) the null hypothesis. It is a normal distribution for treatment B.\n"
     ]
    }
   ],
   "source": [
    "alpha = 0.05\n",
    "\n",
    "if pvalueB < alpha:\n",
    "    print(\"We reject the null hypothesis. It is a non normal distribution for treatment B.\")\n",
    "else:\n",
    "    print(\"We accept (fail to reject) the null hypothesis. It is a normal distribution for treatment B.\")"
   ]
  },
  {
   "cell_type": "code",
   "execution_count": 89,
   "id": "124ad096",
   "metadata": {
    "ExecuteTime": {
     "end_time": "2024-02-29T13:33:23.916704Z",
     "start_time": "2024-02-29T13:33:23.913847Z"
    }
   },
   "outputs": [
    {
     "name": "stdout",
     "output_type": "stream",
     "text": [
      "We accept (fail to reject) the null hypothesis. It is a normal distribution for treatment C.\n"
     ]
    }
   ],
   "source": [
    "alpha = 0.05\n",
    "\n",
    "if pvalueC < alpha:\n",
    "    print(\"We reject the null hypothesis. It is a non normal distribution for treatment C.\")\n",
    "else:\n",
    "    print(\"We accept (fail to reject) the null hypothesis. It is a normal distribution for treatment C.\")"
   ]
  },
  {
   "cell_type": "code",
   "execution_count": 90,
   "id": "98f93eec",
   "metadata": {
    "ExecuteTime": {
     "end_time": "2024-02-29T13:33:23.921945Z",
     "start_time": "2024-02-29T13:33:23.918563Z"
    }
   },
   "outputs": [
    {
     "name": "stdout",
     "output_type": "stream",
     "text": [
      "We accept (fail to reject) the null hypothesis. It is a normal distribution for treatment D.\n"
     ]
    }
   ],
   "source": [
    "alpha = 0.05\n",
    "\n",
    "if pvalueD < alpha:\n",
    "    print(\"We reject the null hypothesis. It is a non normal distribution for treatment D.\")\n",
    "else:\n",
    "    print(\"We accept (fail to reject) the null hypothesis. It is a normal distribution for treatment D.\")"
   ]
  },
  {
   "cell_type": "markdown",
   "id": "774b3a42",
   "metadata": {},
   "source": [
    "**Equal Variance:** No."
   ]
  },
  {
   "cell_type": "code",
   "execution_count": 91,
   "id": "96a46c13",
   "metadata": {
    "ExecuteTime": {
     "end_time": "2024-02-29T13:33:23.927968Z",
     "start_time": "2024-02-29T13:33:23.923826Z"
    }
   },
   "outputs": [
    {
     "name": "stdout",
     "output_type": "stream",
     "text": [
      "Variance - Group A: 13.04\n",
      "Variance - Group B: 100.4\n",
      "Variance - Group C: 12.16\n",
      "Variance - Group D: 58.0\n"
     ]
    }
   ],
   "source": [
    "print(f\"Variance - Group A: {round(np.var(df['A']), 2)}\")\n",
    "print(f\"Variance - Group B: {np.var(df['B'])}\")\n",
    "print(f\"Variance - Group C: {np.var(df['C'])}\")\n",
    "print(f\"Variance - Group D: {np.var(df['D'])}\")"
   ]
  },
  {
   "cell_type": "markdown",
   "id": "5ee07770",
   "metadata": {},
   "source": [
    "Let's calculate the ratio between the groups with the highest and the lowest variances:"
   ]
  },
  {
   "cell_type": "code",
   "execution_count": 92,
   "id": "bcefe5e2",
   "metadata": {
    "ExecuteTime": {
     "end_time": "2024-02-29T13:33:23.933970Z",
     "start_time": "2024-02-29T13:33:23.930023Z"
    }
   },
   "outputs": [
    {
     "data": {
      "text/plain": [
       "8.26"
      ]
     },
     "execution_count": 92,
     "metadata": {},
     "output_type": "execute_result"
    }
   ],
   "source": [
    "round(100.4/12.16, 2)"
   ]
  },
  {
   "cell_type": "markdown",
   "id": "4f020012",
   "metadata": {},
   "source": [
    "Value higher than 4. Thus, the groups do not have equal variance."
   ]
  },
  {
   "cell_type": "markdown",
   "id": "9fc68cdc",
   "metadata": {},
   "source": [
    "**Tukey test**"
   ]
  },
  {
   "cell_type": "code",
   "execution_count": 93,
   "id": "6ece922d",
   "metadata": {
    "ExecuteTime": {
     "end_time": "2024-02-29T13:33:23.943393Z",
     "start_time": "2024-02-29T13:33:23.935783Z"
    }
   },
   "outputs": [
    {
     "data": {
      "text/html": [
       "<div>\n",
       "<style scoped>\n",
       "    .dataframe tbody tr th:only-of-type {\n",
       "        vertical-align: middle;\n",
       "    }\n",
       "\n",
       "    .dataframe tbody tr th {\n",
       "        vertical-align: top;\n",
       "    }\n",
       "\n",
       "    .dataframe thead th {\n",
       "        text-align: right;\n",
       "    }\n",
       "</style>\n",
       "<table border=\"1\" class=\"dataframe\">\n",
       "  <thead>\n",
       "    <tr style=\"text-align: right;\">\n",
       "      <th></th>\n",
       "      <th>index</th>\n",
       "      <th>treatment</th>\n",
       "      <th>value</th>\n",
       "    </tr>\n",
       "  </thead>\n",
       "  <tbody>\n",
       "    <tr>\n",
       "      <th>0</th>\n",
       "      <td>0</td>\n",
       "      <td>A</td>\n",
       "      <td>25</td>\n",
       "    </tr>\n",
       "    <tr>\n",
       "      <th>1</th>\n",
       "      <td>1</td>\n",
       "      <td>A</td>\n",
       "      <td>30</td>\n",
       "    </tr>\n",
       "    <tr>\n",
       "      <th>2</th>\n",
       "      <td>2</td>\n",
       "      <td>A</td>\n",
       "      <td>28</td>\n",
       "    </tr>\n",
       "    <tr>\n",
       "      <th>3</th>\n",
       "      <td>3</td>\n",
       "      <td>A</td>\n",
       "      <td>36</td>\n",
       "    </tr>\n",
       "    <tr>\n",
       "      <th>4</th>\n",
       "      <td>4</td>\n",
       "      <td>A</td>\n",
       "      <td>29</td>\n",
       "    </tr>\n",
       "    <tr>\n",
       "      <th>5</th>\n",
       "      <td>0</td>\n",
       "      <td>B</td>\n",
       "      <td>45</td>\n",
       "    </tr>\n",
       "    <tr>\n",
       "      <th>6</th>\n",
       "      <td>1</td>\n",
       "      <td>B</td>\n",
       "      <td>55</td>\n",
       "    </tr>\n",
       "    <tr>\n",
       "      <th>7</th>\n",
       "      <td>2</td>\n",
       "      <td>B</td>\n",
       "      <td>29</td>\n",
       "    </tr>\n",
       "    <tr>\n",
       "      <th>8</th>\n",
       "      <td>3</td>\n",
       "      <td>B</td>\n",
       "      <td>56</td>\n",
       "    </tr>\n",
       "    <tr>\n",
       "      <th>9</th>\n",
       "      <td>4</td>\n",
       "      <td>B</td>\n",
       "      <td>40</td>\n",
       "    </tr>\n",
       "    <tr>\n",
       "      <th>10</th>\n",
       "      <td>0</td>\n",
       "      <td>C</td>\n",
       "      <td>30</td>\n",
       "    </tr>\n",
       "    <tr>\n",
       "      <th>11</th>\n",
       "      <td>1</td>\n",
       "      <td>C</td>\n",
       "      <td>29</td>\n",
       "    </tr>\n",
       "    <tr>\n",
       "      <th>12</th>\n",
       "      <td>2</td>\n",
       "      <td>C</td>\n",
       "      <td>33</td>\n",
       "    </tr>\n",
       "    <tr>\n",
       "      <th>13</th>\n",
       "      <td>3</td>\n",
       "      <td>C</td>\n",
       "      <td>37</td>\n",
       "    </tr>\n",
       "    <tr>\n",
       "      <th>14</th>\n",
       "      <td>4</td>\n",
       "      <td>C</td>\n",
       "      <td>27</td>\n",
       "    </tr>\n",
       "    <tr>\n",
       "      <th>15</th>\n",
       "      <td>0</td>\n",
       "      <td>D</td>\n",
       "      <td>54</td>\n",
       "    </tr>\n",
       "    <tr>\n",
       "      <th>16</th>\n",
       "      <td>1</td>\n",
       "      <td>D</td>\n",
       "      <td>60</td>\n",
       "    </tr>\n",
       "    <tr>\n",
       "      <th>17</th>\n",
       "      <td>2</td>\n",
       "      <td>D</td>\n",
       "      <td>51</td>\n",
       "    </tr>\n",
       "    <tr>\n",
       "      <th>18</th>\n",
       "      <td>3</td>\n",
       "      <td>D</td>\n",
       "      <td>62</td>\n",
       "    </tr>\n",
       "    <tr>\n",
       "      <th>19</th>\n",
       "      <td>4</td>\n",
       "      <td>D</td>\n",
       "      <td>73</td>\n",
       "    </tr>\n",
       "  </tbody>\n",
       "</table>\n",
       "</div>"
      ],
      "text/plain": [
       "    index treatment  value\n",
       "0       0         A     25\n",
       "1       1         A     30\n",
       "2       2         A     28\n",
       "3       3         A     36\n",
       "4       4         A     29\n",
       "5       0         B     45\n",
       "6       1         B     55\n",
       "7       2         B     29\n",
       "8       3         B     56\n",
       "9       4         B     40\n",
       "10      0         C     30\n",
       "11      1         C     29\n",
       "12      2         C     33\n",
       "13      3         C     37\n",
       "14      4         C     27\n",
       "15      0         D     54\n",
       "16      1         D     60\n",
       "17      2         D     51\n",
       "18      3         D     62\n",
       "19      4         D     73"
      ]
     },
     "execution_count": 93,
     "metadata": {},
     "output_type": "execute_result"
    }
   ],
   "source": [
    "df_melt"
   ]
  },
  {
   "cell_type": "code",
   "execution_count": 94,
   "id": "81692b0a",
   "metadata": {
    "ExecuteTime": {
     "end_time": "2024-02-29T13:33:24.307001Z",
     "start_time": "2024-02-29T13:33:23.945844Z"
    }
   },
   "outputs": [],
   "source": [
    "tukey = pairwise_tukeyhsd(endog=df_melt[\"value\"], groups=df_melt[\"treatment\"], alpha=0.05)"
   ]
  },
  {
   "cell_type": "code",
   "execution_count": 95,
   "id": "60f70969",
   "metadata": {
    "ExecuteTime": {
     "end_time": "2024-02-29T13:33:24.311575Z",
     "start_time": "2024-02-29T13:33:24.308401Z"
    }
   },
   "outputs": [
    {
     "data": {
      "text/plain": [
       "<statsmodels.sandbox.stats.multicomp.TukeyHSDResults at 0x7fa567368d90>"
      ]
     },
     "execution_count": 95,
     "metadata": {},
     "output_type": "execute_result"
    }
   ],
   "source": [
    "tukey"
   ]
  },
  {
   "cell_type": "code",
   "execution_count": 96,
   "id": "1d85ade8",
   "metadata": {
    "ExecuteTime": {
     "end_time": "2024-02-29T13:33:24.317523Z",
     "start_time": "2024-02-29T13:33:24.313473Z"
    }
   },
   "outputs": [
    {
     "name": "stdout",
     "output_type": "stream",
     "text": [
      "Multiple Comparison of Means - Tukey HSD, FWER=0.05\n",
      "===================================================\n",
      "group1 group2 meandiff p-adj   lower  upper  reject\n",
      "---------------------------------------------------\n",
      "     A      B     15.4 0.0251   1.694 29.106   True\n",
      "     A      C      1.6 0.9867 -12.106 15.306  False\n",
      "     A      D     30.4 0.0001  16.694 44.106   True\n",
      "     B      C    -13.8 0.0482 -27.506 -0.094   True\n",
      "     B      D     15.0 0.0296   1.294 28.706   True\n",
      "     C      D     28.8 0.0001  15.094 42.506   True\n",
      "---------------------------------------------------\n"
     ]
    }
   ],
   "source": [
    "print(tukey)"
   ]
  },
  {
   "cell_type": "markdown",
   "id": "4329ed02",
   "metadata": {
    "ExecuteTime": {
     "end_time": "2024-02-28T16:11:54.936969Z",
     "start_time": "2024-02-28T16:11:54.932976Z"
    }
   },
   "source": [
    "alpha = 0.05\n",
    "\n",
    "if **pvalue < alpha**:\n",
    "    \"We reject the null hypothesis. The plants have heights which are statistically different.\n",
    "     That means there is difference between the treatments.\"\n",
    "     \n",
    "elif **pvalue > alpha**:\n",
    "    \"We accept (fail to reject) the null hypothesis. The plants have the same average height.\n",
    "     That means there is no difference between the treatments.\""
   ]
  },
  {
   "cell_type": "markdown",
   "id": "b01fc7a3",
   "metadata": {},
   "source": [
    "By the table above, we only accept the null hypothesis for difference between group A and C. That means there is no difference between the treatments for group A and C. \n",
    "\n",
    "But there is statistical difference between the treatment for the other groups."
   ]
  },
  {
   "cell_type": "markdown",
   "id": "be99d2b0",
   "metadata": {},
   "source": [
    "### 5.1.5. Tree Height (three or more-sample test) - parametric assumptions satisfied"
   ]
  },
  {
   "cell_type": "code",
   "execution_count": 97,
   "id": "92f3fb5e",
   "metadata": {
    "ExecuteTime": {
     "end_time": "2024-02-29T13:33:24.322814Z",
     "start_time": "2024-02-29T13:33:24.319620Z"
    }
   },
   "outputs": [],
   "source": [
    "group1 = [7, 14, 14, 13, 12, 9, 6, 14, 12, 8]\n",
    "group2 = [15, 17, 13, 15, 15, 13, 9, 12, 10, 8]\n",
    "group3 = [6, 8, 8, 9, 5, 14, 13, 8, 10, 9]"
   ]
  },
  {
   "cell_type": "code",
   "execution_count": 98,
   "id": "76da1c60",
   "metadata": {
    "ExecuteTime": {
     "end_time": "2024-02-29T13:33:24.327533Z",
     "start_time": "2024-02-29T13:33:24.324506Z"
    }
   },
   "outputs": [],
   "source": [
    "df = pd.DataFrame({'group1': [7, 14, 14, 13, 12, 9, 6, 14, 12, 8],\n",
    "                   'group2': [15, 17, 13, 15, 15, 13, 9, 12, 10, 8],\n",
    "                   'group3': [6, 8, 8, 9, 5, 14, 13, 8, 10, 9]})"
   ]
  },
  {
   "cell_type": "code",
   "execution_count": 99,
   "id": "c12f49c6",
   "metadata": {
    "ExecuteTime": {
     "end_time": "2024-02-29T13:33:24.334508Z",
     "start_time": "2024-02-29T13:33:24.329025Z"
    }
   },
   "outputs": [
    {
     "data": {
      "text/html": [
       "<div>\n",
       "<style scoped>\n",
       "    .dataframe tbody tr th:only-of-type {\n",
       "        vertical-align: middle;\n",
       "    }\n",
       "\n",
       "    .dataframe tbody tr th {\n",
       "        vertical-align: top;\n",
       "    }\n",
       "\n",
       "    .dataframe thead th {\n",
       "        text-align: right;\n",
       "    }\n",
       "</style>\n",
       "<table border=\"1\" class=\"dataframe\">\n",
       "  <thead>\n",
       "    <tr style=\"text-align: right;\">\n",
       "      <th></th>\n",
       "      <th>group1</th>\n",
       "      <th>group2</th>\n",
       "      <th>group3</th>\n",
       "    </tr>\n",
       "  </thead>\n",
       "  <tbody>\n",
       "    <tr>\n",
       "      <th>0</th>\n",
       "      <td>7</td>\n",
       "      <td>15</td>\n",
       "      <td>6</td>\n",
       "    </tr>\n",
       "    <tr>\n",
       "      <th>1</th>\n",
       "      <td>14</td>\n",
       "      <td>17</td>\n",
       "      <td>8</td>\n",
       "    </tr>\n",
       "    <tr>\n",
       "      <th>2</th>\n",
       "      <td>14</td>\n",
       "      <td>13</td>\n",
       "      <td>8</td>\n",
       "    </tr>\n",
       "    <tr>\n",
       "      <th>3</th>\n",
       "      <td>13</td>\n",
       "      <td>15</td>\n",
       "      <td>9</td>\n",
       "    </tr>\n",
       "    <tr>\n",
       "      <th>4</th>\n",
       "      <td>12</td>\n",
       "      <td>15</td>\n",
       "      <td>5</td>\n",
       "    </tr>\n",
       "    <tr>\n",
       "      <th>5</th>\n",
       "      <td>9</td>\n",
       "      <td>13</td>\n",
       "      <td>14</td>\n",
       "    </tr>\n",
       "    <tr>\n",
       "      <th>6</th>\n",
       "      <td>6</td>\n",
       "      <td>9</td>\n",
       "      <td>13</td>\n",
       "    </tr>\n",
       "    <tr>\n",
       "      <th>7</th>\n",
       "      <td>14</td>\n",
       "      <td>12</td>\n",
       "      <td>8</td>\n",
       "    </tr>\n",
       "    <tr>\n",
       "      <th>8</th>\n",
       "      <td>12</td>\n",
       "      <td>10</td>\n",
       "      <td>10</td>\n",
       "    </tr>\n",
       "    <tr>\n",
       "      <th>9</th>\n",
       "      <td>8</td>\n",
       "      <td>8</td>\n",
       "      <td>9</td>\n",
       "    </tr>\n",
       "  </tbody>\n",
       "</table>\n",
       "</div>"
      ],
      "text/plain": [
       "   group1  group2  group3\n",
       "0       7      15       6\n",
       "1      14      17       8\n",
       "2      14      13       8\n",
       "3      13      15       9\n",
       "4      12      15       5\n",
       "5       9      13      14\n",
       "6       6       9      13\n",
       "7      14      12       8\n",
       "8      12      10      10\n",
       "9       8       8       9"
      ]
     },
     "execution_count": 99,
     "metadata": {},
     "output_type": "execute_result"
    }
   ],
   "source": [
    "df"
   ]
  },
  {
   "cell_type": "markdown",
   "id": "1860b4d5",
   "metadata": {},
   "source": [
    "Every group above is a treatment. For each treatment we have 10 samples. What we must analyze is if there is a difference between the average height of the plants for each treatment group."
   ]
  },
  {
   "cell_type": "code",
   "execution_count": 100,
   "id": "7604cff7",
   "metadata": {
    "ExecuteTime": {
     "end_time": "2024-02-29T13:33:24.348802Z",
     "start_time": "2024-02-29T13:33:24.336441Z"
    }
   },
   "outputs": [
    {
     "data": {
      "text/html": [
       "<div>\n",
       "<style scoped>\n",
       "    .dataframe tbody tr th:only-of-type {\n",
       "        vertical-align: middle;\n",
       "    }\n",
       "\n",
       "    .dataframe tbody tr th {\n",
       "        vertical-align: top;\n",
       "    }\n",
       "\n",
       "    .dataframe thead th {\n",
       "        text-align: right;\n",
       "    }\n",
       "</style>\n",
       "<table border=\"1\" class=\"dataframe\">\n",
       "  <thead>\n",
       "    <tr style=\"text-align: right;\">\n",
       "      <th></th>\n",
       "      <th>index</th>\n",
       "      <th>treatment</th>\n",
       "      <th>value</th>\n",
       "    </tr>\n",
       "  </thead>\n",
       "  <tbody>\n",
       "    <tr>\n",
       "      <th>0</th>\n",
       "      <td>0</td>\n",
       "      <td>group1</td>\n",
       "      <td>7</td>\n",
       "    </tr>\n",
       "    <tr>\n",
       "      <th>1</th>\n",
       "      <td>1</td>\n",
       "      <td>group1</td>\n",
       "      <td>14</td>\n",
       "    </tr>\n",
       "    <tr>\n",
       "      <th>2</th>\n",
       "      <td>2</td>\n",
       "      <td>group1</td>\n",
       "      <td>14</td>\n",
       "    </tr>\n",
       "    <tr>\n",
       "      <th>3</th>\n",
       "      <td>3</td>\n",
       "      <td>group1</td>\n",
       "      <td>13</td>\n",
       "    </tr>\n",
       "    <tr>\n",
       "      <th>4</th>\n",
       "      <td>4</td>\n",
       "      <td>group1</td>\n",
       "      <td>12</td>\n",
       "    </tr>\n",
       "    <tr>\n",
       "      <th>5</th>\n",
       "      <td>5</td>\n",
       "      <td>group1</td>\n",
       "      <td>9</td>\n",
       "    </tr>\n",
       "    <tr>\n",
       "      <th>6</th>\n",
       "      <td>6</td>\n",
       "      <td>group1</td>\n",
       "      <td>6</td>\n",
       "    </tr>\n",
       "    <tr>\n",
       "      <th>7</th>\n",
       "      <td>7</td>\n",
       "      <td>group1</td>\n",
       "      <td>14</td>\n",
       "    </tr>\n",
       "    <tr>\n",
       "      <th>8</th>\n",
       "      <td>8</td>\n",
       "      <td>group1</td>\n",
       "      <td>12</td>\n",
       "    </tr>\n",
       "    <tr>\n",
       "      <th>9</th>\n",
       "      <td>9</td>\n",
       "      <td>group1</td>\n",
       "      <td>8</td>\n",
       "    </tr>\n",
       "    <tr>\n",
       "      <th>10</th>\n",
       "      <td>0</td>\n",
       "      <td>group2</td>\n",
       "      <td>15</td>\n",
       "    </tr>\n",
       "    <tr>\n",
       "      <th>11</th>\n",
       "      <td>1</td>\n",
       "      <td>group2</td>\n",
       "      <td>17</td>\n",
       "    </tr>\n",
       "    <tr>\n",
       "      <th>12</th>\n",
       "      <td>2</td>\n",
       "      <td>group2</td>\n",
       "      <td>13</td>\n",
       "    </tr>\n",
       "    <tr>\n",
       "      <th>13</th>\n",
       "      <td>3</td>\n",
       "      <td>group2</td>\n",
       "      <td>15</td>\n",
       "    </tr>\n",
       "    <tr>\n",
       "      <th>14</th>\n",
       "      <td>4</td>\n",
       "      <td>group2</td>\n",
       "      <td>15</td>\n",
       "    </tr>\n",
       "    <tr>\n",
       "      <th>15</th>\n",
       "      <td>5</td>\n",
       "      <td>group2</td>\n",
       "      <td>13</td>\n",
       "    </tr>\n",
       "    <tr>\n",
       "      <th>16</th>\n",
       "      <td>6</td>\n",
       "      <td>group2</td>\n",
       "      <td>9</td>\n",
       "    </tr>\n",
       "    <tr>\n",
       "      <th>17</th>\n",
       "      <td>7</td>\n",
       "      <td>group2</td>\n",
       "      <td>12</td>\n",
       "    </tr>\n",
       "    <tr>\n",
       "      <th>18</th>\n",
       "      <td>8</td>\n",
       "      <td>group2</td>\n",
       "      <td>10</td>\n",
       "    </tr>\n",
       "    <tr>\n",
       "      <th>19</th>\n",
       "      <td>9</td>\n",
       "      <td>group2</td>\n",
       "      <td>8</td>\n",
       "    </tr>\n",
       "    <tr>\n",
       "      <th>20</th>\n",
       "      <td>0</td>\n",
       "      <td>group3</td>\n",
       "      <td>6</td>\n",
       "    </tr>\n",
       "    <tr>\n",
       "      <th>21</th>\n",
       "      <td>1</td>\n",
       "      <td>group3</td>\n",
       "      <td>8</td>\n",
       "    </tr>\n",
       "    <tr>\n",
       "      <th>22</th>\n",
       "      <td>2</td>\n",
       "      <td>group3</td>\n",
       "      <td>8</td>\n",
       "    </tr>\n",
       "    <tr>\n",
       "      <th>23</th>\n",
       "      <td>3</td>\n",
       "      <td>group3</td>\n",
       "      <td>9</td>\n",
       "    </tr>\n",
       "    <tr>\n",
       "      <th>24</th>\n",
       "      <td>4</td>\n",
       "      <td>group3</td>\n",
       "      <td>5</td>\n",
       "    </tr>\n",
       "    <tr>\n",
       "      <th>25</th>\n",
       "      <td>5</td>\n",
       "      <td>group3</td>\n",
       "      <td>14</td>\n",
       "    </tr>\n",
       "    <tr>\n",
       "      <th>26</th>\n",
       "      <td>6</td>\n",
       "      <td>group3</td>\n",
       "      <td>13</td>\n",
       "    </tr>\n",
       "    <tr>\n",
       "      <th>27</th>\n",
       "      <td>7</td>\n",
       "      <td>group3</td>\n",
       "      <td>8</td>\n",
       "    </tr>\n",
       "    <tr>\n",
       "      <th>28</th>\n",
       "      <td>8</td>\n",
       "      <td>group3</td>\n",
       "      <td>10</td>\n",
       "    </tr>\n",
       "    <tr>\n",
       "      <th>29</th>\n",
       "      <td>9</td>\n",
       "      <td>group3</td>\n",
       "      <td>9</td>\n",
       "    </tr>\n",
       "  </tbody>\n",
       "</table>\n",
       "</div>"
      ],
      "text/plain": [
       "    index treatment  value\n",
       "0       0    group1      7\n",
       "1       1    group1     14\n",
       "2       2    group1     14\n",
       "3       3    group1     13\n",
       "4       4    group1     12\n",
       "5       5    group1      9\n",
       "6       6    group1      6\n",
       "7       7    group1     14\n",
       "8       8    group1     12\n",
       "9       9    group1      8\n",
       "10      0    group2     15\n",
       "11      1    group2     17\n",
       "12      2    group2     13\n",
       "13      3    group2     15\n",
       "14      4    group2     15\n",
       "15      5    group2     13\n",
       "16      6    group2      9\n",
       "17      7    group2     12\n",
       "18      8    group2     10\n",
       "19      9    group2      8\n",
       "20      0    group3      6\n",
       "21      1    group3      8\n",
       "22      2    group3      8\n",
       "23      3    group3      9\n",
       "24      4    group3      5\n",
       "25      5    group3     14\n",
       "26      6    group3     13\n",
       "27      7    group3      8\n",
       "28      8    group3     10\n",
       "29      9    group3      9"
      ]
     },
     "execution_count": 100,
     "metadata": {},
     "output_type": "execute_result"
    }
   ],
   "source": [
    "df_melt = pd.melt(df.reset_index(), id_vars=['index'], value_vars=['group1', 'group2', 'group3'])\n",
    "df_melt.columns = ['index', 'treatment', 'value']\n",
    "df_melt"
   ]
  },
  {
   "cell_type": "code",
   "execution_count": 101,
   "id": "2952d3b9",
   "metadata": {
    "ExecuteTime": {
     "end_time": "2024-02-29T13:33:24.477138Z",
     "start_time": "2024-02-29T13:33:24.350530Z"
    }
   },
   "outputs": [
    {
     "data": {
      "image/png": "[encoded data removed]",
      "text/plain": [
       "<Figure size 640x480 with 1 Axes>"
      ]
     },
     "metadata": {},
     "output_type": "display_data"
    }
   ],
   "source": [
    "sns.boxplot(x='treatment', y='value', data=df_melt)\n",
    "sns.swarmplot(x='treatment', y='value', data=df_melt, color='b');"
   ]
  },
  {
   "cell_type": "markdown",
   "id": "ee0c607b",
   "metadata": {},
   "source": [
    "#### Parametric Assumptions"
   ]
  },
  {
   "cell_type": "markdown",
   "id": "a7f98222",
   "metadata": {},
   "source": [
    "**Independent samples:** Yes."
   ]
  },
  {
   "cell_type": "markdown",
   "id": "974f0a70",
   "metadata": {},
   "source": [
    "**Normal distribution:** Yes."
   ]
  },
  {
   "cell_type": "code",
   "execution_count": 102,
   "id": "0d8e0703",
   "metadata": {
    "ExecuteTime": {
     "end_time": "2024-02-29T13:33:24.482112Z",
     "start_time": "2024-02-29T13:33:24.478682Z"
    }
   },
   "outputs": [
    {
     "name": "stdout",
     "output_type": "stream",
     "text": [
      "Group A: ShapiroResult(statistic=0.8649576292554357, pvalue=0.08727403200088614)\n",
      "Group B: ShapiroResult(statistic=0.9420136917198102, pvalue=0.5756303783046521)\n",
      "Group C: ShapiroResult(statistic=0.9275448821686783, pvalue=0.4241825107019919)\n"
     ]
    }
   ],
   "source": [
    "print(f\"Group A: {shapiro(df['group1'])}\")\n",
    "print(f\"Group B: {shapiro(df['group2'])}\")\n",
    "print(f\"Group C: {shapiro(df['group3'])}\")"
   ]
  },
  {
   "cell_type": "code",
   "execution_count": 103,
   "id": "b0435636",
   "metadata": {
    "ExecuteTime": {
     "end_time": "2024-02-29T13:33:24.486578Z",
     "start_time": "2024-02-29T13:33:24.483668Z"
    }
   },
   "outputs": [],
   "source": [
    "stats1, pvalue1 = shapiro(df['group1'])\n",
    "stats2, pvalue2 = shapiro(df['group2'])\n",
    "stats3, pvalue3 = shapiro(df['group3'])"
   ]
  },
  {
   "cell_type": "code",
   "execution_count": 104,
   "id": "15d06818",
   "metadata": {
    "ExecuteTime": {
     "end_time": "2024-02-29T13:33:24.490818Z",
     "start_time": "2024-02-29T13:33:24.488162Z"
    }
   },
   "outputs": [
    {
     "name": "stdout",
     "output_type": "stream",
     "text": [
      "We accept (fail to reject) the null hypothesis. It is a normal distribution for treatment 1.\n"
     ]
    }
   ],
   "source": [
    "alpha = 0.05\n",
    "\n",
    "if pvalue1 < alpha:\n",
    "    print(\"We reject the null hypothesis. It is a non normal distribution for treatment 1.\")\n",
    "else:\n",
    "    print(\"We accept (fail to reject) the null hypothesis. It is a normal distribution for treatment 1.\")"
   ]
  },
  {
   "cell_type": "code",
   "execution_count": 105,
   "id": "2255e47a",
   "metadata": {
    "ExecuteTime": {
     "end_time": "2024-02-29T13:33:24.495193Z",
     "start_time": "2024-02-29T13:33:24.492510Z"
    }
   },
   "outputs": [
    {
     "name": "stdout",
     "output_type": "stream",
     "text": [
      "We accept (fail to reject) the null hypothesis. It is a normal distribution for treatment 2.\n"
     ]
    }
   ],
   "source": [
    "alpha = 0.05\n",
    "\n",
    "if pvalue2 < alpha:\n",
    "    print(\"We reject the null hypothesis. It is a non normal distribution for treatment 2.\")\n",
    "else:\n",
    "    print(\"We accept (fail to reject) the null hypothesis. It is a normal distribution for treatment 2.\")"
   ]
  },
  {
   "cell_type": "code",
   "execution_count": 106,
   "id": "4a935811",
   "metadata": {
    "ExecuteTime": {
     "end_time": "2024-02-29T13:33:24.499714Z",
     "start_time": "2024-02-29T13:33:24.496770Z"
    }
   },
   "outputs": [
    {
     "name": "stdout",
     "output_type": "stream",
     "text": [
      "We accept (fail to reject) the null hypothesis. It is a normal distribution for treatment 3.\n"
     ]
    }
   ],
   "source": [
    "alpha = 0.05\n",
    "\n",
    "if pvalue3 < alpha:\n",
    "    print(\"We reject the null hypothesis. It is a non normal distribution for treatment 3.\")\n",
    "else:\n",
    "    print(\"We accept (fail to reject) the null hypothesis. It is a normal distribution for treatment 3.\")"
   ]
  },
  {
   "cell_type": "markdown",
   "id": "95c98023",
   "metadata": {},
   "source": [
    "**Equal variance:** Yes."
   ]
  },
  {
   "cell_type": "code",
   "execution_count": 107,
   "id": "ed25d74a",
   "metadata": {
    "ExecuteTime": {
     "end_time": "2024-02-29T13:33:24.506192Z",
     "start_time": "2024-02-29T13:33:24.501891Z"
    }
   },
   "outputs": [
    {
     "name": "stdout",
     "output_type": "stream",
     "text": [
      "Variance - Group 1: 8.69\n",
      "Variance - Group 2: 7.81\n",
      "Variance - Group 3: 7.0\n"
     ]
    }
   ],
   "source": [
    "print(f\"Variance - Group 1: {round(np.var(df['group1']), 2)}\")\n",
    "print(f\"Variance - Group 2: {round(np.var(df['group2']), 2)}\")\n",
    "print(f\"Variance - Group 3: {np.var(df['group3'])}\")"
   ]
  },
  {
   "cell_type": "markdown",
   "id": "16c3ae6d",
   "metadata": {},
   "source": [
    "Let's calculate the ratio between the groups with the highest and the lowest variances:"
   ]
  },
  {
   "cell_type": "code",
   "execution_count": 108,
   "id": "7e7f4ca2",
   "metadata": {
    "ExecuteTime": {
     "end_time": "2024-02-29T13:33:24.513246Z",
     "start_time": "2024-02-29T13:33:24.509391Z"
    }
   },
   "outputs": [
    {
     "data": {
      "text/plain": [
       "1.24"
      ]
     },
     "execution_count": 108,
     "metadata": {},
     "output_type": "execute_result"
    }
   ],
   "source": [
    "round(8.69/7.0, 2)"
   ]
  },
  {
   "cell_type": "markdown",
   "id": "2804fdc3",
   "metadata": {},
   "source": [
    "Value lower than 4. Thus, the groups have equal variance."
   ]
  },
  {
   "cell_type": "markdown",
   "id": "a2ebb37a",
   "metadata": {},
   "source": [
    "**One-Way ANOVA**"
   ]
  },
  {
   "cell_type": "code",
   "execution_count": 109,
   "id": "68b58b4a",
   "metadata": {
    "ExecuteTime": {
     "end_time": "2024-02-29T13:33:24.519893Z",
     "start_time": "2024-02-29T13:33:24.515588Z"
    }
   },
   "outputs": [
    {
     "name": "stdout",
     "output_type": "stream",
     "text": [
      "pvalue: 0.03168967003662914\n"
     ]
    }
   ],
   "source": [
    "stats, pvalue = f_oneway(df['group1'], df['group2'], df['group3'])\n",
    "print(f\"pvalue: {pvalue}\")"
   ]
  },
  {
   "cell_type": "code",
   "execution_count": 110,
   "id": "b3f673e9",
   "metadata": {
    "ExecuteTime": {
     "end_time": "2024-02-29T13:33:24.526077Z",
     "start_time": "2024-02-29T13:33:24.521963Z"
    }
   },
   "outputs": [
    {
     "name": "stdout",
     "output_type": "stream",
     "text": [
      "We reject the null hypothesis. The plants have heights which are statistically different.          \n",
      "That means there is difference between the treatments.\n"
     ]
    }
   ],
   "source": [
    "alpha = 0.05\n",
    "\n",
    "if pvalue < alpha:\n",
    "    print(\"We reject the null hypothesis. The plants have heights which are statistically different.\\\n",
    "          \\nThat means there is difference between the treatments.\")\n",
    "else:\n",
    "    print(\"We accept (fail to reject) the null hypothesis. The plants have the same average height.\\\n",
    "          \\n That means there is no difference between the treatments.\")"
   ]
  },
  {
   "cell_type": "markdown",
   "id": "0fc6ac24",
   "metadata": {},
   "source": [
    "The One-Way ANOVA test shows us that there is difference between groups. However, it does not show where is the difference. By the boxplot we posted, I suppose the difference is between group 2 and 3."
   ]
  },
  {
   "cell_type": "markdown",
   "id": "c3abbeb2",
   "metadata": {},
   "source": [
    "## 5.2. Hypotheses Test Application"
   ]
  },
  {
   "cell_type": "markdown",
   "id": "779d6476",
   "metadata": {},
   "source": [
    "For a binary response variable with number of samples higher than 5 (n > 5), we use the Chi-squared test as the hypotheses test."
   ]
  },
  {
   "cell_type": "markdown",
   "id": "9387dfae",
   "metadata": {},
   "source": [
    "**Hypotheses**\n",
    "\n",
    "**H<sub>0</sub>:** The conversions are statistically the same and equal to 11.26%.\n",
    "\n",
    "**H<sub>1</sub>:** The conversions are statistically different. "
   ]
  },
  {
   "cell_type": "markdown",
   "id": "3127b31c",
   "metadata": {},
   "source": [
    "Firstly, we have to transform the dataset for test A/B (df_ab) to a format that is able to perform the Chi-squared test."
   ]
  },
  {
   "cell_type": "code",
   "execution_count": 111,
   "id": "0be35093",
   "metadata": {
    "ExecuteTime": {
     "end_time": "2024-02-29T13:33:24.532965Z",
     "start_time": "2024-02-29T13:33:24.528655Z"
    }
   },
   "outputs": [
    {
     "data": {
      "text/plain": [
       "(8866, 5)"
      ]
     },
     "execution_count": 111,
     "metadata": {},
     "output_type": "execute_result"
    }
   ],
   "source": [
    "df_ab.shape"
   ]
  },
  {
   "cell_type": "code",
   "execution_count": 112,
   "id": "ffabf99e",
   "metadata": {
    "ExecuteTime": {
     "end_time": "2024-02-29T13:33:24.544549Z",
     "start_time": "2024-02-29T13:33:24.534933Z"
    }
   },
   "outputs": [
    {
     "data": {
      "text/html": [
       "<div>\n",
       "<style scoped>\n",
       "    .dataframe tbody tr th:only-of-type {\n",
       "        vertical-align: middle;\n",
       "    }\n",
       "\n",
       "    .dataframe tbody tr th {\n",
       "        vertical-align: top;\n",
       "    }\n",
       "\n",
       "    .dataframe thead th {\n",
       "        text-align: right;\n",
       "    }\n",
       "</style>\n",
       "<table border=\"1\" class=\"dataframe\">\n",
       "  <thead>\n",
       "    <tr style=\"text-align: right;\">\n",
       "      <th></th>\n",
       "      <th>user_id</th>\n",
       "      <th>timestamp</th>\n",
       "      <th>group</th>\n",
       "      <th>landing_page</th>\n",
       "      <th>converted</th>\n",
       "    </tr>\n",
       "  </thead>\n",
       "  <tbody>\n",
       "    <tr>\n",
       "      <th>0</th>\n",
       "      <td>663037</td>\n",
       "      <td>2017-01-05 02:13:38.063443</td>\n",
       "      <td>control</td>\n",
       "      <td>old_page</td>\n",
       "      <td>0</td>\n",
       "    </tr>\n",
       "    <tr>\n",
       "      <th>1</th>\n",
       "      <td>932826</td>\n",
       "      <td>2017-01-13 04:50:06.941679</td>\n",
       "      <td>control</td>\n",
       "      <td>old_page</td>\n",
       "      <td>1</td>\n",
       "    </tr>\n",
       "    <tr>\n",
       "      <th>2</th>\n",
       "      <td>922999</td>\n",
       "      <td>2017-01-04 07:19:23.813317</td>\n",
       "      <td>control</td>\n",
       "      <td>old_page</td>\n",
       "      <td>0</td>\n",
       "    </tr>\n",
       "    <tr>\n",
       "      <th>3</th>\n",
       "      <td>857826</td>\n",
       "      <td>2017-01-19 02:27:37.678241</td>\n",
       "      <td>control</td>\n",
       "      <td>old_page</td>\n",
       "      <td>0</td>\n",
       "    </tr>\n",
       "    <tr>\n",
       "      <th>4</th>\n",
       "      <td>762926</td>\n",
       "      <td>2017-01-18 17:50:59.261406</td>\n",
       "      <td>control</td>\n",
       "      <td>old_page</td>\n",
       "      <td>0</td>\n",
       "    </tr>\n",
       "  </tbody>\n",
       "</table>\n",
       "</div>"
      ],
      "text/plain": [
       "   user_id                  timestamp    group landing_page  converted\n",
       "0   663037 2017-01-05 02:13:38.063443  control     old_page          0\n",
       "1   932826 2017-01-13 04:50:06.941679  control     old_page          1\n",
       "2   922999 2017-01-04 07:19:23.813317  control     old_page          0\n",
       "3   857826 2017-01-19 02:27:37.678241  control     old_page          0\n",
       "4   762926 2017-01-18 17:50:59.261406  control     old_page          0"
      ]
     },
     "execution_count": 112,
     "metadata": {},
     "output_type": "execute_result"
    }
   ],
   "source": [
    "df_ab.head()"
   ]
  },
  {
   "cell_type": "code",
   "execution_count": 113,
   "id": "ab79a4dc",
   "metadata": {
    "ExecuteTime": {
     "end_time": "2024-02-29T13:33:24.653142Z",
     "start_time": "2024-02-29T13:33:24.546862Z"
    }
   },
   "outputs": [
    {
     "data": {
      "text/html": [
       "<div>\n",
       "<style scoped>\n",
       "    .dataframe tbody tr th:only-of-type {\n",
       "        vertical-align: middle;\n",
       "    }\n",
       "\n",
       "    .dataframe tbody tr th {\n",
       "        vertical-align: top;\n",
       "    }\n",
       "\n",
       "    .dataframe thead th {\n",
       "        text-align: right;\n",
       "    }\n",
       "</style>\n",
       "<table border=\"1\" class=\"dataframe\">\n",
       "  <thead>\n",
       "    <tr style=\"text-align: right;\">\n",
       "      <th></th>\n",
       "      <th>converted</th>\n",
       "      <th>total</th>\n",
       "    </tr>\n",
       "    <tr>\n",
       "      <th>group</th>\n",
       "      <th></th>\n",
       "      <th></th>\n",
       "    </tr>\n",
       "  </thead>\n",
       "  <tbody>\n",
       "    <tr>\n",
       "      <th>control</th>\n",
       "      <td>499</td>\n",
       "      <td>4433</td>\n",
       "    </tr>\n",
       "    <tr>\n",
       "      <th>treatment</th>\n",
       "      <td>563</td>\n",
       "      <td>4433</td>\n",
       "    </tr>\n",
       "  </tbody>\n",
       "</table>\n",
       "</div>"
      ],
      "text/plain": [
       "           converted  total\n",
       "group                      \n",
       "control          499   4433\n",
       "treatment        563   4433"
      ]
     },
     "execution_count": 113,
     "metadata": {},
     "output_type": "execute_result"
    }
   ],
   "source": [
    "# Calculating converted users\n",
    "df_ab_new = df_ab[[\"group\", \"converted\"]].groupby(\"group\").agg({\"converted\": [\"sum\", \"count\"]})\n",
    "\n",
    "# Flatten the multi-index columns\n",
    "df_ab_new.columns = ['converted', 'total']\n",
    "\n",
    "# show\n",
    "df_ab_new"
   ]
  },
  {
   "cell_type": "code",
   "execution_count": 114,
   "id": "e173b7d1",
   "metadata": {
    "ExecuteTime": {
     "end_time": "2024-02-29T13:33:24.660644Z",
     "start_time": "2024-02-29T13:33:24.655482Z"
    }
   },
   "outputs": [
    {
     "data": {
      "text/plain": [
       "Chi2ContingencyResult(statistic=3.324968591618821, pvalue=0.06823531774778019, dof=1, expected_freq=array([[ 527.57695407, 4404.42304593],\n",
       "       [ 534.42304593, 4461.57695407]]))"
      ]
     },
     "execution_count": 114,
     "metadata": {},
     "output_type": "execute_result"
    }
   ],
   "source": [
    "chi2_contingency(df_ab_new)"
   ]
  },
  {
   "cell_type": "code",
   "execution_count": 115,
   "id": "686f27f8",
   "metadata": {
    "ExecuteTime": {
     "end_time": "2024-02-29T13:33:24.666398Z",
     "start_time": "2024-02-29T13:33:24.662680Z"
    }
   },
   "outputs": [
    {
     "name": "stdout",
     "output_type": "stream",
     "text": [
      "p-value: 0.0682\n"
     ]
    }
   ],
   "source": [
    "chi_val, pval, dof, expected = chi2_contingency(df_ab_new)\n",
    "print(f\"p-value: {round(pval, 4)}\")"
   ]
  },
  {
   "cell_type": "code",
   "execution_count": 116,
   "id": "784b93f9",
   "metadata": {
    "ExecuteTime": {
     "end_time": "2024-02-29T13:33:24.672600Z",
     "start_time": "2024-02-29T13:33:24.668827Z"
    }
   },
   "outputs": [
    {
     "name": "stdout",
     "output_type": "stream",
     "text": [
      "We accept (fail to reject) the null hypothesis. The webpages have statistically the same conversion.          \n",
      "That means the webpages do not have a layout which cause different purchases.\n"
     ]
    }
   ],
   "source": [
    "alpha = 0.05\n",
    "\n",
    "if pval < alpha:\n",
    "    print(\"We reject the null hypothesis. The webpages have converions which are statistically different.\\\n",
    "          \\nThat means the new webpage is better.\")\n",
    "else:\n",
    "    print(\"We accept (fail to reject) the null hypothesis. The webpages have statistically the same conversion.\\\n",
    "          \\nThat means the webpages do not have a layout which cause different purchases.\")"
   ]
  },
  {
   "cell_type": "markdown",
   "id": "25c88bba",
   "metadata": {},
   "source": [
    "The results above means that with the samples we have, we cannot infer better results for the new webpage. The possible next steps are:\n",
    "\n",
    "1. Improve the layout of the webpage. This is the most realistic option since we have a number of users which converted very close to each other.\n",
    "\n",
    "2. Increase the number of samples to perform a new A/B test. "
   ]
  },
  {
   "cell_type": "code",
   "execution_count": null,
   "id": "b718e85d",
   "metadata": {},
   "outputs": [],
   "source": []
  },
  {
   "cell_type": "code",
   "execution_count": null,
   "id": "a01a7b1f",
   "metadata": {},
   "outputs": [],
   "source": []
  },
  {
   "cell_type": "code",
   "execution_count": null,
   "id": "e87b0eab",
   "metadata": {},
   "outputs": [],
   "source": []
  },
  {
   "cell_type": "code",
   "execution_count": null,
   "id": "97e8b3a8",
   "metadata": {},
   "outputs": [],
   "source": []
  },
  {
   "cell_type": "code",
   "execution_count": null,
   "id": "2f5af7f5",
   "metadata": {},
   "outputs": [],
   "source": []
  }
 ],
 "metadata": {
  "kernelspec": {
   "display_name": "Python 3 (ipykernel)",
   "language": "python",
   "name": "python3"
  },
  "language_info": {
   "codemirror_mode": {
    "name": "ipython",
    "version": 3
   },
   "file_extension": ".py",
   "mimetype": "text/x-python",
   "name": "python",
   "nbconvert_exporter": "python",
   "pygments_lexer": "ipython3",
   "version": "3.9.13"
  }
 },
 "nbformat": 4,
 "nbformat_minor": 5
}
