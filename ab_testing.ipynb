{
 "cells": [
  {
   "cell_type": "markdown",
   "id": "f7a4f185",
   "metadata": {},
   "source": [
    "# A/B Testing Motivation"
   ]
  },
  {
   "cell_type": "markdown",
   "id": "5e2eefba",
   "metadata": {},
   "source": [
    "We have a current webpage. We want to implement a new webpage which is desired to have 2% higher of conversion. To measure the efficiency of the B-webpage, we must have two groups:\n",
    "\n",
    "        - Group A: Control group, which is the one we evaluate the conversion of A-webpage.\n",
    "        - Group B: Treatment group, which is the one we evaluate the performance of the B-webpage.\n",
    "        \n",
    "Thus, we will compare the performance of each webpage. The test must be performed by taking a sample from the population. "
   ]
  },
  {
   "cell_type": "markdown",
   "id": "5101fdf3",
   "metadata": {},
   "source": [
    "#### Execution\n",
    "\n",
    "- The groups must be homogeneous between each other. We have to create 2 groups randomly.\n",
    "- We have to assure that the difference between conversions are not from the randomness of the samples and the sample size. We may avoid this problem by using a statistical inference method to decide if whether the data can support a particular hypothesis.\n",
    "- To construct the hypothesis:\n",
    "\n",
    "        A: the current scenario (status quo), without modifications. (null hypothesis)\n",
    "            \n",
    "        B: the new scenario, with some new implementation or modification. (alternative hypothesis)\n",
    "        \n",
    "#### Rational\n",
    "\n",
    "\n",
    "**1.** We assume the **hypothesis A** as true. By doing this, we assume that there is no difference between the webpages. **(null hypothesis)**\n",
    "\n",
    "**2.** By assuming **hypothesis A** as true and that there is no difference between the pages, if we observe a conversion value very far from each other, it may be caused by the experiment randomness.\n",
    "\n",
    "**3.** If the probability (p-value) of happening the difference between the pages (null hypothesis) is very high: the randomness effect is so low that we may admit that the difference is caused by the pages. \n",
    "\n",
    "        That means: If the p-value is low, we reject the null hypothesis in favor of the alternative hypothesis. If it is high, we do not have enough evidence to reject the null hypothesis.\n",
    "        \n",
    "        The \"high value\" means higher than an alpha value (confidence value) we define. Usually, alpha is 0.05. Alpha is the maximum of randomness we admit.\n",
    "        \n",
    "**The main rational is:** if the probability **(p-value)** of happening the null hypothesis is higher than the maximum randomness **(alpha)** we admitted, therefore the null hypothesis is \"more important\" than randomness and we cannot reject null hypothesis - because we have low effect of randomness. But if the p-value is lower than the maximum randomness we admitted, thus the randomness is \"more important\" than the null hypothesis and therefore we may reject the null hypothesis. \n",
    "        "
   ]
  },
  {
   "cell_type": "markdown",
   "id": "bd350226",
   "metadata": {},
   "source": [
    "# Libraries"
   ]
  },
  {
   "cell_type": "code",
   "execution_count": 1,
   "id": "9c2fd04b",
   "metadata": {
    "ExecuteTime": {
     "end_time": "2024-02-16T13:18:26.382733Z",
     "start_time": "2024-02-16T13:18:25.892770Z"
    }
   },
   "outputs": [],
   "source": [
    "import pandas as pd\n"
   ]
  },
  {
   "cell_type": "code",
   "execution_count": 56,
   "id": "5bd9a9dd",
   "metadata": {
    "ExecuteTime": {
     "end_time": "2024-02-20T17:51:21.029405Z",
     "start_time": "2024-02-20T17:51:21.021509Z"
    }
   },
   "outputs": [],
   "source": [
    "import numpy as np\n",
    "import math\n",
    "import pingouin as pg\n",
    "import seaborn as sns\n",
    "from statsmodels.stats import api as sms\n",
    "from matplotlib import pyplot as plt\n",
    "from scipy.stats import ttest_1samp"
   ]
  },
  {
   "cell_type": "markdown",
   "id": "eb97157a",
   "metadata": {},
   "source": [
    "# Loading Data"
   ]
  },
  {
   "cell_type": "code",
   "execution_count": 3,
   "id": "e4e1ae59",
   "metadata": {
    "ExecuteTime": {
     "end_time": "2024-02-16T13:18:28.815222Z",
     "start_time": "2024-02-16T13:18:28.807392Z"
    }
   },
   "outputs": [
    {
     "data": {
      "text/plain": [
       "'/Users/lucasquemelli/Documents/repos/AB testing'"
      ]
     },
     "execution_count": 3,
     "metadata": {},
     "output_type": "execute_result"
    }
   ],
   "source": [
    "pwd"
   ]
  },
  {
   "cell_type": "code",
   "execution_count": 4,
   "id": "2db09fb8",
   "metadata": {
    "ExecuteTime": {
     "end_time": "2024-02-16T13:18:29.055637Z",
     "start_time": "2024-02-16T13:18:28.817823Z"
    }
   },
   "outputs": [],
   "source": [
    "data = pd.read_csv(\"/Users/lucasquemelli/Documents/repos/AB testing/ab_data.csv\")"
   ]
  },
  {
   "cell_type": "code",
   "execution_count": 5,
   "id": "e9176c60",
   "metadata": {
    "ExecuteTime": {
     "end_time": "2024-02-16T13:18:29.067459Z",
     "start_time": "2024-02-16T13:18:29.057617Z"
    }
   },
   "outputs": [
    {
     "data": {
      "text/html": [
       "<div>\n",
       "<style scoped>\n",
       "    .dataframe tbody tr th:only-of-type {\n",
       "        vertical-align: middle;\n",
       "    }\n",
       "\n",
       "    .dataframe tbody tr th {\n",
       "        vertical-align: top;\n",
       "    }\n",
       "\n",
       "    .dataframe thead th {\n",
       "        text-align: right;\n",
       "    }\n",
       "</style>\n",
       "<table border=\"1\" class=\"dataframe\">\n",
       "  <thead>\n",
       "    <tr style=\"text-align: right;\">\n",
       "      <th></th>\n",
       "      <th>user_id</th>\n",
       "      <th>timestamp</th>\n",
       "      <th>group</th>\n",
       "      <th>landing_page</th>\n",
       "      <th>converted</th>\n",
       "    </tr>\n",
       "  </thead>\n",
       "  <tbody>\n",
       "    <tr>\n",
       "      <th>0</th>\n",
       "      <td>851104</td>\n",
       "      <td>2017-01-21 22:11:48.556739</td>\n",
       "      <td>control</td>\n",
       "      <td>old_page</td>\n",
       "      <td>0</td>\n",
       "    </tr>\n",
       "    <tr>\n",
       "      <th>1</th>\n",
       "      <td>804228</td>\n",
       "      <td>2017-01-12 08:01:45.159739</td>\n",
       "      <td>control</td>\n",
       "      <td>old_page</td>\n",
       "      <td>0</td>\n",
       "    </tr>\n",
       "    <tr>\n",
       "      <th>2</th>\n",
       "      <td>661590</td>\n",
       "      <td>2017-01-11 16:55:06.154213</td>\n",
       "      <td>treatment</td>\n",
       "      <td>new_page</td>\n",
       "      <td>0</td>\n",
       "    </tr>\n",
       "    <tr>\n",
       "      <th>3</th>\n",
       "      <td>853541</td>\n",
       "      <td>2017-01-08 18:28:03.143765</td>\n",
       "      <td>treatment</td>\n",
       "      <td>new_page</td>\n",
       "      <td>0</td>\n",
       "    </tr>\n",
       "    <tr>\n",
       "      <th>4</th>\n",
       "      <td>864975</td>\n",
       "      <td>2017-01-21 01:52:26.210827</td>\n",
       "      <td>control</td>\n",
       "      <td>old_page</td>\n",
       "      <td>1</td>\n",
       "    </tr>\n",
       "  </tbody>\n",
       "</table>\n",
       "</div>"
      ],
      "text/plain": [
       "   user_id                   timestamp      group landing_page  converted\n",
       "0   851104  2017-01-21 22:11:48.556739    control     old_page          0\n",
       "1   804228  2017-01-12 08:01:45.159739    control     old_page          0\n",
       "2   661590  2017-01-11 16:55:06.154213  treatment     new_page          0\n",
       "3   853541  2017-01-08 18:28:03.143765  treatment     new_page          0\n",
       "4   864975  2017-01-21 01:52:26.210827    control     old_page          1"
      ]
     },
     "execution_count": 5,
     "metadata": {},
     "output_type": "execute_result"
    }
   ],
   "source": [
    "data.head()"
   ]
  },
  {
   "cell_type": "code",
   "execution_count": 6,
   "id": "0bdc660c",
   "metadata": {
    "ExecuteTime": {
     "end_time": "2024-02-16T13:18:29.072683Z",
     "start_time": "2024-02-16T13:18:29.069153Z"
    }
   },
   "outputs": [
    {
     "data": {
      "text/plain": [
       "(294478, 5)"
      ]
     },
     "execution_count": 6,
     "metadata": {},
     "output_type": "execute_result"
    }
   ],
   "source": [
    "data.shape"
   ]
  },
  {
   "cell_type": "markdown",
   "id": "a349d107",
   "metadata": {},
   "source": [
    "# 1. Experiment Design"
   ]
  },
  {
   "cell_type": "markdown",
   "id": "a5980198",
   "metadata": {},
   "source": [
    "Based on the bussiness, we must define the hypotheses and the type of the test. We cannot use both of the tests mentioned below, we must choose only one."
   ]
  },
  {
   "cell_type": "markdown",
   "id": "2e3a9569",
   "metadata": {},
   "source": [
    "## 1.1. Formulation of Hypotheses"
   ]
  },
  {
   "cell_type": "markdown",
   "id": "2882bd3e",
   "metadata": {},
   "source": [
    "As we already defined above, the hypotheses are as follows:\n",
    "\n",
    "**1. Hypothesis A**: we assume that there is no difference between the webpages. **(null hypothesis)**\n",
    "\n",
    "**2. Hypothesis B:** we assume that there is significant difference between the webpages. **(alternative hypothesis)**"
   ]
  },
  {
   "cell_type": "markdown",
   "id": "3bf9c5c1",
   "metadata": {},
   "source": [
    "## 1.2. One-tailed Test"
   ]
  },
  {
   "cell_type": "markdown",
   "id": "1cc9bfa5",
   "metadata": {},
   "source": [
    "A one-tailed test, also known as a one-sided test, is a statistical test used to determine if the sample data falls into a specific direction from the hypothesized population parameter. In a one-tailed test, the alternative hypothesis specifies a particular direction of the effect or difference being tested.\n",
    "\n",
    "For example, if we are testing whether a new drug increases the average lifespan of patients, the one-tailed test would focus on whether the drug increases lifespan without considering the possibility of it decreasing lifespan.\n",
    "\n",
    "The decision to use a one-tailed test depends on the specific research question and the directional hypothesis being tested. One-tailed tests are often used when there is strong theoretical or practical justification to expect an effect in a specific direction.\n",
    "\n",
    "It's important to note that one-tailed tests can be more powerful than two-tailed tests in detecting effects in the specified direction, but they also carry the risk of overlooking effects in the opposite direction. Therefore, researchers should carefully consider the choice of test based on the nature of the research question and the potential consequences of Type I and Type II errors."
   ]
  },
  {
   "cell_type": "markdown",
   "id": "7da54113",
   "metadata": {},
   "source": [
    "- **Null hypothesis:** when the probability of happen the null hypothesis (p<sub>0</sub>) is equal to the probability of happen the alternative hypothesis (p).\n",
    "## H<sub>0</sub>: p = p<sub>0</sub>"
   ]
  },
  {
   "cell_type": "markdown",
   "id": "9d5603ad",
   "metadata": {},
   "source": [
    "- **Alternative hypothesis:** when the probability of happen the alternative hypothesis (p) is higher the probability of happen the null hypothesis (p<sub>0</sub>).\n",
    "## H<sub>1</sub>: p > p<sub>0</sub>"
   ]
  },
  {
   "cell_type": "markdown",
   "id": "be1711ed",
   "metadata": {},
   "source": [
    "**ATTENTION:** to use this test we must aske ourselves if the effect can only goes to one direction. Could that only be higher? Could that only be lower?"
   ]
  },
  {
   "cell_type": "markdown",
   "id": "54c0394f",
   "metadata": {},
   "source": [
    "## 1.3. Two-tailed Test"
   ]
  },
  {
   "cell_type": "markdown",
   "id": "2ddf2b34",
   "metadata": {},
   "source": [
    "By comparing two webpages, the effect is not only one direction: the conversion may be higher or lower. At such a situation we use the two-tailed test."
   ]
  },
  {
   "cell_type": "markdown",
   "id": "e249b7da",
   "metadata": {},
   "source": [
    "A two-tailed test, also known as a two-sided test, is a statistical test used to determine if there is a significant difference between the observed sample data and the hypothesized population parameter in either direction. In a two-tailed test, the alternative hypothesis typically states that the parameter is not equal to a specific value, without specifying a particular direction of the effect.\n",
    "\n",
    "For example, if we are testing whether a new teaching method affects test scores, the two-tailed test would check whether there is a significant difference in test scores, regardless of whether they increase or decrease.\n",
    "\n",
    "The decision to use a two-tailed test is often made when there is no prior expectation or justification for a particular direction of the effect. It allows for a more conservative approach by considering the possibility of differences in both directions.\n",
    "\n",
    "In a two-tailed test, the critical region is split into two equal parts, with rejection regions in both tails of the distribution. The test statistic is compared to the critical values corresponding to the desired level of significance, typically α (alpha), divided equally between the two tails.\n",
    "\n",
    "It's important to note that two-tailed tests are generally less powerful than one-tailed tests for detecting effects in a specific direction. However, they provide a more comprehensive assessment of the data by considering the possibility of differences in both directions.\n",
    "\n",
    "Researchers should carefully consider the choice of test based on the specific research question, the nature of the data, and any prior theoretical or empirical evidence regarding the direction of the effect."
   ]
  },
  {
   "cell_type": "markdown",
   "id": "3a1d7bef",
   "metadata": {},
   "source": [
    "- **Null hypothesis:** when the probability of happen the null hypothesis (p<sub>0</sub>) is equal to the probability of happen the alternative hypothesis (p).\n",
    "## H<sub>0</sub>: p = p<sub>0</sub>"
   ]
  },
  {
   "cell_type": "markdown",
   "id": "7c162230",
   "metadata": {},
   "source": [
    "- **Alternative hypothesis:** when the probability of happen the alternative hypothesis (p) is different of the probability of happen the null hypothesis (p<sub>0</sub>).\n",
    "## H<sub>1</sub>: p <> p<sub>0</sub>"
   ]
  },
  {
   "cell_type": "markdown",
   "id": "b4b3d2a9",
   "metadata": {},
   "source": [
    "## 1.4. Tests Parameters"
   ]
  },
  {
   "cell_type": "markdown",
   "id": "416d7d75",
   "metadata": {},
   "source": [
    "After deciding between one-tailed or two-tailed test, we must define the parameters."
   ]
  },
  {
   "cell_type": "markdown",
   "id": "0b4fc8bb",
   "metadata": {},
   "source": [
    "### 1.4.1. Confidence Level"
   ]
  },
  {
   "cell_type": "markdown",
   "id": "49659b52",
   "metadata": {},
   "source": [
    "The confidence level in an A/B test is the measure of certainty with which you can trust the results of the test. It indicates the probability that the observed difference between groups (for example, the control group and the test group) is true and not merely due to chance.\n",
    "\n",
    "Typically, the confidence level is expressed as a percentage, such as 95% or 99%. A confidence level of 95%, for example, means there is a 95% probability that the observed difference between groups is statistically significant and not just a result of random variability in the data.\n",
    "\n",
    "The higher the chosen confidence level, the more confident you can be in the results of the test. However, it's important to balance the confidence level with sample size and test sensitivity, as very high confidence levels may require very large samples to detect small differences.\n",
    "\n",
    "In summary, the confidence level in an A/B test is a measure of the probability that the observed results are statistically significant and not due to chance, and it's crucial for assessing the validity and reliability of the test results."
   ]
  },
  {
   "cell_type": "code",
   "execution_count": 7,
   "id": "50d651d3",
   "metadata": {
    "ExecuteTime": {
     "end_time": "2024-02-16T13:18:29.076419Z",
     "start_time": "2024-02-16T13:18:29.074304Z"
    }
   },
   "outputs": [],
   "source": [
    "confidence_level = 0.95"
   ]
  },
  {
   "cell_type": "markdown",
   "id": "59cadbdb",
   "metadata": {},
   "source": [
    "### 1.4.2. Significance Level"
   ]
  },
  {
   "cell_type": "markdown",
   "id": "059e6663",
   "metadata": {},
   "source": [
    "This is: 1 - confidence level. "
   ]
  },
  {
   "cell_type": "markdown",
   "id": "fa248c45",
   "metadata": {},
   "source": [
    "The significance level in an A/B test, often denoted as α (alpha), is the probability of incorrectly rejecting the null hypothesis when it is actually true. In other words, it represents the threshold for determining whether an observed difference between groups is statistically significant or simply due to random variability.\n",
    "\n",
    "Typically, the significance level is set before conducting the test and is commonly chosen to be 0.05 (5%) or 0.01 (1%). This means that if the p-value calculated from the test is less than the significance level (e.g., p < 0.05), the null hypothesis is rejected, and the difference between groups is considered statistically significant.\n",
    "\n",
    "Conversely, if the p-value is greater than the significance level, the null hypothesis is not rejected, and the observed difference is not deemed statistically significant.\n",
    "\n",
    "Choosing the significance level involves a trade-off between Type I and Type II errors. A lower significance level (e.g., α = 0.01) reduces the probability of Type I errors (false positives), but increases the likelihood of Type II errors (false negatives). Conversely, a higher significance level (e.g., α = 0.10) decreases the chance of Type II errors but increases the risk of Type I errors.\n",
    "\n",
    "     Type I error: we reject the null hypothesis by understanding the alternative hypothesis is better, but not.\n",
    "                   This is the probability of observing an event that does not exist.\n",
    "         \n",
    "     Type II error: we do not reject the null hypothesis by understanding it is better, but not.\n",
    "                    This is the probability of not observing an event that do exist.\n",
    "\n",
    "In summary, the significance level in an A/B test determines the threshold for determining statistical significance, and it's crucial for interpreting the results and making decisions based on the test outcomes."
   ]
  },
  {
   "cell_type": "code",
   "execution_count": 8,
   "id": "49315493",
   "metadata": {
    "ExecuteTime": {
     "end_time": "2024-02-16T13:18:29.081871Z",
     "start_time": "2024-02-16T13:18:29.078854Z"
    }
   },
   "outputs": [],
   "source": [
    "significance_level = 1 - confidence_level"
   ]
  },
  {
   "cell_type": "markdown",
   "id": "5ad3fe49",
   "metadata": {},
   "source": [
    "### 1.4.3. Sample Size"
   ]
  },
  {
   "cell_type": "markdown",
   "id": "0b01ef96",
   "metadata": {},
   "source": [
    "There are some parameters we must understand before determining the sample size:"
   ]
  },
  {
   "cell_type": "markdown",
   "id": "8757e5d7",
   "metadata": {},
   "source": [
    "- **effect size:** difference between **control** and **treatment** = 12% - 14% = 2%. It is a measure of the magnitude of the difference or effect that you want to detect in the test. Indicates the practical importance of the difference between groups. We have to test the sample size in order to find the optimum effect size.\n",
    "\n",
    "        effect_size = p1 - p2, where p1 is the current conversion and p2 is the new conversion\n",
    "        p1 = 12% = 0.12\n",
    "        p2 = 14% = 0.14, it is defined by the bussiness team\n",
    "        \n",
    "        Larger differences demand less data points. However, Smaller differences demand more data points.\n",
    "        \n",
    "Here we present 4 ways of calculating the effect size. The most famous family to calculate the effect size is D (difference). \n",
    "\n",
    "    1. Cohen's d: difference between the average of the samples (A and B) over global standard deviation.\n",
    "    2. Glass's delta: same as Cohen's d, but over only the standard deviation of the control group.\n",
    "                      Used when there is n-treatment groups (A, B, C,... n test)\n",
    "    3. Hedge's g: it is a type of Cohen's d, but for sample size lower than 20 (n < 20). \n",
    "    4. Cohen's h: used when 2 samples are independent. "
   ]
  },
  {
   "cell_type": "markdown",
   "id": "b76aadb0",
   "metadata": {},
   "source": [
    "1. Cohen's d:\n",
    "\n",
    "        X: Represents the data from one group (e.g., control group).\n",
    "        Y: Represents the data from another group (e.g., experimental group).\n",
    "        \n",
    "        Small Effect Size: d=0.20\n",
    "        Medium Effect Size: d=0.50\n",
    "        Large Effect Size: d=0.80\n",
    "\n",
    "2. Glass's delta:\n",
    "\n",
    "        X: Represents the data from one group.\n",
    "        Y: Represents the data from another group.\n",
    "\n",
    "3. Hedge's g:\n",
    "\n",
    "        X: Represents the data from one group.\n",
    "        Y: Represents the data from another group.\n",
    "        \n",
    "4. Cohen's h:\n",
    "\n",
    "        X: Represents the proportion or rate in one group.\n",
    "        Y: Represents the proportion or rate in another group."
   ]
  },
  {
   "cell_type": "markdown",
   "id": "71948bb0",
   "metadata": {},
   "source": [
    "- **Statistical Power:** It is the probability that a statistical test will detect a real existing effect. It reflects the test's ability to identify significant differences when they actually exist. It is around 80% (standard - better explanation in the next sections). \n",
    "\n",
    "        Type II error is: β = 1 - statistical_power\n",
    "\n",
    "- **Significance Level:** It is the probability of making a Type I error by incorrectly rejecting the null hypothesis. It is typically defined as α and represents the threshold for considering a result as statistically significant. It is 5% for our case. \n",
    "\n",
    "- **Power Equation:** It is an equation that relates the sample size, statistical power, significance level and effect size. It is used to determine the sample size necessary to achieve a given statistical power under certain conditions."
   ]
  },
  {
   "cell_type": "markdown",
   "id": "2db3a933",
   "metadata": {},
   "source": [
    "#### Effect Size for two proportions/averages"
   ]
  },
  {
   "cell_type": "markdown",
   "id": "704a1970",
   "metadata": {},
   "source": [
    "This test must be performed using scalar values, such as propotions and average values."
   ]
  },
  {
   "cell_type": "code",
   "execution_count": 9,
   "id": "726b1007",
   "metadata": {
    "ExecuteTime": {
     "end_time": "2024-02-16T13:18:29.085974Z",
     "start_time": "2024-02-16T13:18:29.083455Z"
    }
   },
   "outputs": [],
   "source": [
    "# effect size parameters\n",
    "p1 = 0.12\n",
    "p2 = 0.14\n",
    "\n",
    "# effect size\n",
    "effect_size = sms.proportion_effectsize(p1, p2)\n",
    "\n",
    "# statistical power\n",
    "statistical_power = 0.8"
   ]
  },
  {
   "cell_type": "code",
   "execution_count": 10,
   "id": "9de36be8",
   "metadata": {
    "ExecuteTime": {
     "end_time": "2024-02-16T13:18:29.094064Z",
     "start_time": "2024-02-16T13:18:29.090024Z"
    }
   },
   "outputs": [
    {
     "data": {
      "text/plain": [
       "-0.05951079608252363"
      ]
     },
     "execution_count": 10,
     "metadata": {},
     "output_type": "execute_result"
    }
   ],
   "source": [
    "effect_size"
   ]
  },
  {
   "cell_type": "markdown",
   "id": "6acdde74",
   "metadata": {},
   "source": [
    "We may also use the method below:"
   ]
  },
  {
   "cell_type": "code",
   "execution_count": 11,
   "id": "0eaa4106",
   "metadata": {
    "ExecuteTime": {
     "end_time": "2024-02-16T13:18:29.100662Z",
     "start_time": "2024-02-16T13:18:29.096050Z"
    }
   },
   "outputs": [
    {
     "name": "stdout",
     "output_type": "stream",
     "text": [
      "Cohen's d: -0.059496411730873014\n"
     ]
    }
   ],
   "source": [
    "def cohen_d(p1, p2):\n",
    "    \"\"\"\n",
    "    Calculate Cohen's d effect size for two proportions.\n",
    "    \n",
    "    Parameters:\n",
    "        p1 (float): Proportion for group 1.\n",
    "        p2 (float): Proportion for group 2.\n",
    "    \n",
    "    Returns:\n",
    "        float: Cohen's d effect size.\n",
    "    \"\"\"\n",
    "    return (p1 - p2) / np.sqrt((p1 * (1 - p1) + p2 * (1 - p2)) / 2)\n",
    "\n",
    "# p1 and p2 values\n",
    "p1 = 0.12\n",
    "p2 = 0.14\n",
    "\n",
    "# Cohen's d\n",
    "cohen_d_value = cohen_d(p1, p2)\n",
    "print(\"Cohen's d:\", cohen_d_value)\n"
   ]
  },
  {
   "cell_type": "code",
   "execution_count": 12,
   "id": "35b3506b",
   "metadata": {
    "ExecuteTime": {
     "end_time": "2024-02-16T13:18:29.109266Z",
     "start_time": "2024-02-16T13:18:29.102336Z"
    }
   },
   "outputs": [
    {
     "name": "stdout",
     "output_type": "stream",
     "text": [
      "Glass's delta: -0.057639041770423546\n",
      "Hedge's g: -0.05949137364700735\n",
      "Cohen's h: -0.018942874727734874\n"
     ]
    }
   ],
   "source": [
    "def glass_delta(p1, p2):\n",
    "    \"\"\"\n",
    "    Calculate Glass's delta effect size for two proportions.\n",
    "    \n",
    "    Parameters:\n",
    "        p1 (float): Proportion for group 1.\n",
    "        p2 (float): Proportion for group 2.\n",
    "    \n",
    "    Returns:\n",
    "        float: Glass's delta effect size.\n",
    "    \"\"\"\n",
    "    return (p1 - p2) / np.sqrt(p2 * (1 - p2))\n",
    "\n",
    "def hedges_g(p1, p2, n1, n2):\n",
    "    \"\"\"\n",
    "    Calculate Hedge's g effect size for two proportions.\n",
    "    \n",
    "    Parameters:\n",
    "        p1 (float): Proportion for group 1.\n",
    "        p2 (float): Proportion for group 2.\n",
    "        n1 (int): Sample size for group 1.\n",
    "        n2 (int): Sample size for group 2.\n",
    "    \n",
    "    Returns:\n",
    "        float: Hedge's g effect size.\n",
    "    \"\"\"\n",
    "    d = (p1 - p2) / np.sqrt((p1 * (1 - p1) + p2 * (1 - p2)) / 2)\n",
    "    return d * (1 - 3 / (4 * (n1 + n2 - 9)))\n",
    "\n",
    "def cohen_h(p1, p2):\n",
    "    \"\"\"\n",
    "    Calculate Cohen's h effect size for two proportions.\n",
    "    \n",
    "    Parameters:\n",
    "        p1 (float): Proportion for group 1.\n",
    "        p2 (float): Proportion for group 2.\n",
    "    \n",
    "    Returns:\n",
    "        float: Cohen's h effect size.\n",
    "    \"\"\"\n",
    "    return (2 * np.arcsin(np.sqrt(p1)) - 2 * np.arcsin(np.sqrt(p2))) / np.pi\n",
    "\n",
    "# p1 and p2 values\n",
    "p1 = 0.12\n",
    "p2 = 0.14\n",
    "\n",
    "# sample size for Hedge's g :: calculated in the next section\n",
    "n1 = 4433\n",
    "n2 = 4433\n",
    "\n",
    "# effect size\n",
    "glass_delta_value = glass_delta(p1, p2)\n",
    "hedges_g_value = hedges_g(p1, p2, n1, n2)\n",
    "cohen_h_value = cohen_h(p1, p2)\n",
    "\n",
    "print(\"Glass's delta:\", glass_delta_value)\n",
    "print(\"Hedge's g:\", hedges_g_value)\n",
    "print(\"Cohen's h:\", cohen_h_value)\n"
   ]
  },
  {
   "cell_type": "markdown",
   "id": "08402981",
   "metadata": {},
   "source": [
    "#### Effect Size for two-dimensional numpy arrays"
   ]
  },
  {
   "cell_type": "markdown",
   "id": "6da8d43b",
   "metadata": {},
   "source": [
    "This test must be performed using two-dimensional arrays. "
   ]
  },
  {
   "cell_type": "code",
   "execution_count": 13,
   "id": "4578221a",
   "metadata": {
    "ExecuteTime": {
     "end_time": "2024-02-16T13:18:29.113739Z",
     "start_time": "2024-02-16T13:18:29.110902Z"
    }
   },
   "outputs": [],
   "source": [
    "# # Cohen's d\n",
    "# pg.compute_effsize(x1, x2, eftype=\"cohen\")\n",
    "\n",
    "# # Glass's delta\n",
    "# pg.compute_effsize(x1, x2, eftype=\"glass\")\n",
    "\n",
    "# # Hedge's g\n",
    "# pg.compute_effsize(x1, x2, eftype=\"hedges\")\n",
    "\n",
    "# # Cohen's h\n",
    "# sms.proportion_effectsize(np.mean(x1), np.mean(x2))"
   ]
  },
  {
   "cell_type": "markdown",
   "id": "bb8f6f91",
   "metadata": {},
   "source": [
    "#### Sample Size"
   ]
  },
  {
   "cell_type": "code",
   "execution_count": 14,
   "id": "63146bb8",
   "metadata": {
    "ExecuteTime": {
     "end_time": "2024-02-16T13:18:29.125177Z",
     "start_time": "2024-02-16T13:18:29.115635Z"
    }
   },
   "outputs": [],
   "source": [
    "#sample size\n",
    "sample_n = sms.NormalIndPower().solve_power(\n",
    "                effect_size=effect_size,\n",
    "                power=statistical_power,\n",
    "                alpha=significance_level\n",
    ")"
   ]
  },
  {
   "cell_type": "code",
   "execution_count": 15,
   "id": "6b59ec42",
   "metadata": {
    "ExecuteTime": {
     "end_time": "2024-02-16T13:18:29.130760Z",
     "start_time": "2024-02-16T13:18:29.126905Z"
    }
   },
   "outputs": [
    {
     "data": {
      "text/plain": [
       "4432.462669953661"
      ]
     },
     "execution_count": 15,
     "metadata": {},
     "output_type": "execute_result"
    }
   ],
   "source": [
    "sample_n"
   ]
  },
  {
   "cell_type": "code",
   "execution_count": 16,
   "id": "89b3f5b2",
   "metadata": {
    "ExecuteTime": {
     "end_time": "2024-02-16T13:18:29.136074Z",
     "start_time": "2024-02-16T13:18:29.132435Z"
    }
   },
   "outputs": [
    {
     "data": {
      "text/plain": [
       "4432"
      ]
     },
     "execution_count": 16,
     "metadata": {},
     "output_type": "execute_result"
    }
   ],
   "source": [
    "np.round(sample_n, 0).astype(int)"
   ]
  },
  {
   "cell_type": "code",
   "execution_count": 17,
   "id": "85b52a81",
   "metadata": {
    "ExecuteTime": {
     "end_time": "2024-02-16T13:18:29.140669Z",
     "start_time": "2024-02-16T13:18:29.137592Z"
    }
   },
   "outputs": [
    {
     "data": {
      "text/plain": [
       "4433"
      ]
     },
     "execution_count": 17,
     "metadata": {},
     "output_type": "execute_result"
    }
   ],
   "source": [
    "math.ceil(sample_n)"
   ]
  },
  {
   "cell_type": "code",
   "execution_count": 18,
   "id": "67fdbe34",
   "metadata": {
    "ExecuteTime": {
     "end_time": "2024-02-16T13:18:29.144626Z",
     "start_time": "2024-02-16T13:18:29.142110Z"
    }
   },
   "outputs": [],
   "source": [
    "sample_n = math.ceil(sample_n)"
   ]
  },
  {
   "cell_type": "code",
   "execution_count": 19,
   "id": "dd4726c9",
   "metadata": {
    "ExecuteTime": {
     "end_time": "2024-02-16T13:18:29.150234Z",
     "start_time": "2024-02-16T13:18:29.146763Z"
    }
   },
   "outputs": [
    {
     "name": "stdout",
     "output_type": "stream",
     "text": [
      "The minimum sample size of the control group is: 4433.\n",
      "The minimum sample size of the treatment group is: 4433.\n",
      "The minimum total sample size is: 8866.\n"
     ]
    }
   ],
   "source": [
    "print(f\"The minimum sample size of the control group is: {sample_n}.\")\n",
    "print(f\"The minimum sample size of the treatment group is: {sample_n}.\")\n",
    "print(f\"The minimum total sample size is: {2*sample_n}.\")"
   ]
  },
  {
   "cell_type": "code",
   "execution_count": 20,
   "id": "6f28f640",
   "metadata": {
    "ExecuteTime": {
     "end_time": "2024-02-16T13:18:29.166227Z",
     "start_time": "2024-02-16T13:18:29.152626Z"
    }
   },
   "outputs": [
    {
     "name": "stdout",
     "output_type": "stream",
     "text": [
      "We have 290584 people in our database.\n"
     ]
    }
   ],
   "source": [
    "print(f\"We have {data['user_id'].nunique()} people in our database.\")"
   ]
  },
  {
   "cell_type": "markdown",
   "id": "d205b8ce",
   "metadata": {},
   "source": [
    "#### Minimum number of samples per conversion difference"
   ]
  },
  {
   "cell_type": "markdown",
   "id": "64060878",
   "metadata": {},
   "source": [
    "This section was to evaluate the number of samples based on different values for the new conversion. This experiment was designed with the following assumptions:\n",
    "\n",
    "1. We set the current version (p1) as 0.13.\n",
    "2. The new conversion values vary from 0.14 to 0.30.\n",
    "3. Significance level was 0.05.\n",
    "4. Statistical power equals to 0.80."
   ]
  },
  {
   "cell_type": "code",
   "execution_count": 21,
   "id": "12a220f8",
   "metadata": {
    "ExecuteTime": {
     "end_time": "2024-02-16T13:18:30.009742Z",
     "start_time": "2024-02-16T13:18:29.168877Z"
    }
   },
   "outputs": [],
   "source": [
    "# experiment interval for p2 :: from 0.13 to 0.30 varying by 0.001\n",
    "r = list(np.round(np.arange(0.13, 0.30, 0.001), 3))\n",
    "\n",
    "# confidence level\n",
    "confidence_level = 0.95\n",
    "\n",
    "# significance level \n",
    "significance_level = 1 - confidence_level\n",
    "\n",
    "# current conversion\n",
    "p1 = 0.12\n",
    "\n",
    "# statistical power\n",
    "statistical_power = 0.8\n",
    "\n",
    "# number of samples to be tested based on p2\n",
    "sample_n_list = []\n",
    "\n",
    "for p2 in r:\n",
    "    # effect size\n",
    "    effect_size = sms.proportion_effectsize(p1, p2)\n",
    "    \n",
    "    #sample size\n",
    "    sample_n_test = sms.NormalIndPower().solve_power(\n",
    "                    effect_size=effect_size,\n",
    "                    power=statistical_power,\n",
    "                    alpha=significance_level\n",
    "    )\n",
    "    \n",
    "    sample_n_test = math.ceil(sample_n_test)\n",
    "    sample_n_list.append(sample_n_test)"
   ]
  },
  {
   "cell_type": "code",
   "execution_count": 22,
   "id": "5958cfcc",
   "metadata": {
    "ExecuteTime": {
     "end_time": "2024-02-16T13:18:30.203219Z",
     "start_time": "2024-02-16T13:18:30.011461Z"
    }
   },
   "outputs": [
    {
     "data": {
      "image/png": "[encoded data removed]",
      "text/plain": [
       "<Figure size 2000x1000 with 1 Axes>"
      ]
     },
     "metadata": {},
     "output_type": "display_data"
    }
   ],
   "source": [
    "plt.figure(figsize=(20,10))\n",
    "plt.plot(r, sample_n_list, color=\"black\")\n",
    "\n",
    "plt.xlabel(\"New conversions tested (-)\", fontsize=14)\n",
    "plt.ylabel(\"Number of samples (-)\", fontsize=14)\n",
    "plt.title(\"Minimum number of samples based on the new conversion values\", fontsize=16);"
   ]
  },
  {
   "cell_type": "markdown",
   "id": "c57e8f53",
   "metadata": {},
   "source": [
    "Lower new conversion values result in lower conversion values differences. For lower differences, we need a high number of samples to observe a significant statistical difference in the hypotheses - that's what we see in the graph. However, for higher differences in the conversion values, we need more and more lower values for the number of samples to observe a significant statistical difference in the hypotheses.\n",
    "\n",
    "        - If we want to test 1% difference of improvement in the conversion, we need thousands of samples.\n",
    "        - But if we want to test a 10% difference or higher, we do not need big amounts of samples.\n",
    "        \n",
    "    That means it is harder and harder to prove there is a significant difference when we see few differences."
   ]
  },
  {
   "cell_type": "markdown",
   "id": "6ac9e747",
   "metadata": {},
   "source": [
    "## 2. Data Description"
   ]
  },
  {
   "cell_type": "code",
   "execution_count": 23,
   "id": "23d2c991",
   "metadata": {
    "ExecuteTime": {
     "end_time": "2024-02-16T13:18:30.212869Z",
     "start_time": "2024-02-16T13:18:30.204953Z"
    }
   },
   "outputs": [],
   "source": [
    "df2 = data.copy()"
   ]
  },
  {
   "cell_type": "markdown",
   "id": "09a67d27",
   "metadata": {},
   "source": [
    "## 2.1. Data Fields Meaning"
   ]
  },
  {
   "cell_type": "code",
   "execution_count": 24,
   "id": "0dde6b42",
   "metadata": {
    "ExecuteTime": {
     "end_time": "2024-02-16T13:18:30.221575Z",
     "start_time": "2024-02-16T13:18:30.214755Z"
    }
   },
   "outputs": [
    {
     "data": {
      "text/html": [
       "<div>\n",
       "<style scoped>\n",
       "    .dataframe tbody tr th:only-of-type {\n",
       "        vertical-align: middle;\n",
       "    }\n",
       "\n",
       "    .dataframe tbody tr th {\n",
       "        vertical-align: top;\n",
       "    }\n",
       "\n",
       "    .dataframe thead th {\n",
       "        text-align: right;\n",
       "    }\n",
       "</style>\n",
       "<table border=\"1\" class=\"dataframe\">\n",
       "  <thead>\n",
       "    <tr style=\"text-align: right;\">\n",
       "      <th></th>\n",
       "      <th>user_id</th>\n",
       "      <th>timestamp</th>\n",
       "      <th>group</th>\n",
       "      <th>landing_page</th>\n",
       "      <th>converted</th>\n",
       "    </tr>\n",
       "  </thead>\n",
       "  <tbody>\n",
       "    <tr>\n",
       "      <th>0</th>\n",
       "      <td>851104</td>\n",
       "      <td>2017-01-21 22:11:48.556739</td>\n",
       "      <td>control</td>\n",
       "      <td>old_page</td>\n",
       "      <td>0</td>\n",
       "    </tr>\n",
       "    <tr>\n",
       "      <th>1</th>\n",
       "      <td>804228</td>\n",
       "      <td>2017-01-12 08:01:45.159739</td>\n",
       "      <td>control</td>\n",
       "      <td>old_page</td>\n",
       "      <td>0</td>\n",
       "    </tr>\n",
       "    <tr>\n",
       "      <th>2</th>\n",
       "      <td>661590</td>\n",
       "      <td>2017-01-11 16:55:06.154213</td>\n",
       "      <td>treatment</td>\n",
       "      <td>new_page</td>\n",
       "      <td>0</td>\n",
       "    </tr>\n",
       "    <tr>\n",
       "      <th>3</th>\n",
       "      <td>853541</td>\n",
       "      <td>2017-01-08 18:28:03.143765</td>\n",
       "      <td>treatment</td>\n",
       "      <td>new_page</td>\n",
       "      <td>0</td>\n",
       "    </tr>\n",
       "    <tr>\n",
       "      <th>4</th>\n",
       "      <td>864975</td>\n",
       "      <td>2017-01-21 01:52:26.210827</td>\n",
       "      <td>control</td>\n",
       "      <td>old_page</td>\n",
       "      <td>1</td>\n",
       "    </tr>\n",
       "  </tbody>\n",
       "</table>\n",
       "</div>"
      ],
      "text/plain": [
       "   user_id                   timestamp      group landing_page  converted\n",
       "0   851104  2017-01-21 22:11:48.556739    control     old_page          0\n",
       "1   804228  2017-01-12 08:01:45.159739    control     old_page          0\n",
       "2   661590  2017-01-11 16:55:06.154213  treatment     new_page          0\n",
       "3   853541  2017-01-08 18:28:03.143765  treatment     new_page          0\n",
       "4   864975  2017-01-21 01:52:26.210827    control     old_page          1"
      ]
     },
     "execution_count": 24,
     "metadata": {},
     "output_type": "execute_result"
    }
   ],
   "source": [
    "df2.head()"
   ]
  },
  {
   "cell_type": "markdown",
   "id": "fbcf994e",
   "metadata": {},
   "source": [
    "- user_id: identification key for each user\n",
    "- timestamp: date and time a user visited a webpage and performed an action (converted or not)\n",
    "- group: whether users are from control or treatment group \n",
    "- landing_page: whether webpage is new or old\n",
    "- converted: whether the user purchased or not using the webpage"
   ]
  },
  {
   "cell_type": "markdown",
   "id": "8ba6348a",
   "metadata": {},
   "source": [
    "## 2.2. Data Dimensions"
   ]
  },
  {
   "cell_type": "code",
   "execution_count": 25,
   "id": "f747f6f6",
   "metadata": {
    "ExecuteTime": {
     "end_time": "2024-02-16T13:18:30.226541Z",
     "start_time": "2024-02-16T13:18:30.223400Z"
    }
   },
   "outputs": [
    {
     "name": "stdout",
     "output_type": "stream",
     "text": [
      "Number of rows: 294478\n",
      "Number of cols: 5\n"
     ]
    }
   ],
   "source": [
    "print(\"Number of rows: {}\".format(df2.shape[0]))\n",
    "print(\"Number of cols: {}\".format(df2.shape[1]))"
   ]
  },
  {
   "cell_type": "markdown",
   "id": "31f46c4b",
   "metadata": {},
   "source": [
    "## 2.3. Data Types"
   ]
  },
  {
   "cell_type": "code",
   "execution_count": 26,
   "id": "a2600bc9",
   "metadata": {
    "ExecuteTime": {
     "end_time": "2024-02-16T13:18:30.233744Z",
     "start_time": "2024-02-16T13:18:30.228364Z"
    }
   },
   "outputs": [
    {
     "data": {
      "text/plain": [
       "user_id          int64\n",
       "timestamp       object\n",
       "group           object\n",
       "landing_page    object\n",
       "converted        int64\n",
       "dtype: object"
      ]
     },
     "execution_count": 26,
     "metadata": {},
     "output_type": "execute_result"
    }
   ],
   "source": [
    "df2.dtypes"
   ]
  },
  {
   "cell_type": "code",
   "execution_count": 27,
   "id": "928e1b6e",
   "metadata": {
    "ExecuteTime": {
     "end_time": "2024-02-16T13:18:30.280315Z",
     "start_time": "2024-02-16T13:18:30.235989Z"
    }
   },
   "outputs": [
    {
     "name": "stdout",
     "output_type": "stream",
     "text": [
      "<class 'pandas.core.frame.DataFrame'>\n",
      "RangeIndex: 294478 entries, 0 to 294477\n",
      "Data columns (total 5 columns):\n",
      " #   Column        Non-Null Count   Dtype \n",
      "---  ------        --------------   ----- \n",
      " 0   user_id       294478 non-null  int64 \n",
      " 1   timestamp     294478 non-null  object\n",
      " 2   group         294478 non-null  object\n",
      " 3   landing_page  294478 non-null  object\n",
      " 4   converted     294478 non-null  int64 \n",
      "dtypes: int64(2), object(3)\n",
      "memory usage: 11.2+ MB\n"
     ]
    }
   ],
   "source": [
    "df2.info()"
   ]
  },
  {
   "cell_type": "code",
   "execution_count": 28,
   "id": "8d006ba4",
   "metadata": {
    "ExecuteTime": {
     "end_time": "2024-02-16T13:18:30.359151Z",
     "start_time": "2024-02-16T13:18:30.289215Z"
    }
   },
   "outputs": [],
   "source": [
    "df2[\"timestamp\"] = pd.to_datetime(df2[\"timestamp\"])"
   ]
  },
  {
   "cell_type": "code",
   "execution_count": 29,
   "id": "6c24737b",
   "metadata": {
    "ExecuteTime": {
     "end_time": "2024-02-16T13:18:30.364877Z",
     "start_time": "2024-02-16T13:18:30.360674Z"
    }
   },
   "outputs": [
    {
     "data": {
      "text/plain": [
       "user_id                  int64\n",
       "timestamp       datetime64[ns]\n",
       "group                   object\n",
       "landing_page            object\n",
       "converted                int64\n",
       "dtype: object"
      ]
     },
     "execution_count": 29,
     "metadata": {},
     "output_type": "execute_result"
    }
   ],
   "source": [
    "df2.dtypes"
   ]
  },
  {
   "cell_type": "code",
   "execution_count": 30,
   "id": "33591e52",
   "metadata": {
    "ExecuteTime": {
     "end_time": "2024-02-16T13:18:30.373310Z",
     "start_time": "2024-02-16T13:18:30.366427Z"
    }
   },
   "outputs": [
    {
     "data": {
      "text/html": [
       "<div>\n",
       "<style scoped>\n",
       "    .dataframe tbody tr th:only-of-type {\n",
       "        vertical-align: middle;\n",
       "    }\n",
       "\n",
       "    .dataframe tbody tr th {\n",
       "        vertical-align: top;\n",
       "    }\n",
       "\n",
       "    .dataframe thead th {\n",
       "        text-align: right;\n",
       "    }\n",
       "</style>\n",
       "<table border=\"1\" class=\"dataframe\">\n",
       "  <thead>\n",
       "    <tr style=\"text-align: right;\">\n",
       "      <th></th>\n",
       "      <th>user_id</th>\n",
       "      <th>timestamp</th>\n",
       "      <th>group</th>\n",
       "      <th>landing_page</th>\n",
       "      <th>converted</th>\n",
       "    </tr>\n",
       "  </thead>\n",
       "  <tbody>\n",
       "    <tr>\n",
       "      <th>0</th>\n",
       "      <td>851104</td>\n",
       "      <td>2017-01-21 22:11:48.556739</td>\n",
       "      <td>control</td>\n",
       "      <td>old_page</td>\n",
       "      <td>0</td>\n",
       "    </tr>\n",
       "    <tr>\n",
       "      <th>1</th>\n",
       "      <td>804228</td>\n",
       "      <td>2017-01-12 08:01:45.159739</td>\n",
       "      <td>control</td>\n",
       "      <td>old_page</td>\n",
       "      <td>0</td>\n",
       "    </tr>\n",
       "    <tr>\n",
       "      <th>2</th>\n",
       "      <td>661590</td>\n",
       "      <td>2017-01-11 16:55:06.154213</td>\n",
       "      <td>treatment</td>\n",
       "      <td>new_page</td>\n",
       "      <td>0</td>\n",
       "    </tr>\n",
       "    <tr>\n",
       "      <th>3</th>\n",
       "      <td>853541</td>\n",
       "      <td>2017-01-08 18:28:03.143765</td>\n",
       "      <td>treatment</td>\n",
       "      <td>new_page</td>\n",
       "      <td>0</td>\n",
       "    </tr>\n",
       "    <tr>\n",
       "      <th>4</th>\n",
       "      <td>864975</td>\n",
       "      <td>2017-01-21 01:52:26.210827</td>\n",
       "      <td>control</td>\n",
       "      <td>old_page</td>\n",
       "      <td>1</td>\n",
       "    </tr>\n",
       "  </tbody>\n",
       "</table>\n",
       "</div>"
      ],
      "text/plain": [
       "   user_id                  timestamp      group landing_page  converted\n",
       "0   851104 2017-01-21 22:11:48.556739    control     old_page          0\n",
       "1   804228 2017-01-12 08:01:45.159739    control     old_page          0\n",
       "2   661590 2017-01-11 16:55:06.154213  treatment     new_page          0\n",
       "3   853541 2017-01-08 18:28:03.143765  treatment     new_page          0\n",
       "4   864975 2017-01-21 01:52:26.210827    control     old_page          1"
      ]
     },
     "execution_count": 30,
     "metadata": {},
     "output_type": "execute_result"
    }
   ],
   "source": [
    "df2.head()"
   ]
  },
  {
   "cell_type": "markdown",
   "id": "af37b79c",
   "metadata": {},
   "source": [
    "## 2.4. Na Check"
   ]
  },
  {
   "cell_type": "code",
   "execution_count": 31,
   "id": "d7ab92b3",
   "metadata": {
    "ExecuteTime": {
     "end_time": "2024-02-16T13:18:30.401042Z",
     "start_time": "2024-02-16T13:18:30.375006Z"
    }
   },
   "outputs": [
    {
     "data": {
      "text/plain": [
       "user_id         0\n",
       "timestamp       0\n",
       "group           0\n",
       "landing_page    0\n",
       "converted       0\n",
       "dtype: int64"
      ]
     },
     "execution_count": 31,
     "metadata": {},
     "output_type": "execute_result"
    }
   ],
   "source": [
    "df2.isna().sum()"
   ]
  },
  {
   "cell_type": "markdown",
   "id": "5b8ff7ad",
   "metadata": {},
   "source": [
    "## 2.5. Flag Analysis"
   ]
  },
  {
   "cell_type": "markdown",
   "id": "671a96a1",
   "metadata": {},
   "source": [
    "We must assure people from control group are not in the treatment group and vice-versa. "
   ]
  },
  {
   "cell_type": "code",
   "execution_count": 32,
   "id": "b9522576",
   "metadata": {
    "ExecuteTime": {
     "end_time": "2024-02-16T13:18:30.459499Z",
     "start_time": "2024-02-16T13:18:30.403069Z"
    }
   },
   "outputs": [
    {
     "data": {
      "text/html": [
       "<div>\n",
       "<style scoped>\n",
       "    .dataframe tbody tr th:only-of-type {\n",
       "        vertical-align: middle;\n",
       "    }\n",
       "\n",
       "    .dataframe tbody tr th {\n",
       "        vertical-align: top;\n",
       "    }\n",
       "\n",
       "    .dataframe thead th {\n",
       "        text-align: right;\n",
       "    }\n",
       "</style>\n",
       "<table border=\"1\" class=\"dataframe\">\n",
       "  <thead>\n",
       "    <tr style=\"text-align: right;\">\n",
       "      <th></th>\n",
       "      <th>group</th>\n",
       "      <th>landing_page</th>\n",
       "      <th>user_id</th>\n",
       "    </tr>\n",
       "  </thead>\n",
       "  <tbody>\n",
       "    <tr>\n",
       "      <th>0</th>\n",
       "      <td>control</td>\n",
       "      <td>new_page</td>\n",
       "      <td>1928</td>\n",
       "    </tr>\n",
       "    <tr>\n",
       "      <th>1</th>\n",
       "      <td>control</td>\n",
       "      <td>old_page</td>\n",
       "      <td>145274</td>\n",
       "    </tr>\n",
       "    <tr>\n",
       "      <th>2</th>\n",
       "      <td>treatment</td>\n",
       "      <td>new_page</td>\n",
       "      <td>145311</td>\n",
       "    </tr>\n",
       "    <tr>\n",
       "      <th>3</th>\n",
       "      <td>treatment</td>\n",
       "      <td>old_page</td>\n",
       "      <td>1965</td>\n",
       "    </tr>\n",
       "  </tbody>\n",
       "</table>\n",
       "</div>"
      ],
      "text/plain": [
       "       group landing_page  user_id\n",
       "0    control     new_page     1928\n",
       "1    control     old_page   145274\n",
       "2  treatment     new_page   145311\n",
       "3  treatment     old_page     1965"
      ]
     },
     "execution_count": 32,
     "metadata": {},
     "output_type": "execute_result"
    }
   ],
   "source": [
    "df2[[\"user_id\", \"group\", \"landing_page\"]].groupby([\"group\", \"landing_page\"]).count().reset_index()"
   ]
  },
  {
   "cell_type": "markdown",
   "id": "63e43dd9",
   "metadata": {},
   "source": [
    "Since control group should only see the old page and treatment group the new page, we have duplicated people in:\n",
    "\n",
    "- **control and new page:** 1928.\n",
    "- **treatment and old page:** 1965."
   ]
  },
  {
   "cell_type": "markdown",
   "id": "39eb9403",
   "metadata": {},
   "source": [
    "Let's analyze now how many people and which of them are in both of the groups:"
   ]
  },
  {
   "cell_type": "code",
   "execution_count": 33,
   "id": "3f3472c1",
   "metadata": {
    "ExecuteTime": {
     "end_time": "2024-02-16T13:18:30.560572Z",
     "start_time": "2024-02-16T13:18:30.462125Z"
    }
   },
   "outputs": [
    {
     "data": {
      "text/html": [
       "<div>\n",
       "<style scoped>\n",
       "    .dataframe tbody tr th:only-of-type {\n",
       "        vertical-align: middle;\n",
       "    }\n",
       "\n",
       "    .dataframe tbody tr th {\n",
       "        vertical-align: top;\n",
       "    }\n",
       "\n",
       "    .dataframe thead th {\n",
       "        text-align: right;\n",
       "    }\n",
       "</style>\n",
       "<table border=\"1\" class=\"dataframe\">\n",
       "  <thead>\n",
       "    <tr style=\"text-align: right;\">\n",
       "      <th></th>\n",
       "      <th>user_id</th>\n",
       "      <th>group</th>\n",
       "    </tr>\n",
       "  </thead>\n",
       "  <tbody>\n",
       "    <tr>\n",
       "      <th>91655</th>\n",
       "      <td>729669</td>\n",
       "      <td>2</td>\n",
       "    </tr>\n",
       "    <tr>\n",
       "      <th>179531</th>\n",
       "      <td>825266</td>\n",
       "      <td>2</td>\n",
       "    </tr>\n",
       "    <tr>\n",
       "      <th>30345</th>\n",
       "      <td>663033</td>\n",
       "      <td>2</td>\n",
       "    </tr>\n",
       "    <tr>\n",
       "      <th>41348</th>\n",
       "      <td>674959</td>\n",
       "      <td>2</td>\n",
       "    </tr>\n",
       "    <tr>\n",
       "      <th>225511</th>\n",
       "      <td>875210</td>\n",
       "      <td>2</td>\n",
       "    </tr>\n",
       "    <tr>\n",
       "      <th>45345</th>\n",
       "      <td>679326</td>\n",
       "      <td>2</td>\n",
       "    </tr>\n",
       "    <tr>\n",
       "      <th>277617</th>\n",
       "      <td>931907</td>\n",
       "      <td>2</td>\n",
       "    </tr>\n",
       "    <tr>\n",
       "      <th>221100</th>\n",
       "      <td>870418</td>\n",
       "      <td>2</td>\n",
       "    </tr>\n",
       "    <tr>\n",
       "      <th>77696</th>\n",
       "      <td>714496</td>\n",
       "      <td>2</td>\n",
       "    </tr>\n",
       "    <tr>\n",
       "      <th>70438</th>\n",
       "      <td>706601</td>\n",
       "      <td>2</td>\n",
       "    </tr>\n",
       "  </tbody>\n",
       "</table>\n",
       "</div>"
      ],
      "text/plain": [
       "        user_id  group\n",
       "91655    729669      2\n",
       "179531   825266      2\n",
       "30345    663033      2\n",
       "41348    674959      2\n",
       "225511   875210      2\n",
       "45345    679326      2\n",
       "277617   931907      2\n",
       "221100   870418      2\n",
       "77696    714496      2\n",
       "70438    706601      2"
      ]
     },
     "execution_count": 33,
     "metadata": {},
     "output_type": "execute_result"
    }
   ],
   "source": [
    "df2[[\"user_id\", \"group\"]].groupby(\"user_id\").count().reset_index().sort_values(\"group\", ascending=False).head(10)"
   ]
  },
  {
   "cell_type": "code",
   "execution_count": 34,
   "id": "0bc5eada",
   "metadata": {
    "ExecuteTime": {
     "end_time": "2024-02-16T13:18:30.648045Z",
     "start_time": "2024-02-16T13:18:30.562404Z"
    }
   },
   "outputs": [
    {
     "data": {
      "text/html": [
       "<div>\n",
       "<style scoped>\n",
       "    .dataframe tbody tr th:only-of-type {\n",
       "        vertical-align: middle;\n",
       "    }\n",
       "\n",
       "    .dataframe tbody tr th {\n",
       "        vertical-align: top;\n",
       "    }\n",
       "\n",
       "    .dataframe thead th {\n",
       "        text-align: right;\n",
       "    }\n",
       "</style>\n",
       "<table border=\"1\" class=\"dataframe\">\n",
       "  <thead>\n",
       "    <tr style=\"text-align: right;\">\n",
       "      <th></th>\n",
       "      <th>user_id</th>\n",
       "      <th>group</th>\n",
       "    </tr>\n",
       "  </thead>\n",
       "  <tbody>\n",
       "    <tr>\n",
       "      <th>43</th>\n",
       "      <td>630052</td>\n",
       "      <td>2</td>\n",
       "    </tr>\n",
       "    <tr>\n",
       "      <th>111</th>\n",
       "      <td>630126</td>\n",
       "      <td>2</td>\n",
       "    </tr>\n",
       "    <tr>\n",
       "      <th>122</th>\n",
       "      <td>630137</td>\n",
       "      <td>2</td>\n",
       "    </tr>\n",
       "    <tr>\n",
       "      <th>281</th>\n",
       "      <td>630320</td>\n",
       "      <td>2</td>\n",
       "    </tr>\n",
       "    <tr>\n",
       "      <th>420</th>\n",
       "      <td>630471</td>\n",
       "      <td>2</td>\n",
       "    </tr>\n",
       "    <tr>\n",
       "      <th>...</th>\n",
       "      <td>...</td>\n",
       "      <td>...</td>\n",
       "    </tr>\n",
       "    <tr>\n",
       "      <th>290244</th>\n",
       "      <td>945627</td>\n",
       "      <td>2</td>\n",
       "    </tr>\n",
       "    <tr>\n",
       "      <th>290259</th>\n",
       "      <td>945645</td>\n",
       "      <td>2</td>\n",
       "    </tr>\n",
       "    <tr>\n",
       "      <th>290315</th>\n",
       "      <td>945703</td>\n",
       "      <td>2</td>\n",
       "    </tr>\n",
       "    <tr>\n",
       "      <th>290399</th>\n",
       "      <td>945797</td>\n",
       "      <td>2</td>\n",
       "    </tr>\n",
       "    <tr>\n",
       "      <th>290556</th>\n",
       "      <td>945971</td>\n",
       "      <td>2</td>\n",
       "    </tr>\n",
       "  </tbody>\n",
       "</table>\n",
       "<p>3894 rows × 2 columns</p>\n",
       "</div>"
      ],
      "text/plain": [
       "        user_id  group\n",
       "43       630052      2\n",
       "111      630126      2\n",
       "122      630137      2\n",
       "281      630320      2\n",
       "420      630471      2\n",
       "...         ...    ...\n",
       "290244   945627      2\n",
       "290259   945645      2\n",
       "290315   945703      2\n",
       "290399   945797      2\n",
       "290556   945971      2\n",
       "\n",
       "[3894 rows x 2 columns]"
      ]
     },
     "execution_count": 34,
     "metadata": {},
     "output_type": "execute_result"
    }
   ],
   "source": [
    "df2[[\"user_id\", \"group\"]].groupby(\"user_id\").count().reset_index().query(\"group > 1\")"
   ]
  },
  {
   "cell_type": "code",
   "execution_count": 35,
   "id": "dff5262c",
   "metadata": {
    "ExecuteTime": {
     "end_time": "2024-02-16T13:18:30.748883Z",
     "start_time": "2024-02-16T13:18:30.649969Z"
    }
   },
   "outputs": [],
   "source": [
    "# saving users which are duplicated\n",
    "df_user_del = df2[[\"user_id\", \"group\"]].groupby(\"user_id\").count().reset_index().query(\"group > 1\")[\"user_id\"]\n",
    "\n",
    "# removing duplicated user_id\n",
    "df2 = df2[~df2[\"user_id\"].isin(df_user_del)]"
   ]
  },
  {
   "cell_type": "code",
   "execution_count": 36,
   "id": "b874b4c7",
   "metadata": {
    "ExecuteTime": {
     "end_time": "2024-02-16T13:18:30.754458Z",
     "start_time": "2024-02-16T13:18:30.750702Z"
    }
   },
   "outputs": [
    {
     "data": {
      "text/plain": [
       "(286690, 5)"
      ]
     },
     "execution_count": 36,
     "metadata": {},
     "output_type": "execute_result"
    }
   ],
   "source": [
    "df2.shape"
   ]
  },
  {
   "cell_type": "code",
   "execution_count": 37,
   "id": "e23c48c1",
   "metadata": {
    "ExecuteTime": {
     "end_time": "2024-02-16T13:18:30.806176Z",
     "start_time": "2024-02-16T13:18:30.756221Z"
    }
   },
   "outputs": [
    {
     "data": {
      "text/html": [
       "<div>\n",
       "<style scoped>\n",
       "    .dataframe tbody tr th:only-of-type {\n",
       "        vertical-align: middle;\n",
       "    }\n",
       "\n",
       "    .dataframe tbody tr th {\n",
       "        vertical-align: top;\n",
       "    }\n",
       "\n",
       "    .dataframe thead th {\n",
       "        text-align: right;\n",
       "    }\n",
       "</style>\n",
       "<table border=\"1\" class=\"dataframe\">\n",
       "  <thead>\n",
       "    <tr style=\"text-align: right;\">\n",
       "      <th></th>\n",
       "      <th>group</th>\n",
       "      <th>landing_page</th>\n",
       "      <th>user_id</th>\n",
       "    </tr>\n",
       "  </thead>\n",
       "  <tbody>\n",
       "    <tr>\n",
       "      <th>0</th>\n",
       "      <td>control</td>\n",
       "      <td>old_page</td>\n",
       "      <td>143293</td>\n",
       "    </tr>\n",
       "    <tr>\n",
       "      <th>1</th>\n",
       "      <td>treatment</td>\n",
       "      <td>new_page</td>\n",
       "      <td>143397</td>\n",
       "    </tr>\n",
       "  </tbody>\n",
       "</table>\n",
       "</div>"
      ],
      "text/plain": [
       "       group landing_page  user_id\n",
       "0    control     old_page   143293\n",
       "1  treatment     new_page   143397"
      ]
     },
     "execution_count": 37,
     "metadata": {},
     "output_type": "execute_result"
    }
   ],
   "source": [
    "df2[[\"user_id\", \"group\", \"landing_page\"]].groupby([\"group\", \"landing_page\"]).count().reset_index()"
   ]
  },
  {
   "cell_type": "markdown",
   "id": "5af70aed",
   "metadata": {},
   "source": [
    "# 3. Random Sampling"
   ]
  },
  {
   "cell_type": "markdown",
   "id": "aa8f0ba8",
   "metadata": {},
   "source": [
    "Let's do a random sampling to define the groups of analysis."
   ]
  },
  {
   "cell_type": "code",
   "execution_count": 38,
   "id": "b601fad0",
   "metadata": {
    "ExecuteTime": {
     "end_time": "2024-02-16T13:18:30.816088Z",
     "start_time": "2024-02-16T13:18:30.808325Z"
    }
   },
   "outputs": [],
   "source": [
    "df3 = df2.copy()"
   ]
  },
  {
   "cell_type": "code",
   "execution_count": 39,
   "id": "cd77740d",
   "metadata": {
    "ExecuteTime": {
     "end_time": "2024-02-16T13:18:30.826193Z",
     "start_time": "2024-02-16T13:18:30.818020Z"
    }
   },
   "outputs": [
    {
     "data": {
      "text/html": [
       "<div>\n",
       "<style scoped>\n",
       "    .dataframe tbody tr th:only-of-type {\n",
       "        vertical-align: middle;\n",
       "    }\n",
       "\n",
       "    .dataframe tbody tr th {\n",
       "        vertical-align: top;\n",
       "    }\n",
       "\n",
       "    .dataframe thead th {\n",
       "        text-align: right;\n",
       "    }\n",
       "</style>\n",
       "<table border=\"1\" class=\"dataframe\">\n",
       "  <thead>\n",
       "    <tr style=\"text-align: right;\">\n",
       "      <th></th>\n",
       "      <th>user_id</th>\n",
       "      <th>timestamp</th>\n",
       "      <th>group</th>\n",
       "      <th>landing_page</th>\n",
       "      <th>converted</th>\n",
       "    </tr>\n",
       "  </thead>\n",
       "  <tbody>\n",
       "    <tr>\n",
       "      <th>0</th>\n",
       "      <td>851104</td>\n",
       "      <td>2017-01-21 22:11:48.556739</td>\n",
       "      <td>control</td>\n",
       "      <td>old_page</td>\n",
       "      <td>0</td>\n",
       "    </tr>\n",
       "    <tr>\n",
       "      <th>1</th>\n",
       "      <td>804228</td>\n",
       "      <td>2017-01-12 08:01:45.159739</td>\n",
       "      <td>control</td>\n",
       "      <td>old_page</td>\n",
       "      <td>0</td>\n",
       "    </tr>\n",
       "    <tr>\n",
       "      <th>2</th>\n",
       "      <td>661590</td>\n",
       "      <td>2017-01-11 16:55:06.154213</td>\n",
       "      <td>treatment</td>\n",
       "      <td>new_page</td>\n",
       "      <td>0</td>\n",
       "    </tr>\n",
       "    <tr>\n",
       "      <th>3</th>\n",
       "      <td>853541</td>\n",
       "      <td>2017-01-08 18:28:03.143765</td>\n",
       "      <td>treatment</td>\n",
       "      <td>new_page</td>\n",
       "      <td>0</td>\n",
       "    </tr>\n",
       "    <tr>\n",
       "      <th>4</th>\n",
       "      <td>864975</td>\n",
       "      <td>2017-01-21 01:52:26.210827</td>\n",
       "      <td>control</td>\n",
       "      <td>old_page</td>\n",
       "      <td>1</td>\n",
       "    </tr>\n",
       "  </tbody>\n",
       "</table>\n",
       "</div>"
      ],
      "text/plain": [
       "   user_id                  timestamp      group landing_page  converted\n",
       "0   851104 2017-01-21 22:11:48.556739    control     old_page          0\n",
       "1   804228 2017-01-12 08:01:45.159739    control     old_page          0\n",
       "2   661590 2017-01-11 16:55:06.154213  treatment     new_page          0\n",
       "3   853541 2017-01-08 18:28:03.143765  treatment     new_page          0\n",
       "4   864975 2017-01-21 01:52:26.210827    control     old_page          1"
      ]
     },
     "execution_count": 39,
     "metadata": {},
     "output_type": "execute_result"
    }
   ],
   "source": [
    "df3.head()"
   ]
  },
  {
   "cell_type": "markdown",
   "id": "2be58ac9",
   "metadata": {},
   "source": [
    "## 3.1. Control Sample"
   ]
  },
  {
   "cell_type": "code",
   "execution_count": 40,
   "id": "543e7078",
   "metadata": {
    "ExecuteTime": {
     "end_time": "2024-02-16T13:18:30.863452Z",
     "start_time": "2024-02-16T13:18:30.828400Z"
    }
   },
   "outputs": [],
   "source": [
    "df_control_sample = df3[df3[\"group\"] == \"control\"].sample(n=sample_n, random_state=42)"
   ]
  },
  {
   "cell_type": "code",
   "execution_count": 41,
   "id": "8b323d34",
   "metadata": {
    "ExecuteTime": {
     "end_time": "2024-02-16T13:18:30.869138Z",
     "start_time": "2024-02-16T13:18:30.865609Z"
    }
   },
   "outputs": [
    {
     "name": "stdout",
     "output_type": "stream",
     "text": [
      "Control group size: 4433.\n"
     ]
    }
   ],
   "source": [
    "print(f\"Control group size: {df_control_sample.shape[0]}.\")"
   ]
  },
  {
   "cell_type": "markdown",
   "id": "54b977ae",
   "metadata": {},
   "source": [
    "## 3.2. Treatment Sample"
   ]
  },
  {
   "cell_type": "code",
   "execution_count": 42,
   "id": "a94472b2",
   "metadata": {
    "ExecuteTime": {
     "end_time": "2024-02-16T13:18:30.906565Z",
     "start_time": "2024-02-16T13:18:30.871481Z"
    }
   },
   "outputs": [],
   "source": [
    "df_treatment_sample = df3[df3[\"group\"] == \"treatment\"].sample(n=sample_n, random_state=42)"
   ]
  },
  {
   "cell_type": "code",
   "execution_count": 43,
   "id": "8f483c8a",
   "metadata": {
    "ExecuteTime": {
     "end_time": "2024-02-16T13:18:30.912058Z",
     "start_time": "2024-02-16T13:18:30.908608Z"
    }
   },
   "outputs": [
    {
     "name": "stdout",
     "output_type": "stream",
     "text": [
      "Treatment group size: 4433.\n"
     ]
    }
   ],
   "source": [
    "print(f\"Treatment group size: {df_treatment_sample.shape[0]}.\")"
   ]
  },
  {
   "cell_type": "markdown",
   "id": "867b3c7d",
   "metadata": {},
   "source": [
    "## 3.3. DataFrame A/B"
   ]
  },
  {
   "cell_type": "code",
   "execution_count": 44,
   "id": "58974ff3",
   "metadata": {
    "ExecuteTime": {
     "end_time": "2024-02-16T13:18:30.919692Z",
     "start_time": "2024-02-16T13:18:30.913926Z"
    }
   },
   "outputs": [],
   "source": [
    "df_ab = pd.concat([df_control_sample, df_treatment_sample]).reset_index()\n",
    "df_ab.drop(columns=\"index\", inplace=True)"
   ]
  },
  {
   "cell_type": "code",
   "execution_count": 45,
   "id": "7074e2de",
   "metadata": {
    "ExecuteTime": {
     "end_time": "2024-02-16T13:18:30.930444Z",
     "start_time": "2024-02-16T13:18:30.921638Z"
    }
   },
   "outputs": [
    {
     "data": {
      "text/html": [
       "<div>\n",
       "<style scoped>\n",
       "    .dataframe tbody tr th:only-of-type {\n",
       "        vertical-align: middle;\n",
       "    }\n",
       "\n",
       "    .dataframe tbody tr th {\n",
       "        vertical-align: top;\n",
       "    }\n",
       "\n",
       "    .dataframe thead th {\n",
       "        text-align: right;\n",
       "    }\n",
       "</style>\n",
       "<table border=\"1\" class=\"dataframe\">\n",
       "  <thead>\n",
       "    <tr style=\"text-align: right;\">\n",
       "      <th></th>\n",
       "      <th>user_id</th>\n",
       "      <th>timestamp</th>\n",
       "      <th>group</th>\n",
       "      <th>landing_page</th>\n",
       "      <th>converted</th>\n",
       "    </tr>\n",
       "  </thead>\n",
       "  <tbody>\n",
       "    <tr>\n",
       "      <th>0</th>\n",
       "      <td>663037</td>\n",
       "      <td>2017-01-05 02:13:38.063443</td>\n",
       "      <td>control</td>\n",
       "      <td>old_page</td>\n",
       "      <td>0</td>\n",
       "    </tr>\n",
       "    <tr>\n",
       "      <th>1</th>\n",
       "      <td>932826</td>\n",
       "      <td>2017-01-13 04:50:06.941679</td>\n",
       "      <td>control</td>\n",
       "      <td>old_page</td>\n",
       "      <td>1</td>\n",
       "    </tr>\n",
       "    <tr>\n",
       "      <th>2</th>\n",
       "      <td>922999</td>\n",
       "      <td>2017-01-04 07:19:23.813317</td>\n",
       "      <td>control</td>\n",
       "      <td>old_page</td>\n",
       "      <td>0</td>\n",
       "    </tr>\n",
       "    <tr>\n",
       "      <th>3</th>\n",
       "      <td>857826</td>\n",
       "      <td>2017-01-19 02:27:37.678241</td>\n",
       "      <td>control</td>\n",
       "      <td>old_page</td>\n",
       "      <td>0</td>\n",
       "    </tr>\n",
       "    <tr>\n",
       "      <th>4</th>\n",
       "      <td>762926</td>\n",
       "      <td>2017-01-18 17:50:59.261406</td>\n",
       "      <td>control</td>\n",
       "      <td>old_page</td>\n",
       "      <td>0</td>\n",
       "    </tr>\n",
       "  </tbody>\n",
       "</table>\n",
       "</div>"
      ],
      "text/plain": [
       "   user_id                  timestamp    group landing_page  converted\n",
       "0   663037 2017-01-05 02:13:38.063443  control     old_page          0\n",
       "1   932826 2017-01-13 04:50:06.941679  control     old_page          1\n",
       "2   922999 2017-01-04 07:19:23.813317  control     old_page          0\n",
       "3   857826 2017-01-19 02:27:37.678241  control     old_page          0\n",
       "4   762926 2017-01-18 17:50:59.261406  control     old_page          0"
      ]
     },
     "execution_count": 45,
     "metadata": {},
     "output_type": "execute_result"
    }
   ],
   "source": [
    "df_ab.head()"
   ]
  },
  {
   "cell_type": "markdown",
   "id": "e3bc8e16",
   "metadata": {},
   "source": [
    "# 4. Webpage Conversion"
   ]
  },
  {
   "cell_type": "markdown",
   "id": "e07ab474",
   "metadata": {},
   "source": [
    "## 4.1. Control Group"
   ]
  },
  {
   "cell_type": "code",
   "execution_count": 46,
   "id": "1357ec38",
   "metadata": {
    "ExecuteTime": {
     "end_time": "2024-02-16T13:18:30.937177Z",
     "start_time": "2024-02-16T13:18:30.932840Z"
    }
   },
   "outputs": [],
   "source": [
    "# people who purchased\n",
    "sales = df_control_sample.loc[df_control_sample[\"converted\"] == 1, \"converted\"].sum()\n",
    "\n",
    "# everyone who visited the webpage (purchased or not)\n",
    "visit = len(df_control_sample)"
   ]
  },
  {
   "cell_type": "code",
   "execution_count": 47,
   "id": "7ecbd76a",
   "metadata": {
    "ExecuteTime": {
     "end_time": "2024-02-16T13:18:30.942287Z",
     "start_time": "2024-02-16T13:18:30.939217Z"
    }
   },
   "outputs": [
    {
     "name": "stdout",
     "output_type": "stream",
     "text": [
      "Control group conversion rate: 11.26%.\n"
     ]
    }
   ],
   "source": [
    "conv_rate_control = round(sales/visit, 4)\n",
    "print(f\"Control group conversion rate: {conv_rate_control*100}%.\")"
   ]
  },
  {
   "cell_type": "markdown",
   "id": "7b3f9d53",
   "metadata": {},
   "source": [
    "The higher the number of samples, the closest it is to the entire population conversion rate. As we may see below, the entire population conversion rate for the control group is:"
   ]
  },
  {
   "cell_type": "code",
   "execution_count": 48,
   "id": "2f763167",
   "metadata": {
    "ExecuteTime": {
     "end_time": "2024-02-16T13:18:31.006195Z",
     "start_time": "2024-02-16T13:18:30.944558Z"
    }
   },
   "outputs": [
    {
     "name": "stdout",
     "output_type": "stream",
     "text": [
      "Population conversion rate: 12.0%.\n"
     ]
    }
   ],
   "source": [
    "population_conv_rate = df2[(df2[\"converted\"] == 1) & (df2[\"group\"] == \"control\")][\"converted\"].sum()/df2[(df2[\"group\"] == \"control\")][\"user_id\"].nunique()\n",
    "print(f\"Population conversion rate: {population_conv_rate.round(2)*100}%.\")"
   ]
  },
  {
   "cell_type": "markdown",
   "id": "54e03435",
   "metadata": {},
   "source": [
    "This value above is the same as what we call by \"current conversion\". "
   ]
  },
  {
   "cell_type": "markdown",
   "id": "3c4e1efa",
   "metadata": {},
   "source": [
    "## 4.2. Treatment Group"
   ]
  },
  {
   "cell_type": "code",
   "execution_count": 49,
   "id": "c6b400f9",
   "metadata": {
    "ExecuteTime": {
     "end_time": "2024-02-16T13:18:31.012408Z",
     "start_time": "2024-02-16T13:18:31.008360Z"
    }
   },
   "outputs": [],
   "source": [
    "# people who purchased\n",
    "sales = df_treatment_sample.loc[df_treatment_sample[\"converted\"] == 1, \"converted\"].sum()\n",
    "\n",
    "# everyone who visited the webpage (purchased or not)\n",
    "visit = len(df_treatment_sample)"
   ]
  },
  {
   "cell_type": "code",
   "execution_count": 50,
   "id": "4cefc11a",
   "metadata": {
    "ExecuteTime": {
     "end_time": "2024-02-16T13:18:31.017888Z",
     "start_time": "2024-02-16T13:18:31.014755Z"
    }
   },
   "outputs": [
    {
     "name": "stdout",
     "output_type": "stream",
     "text": [
      "Control group conversion rate: 12.7%.\n"
     ]
    }
   ],
   "source": [
    "conv_rate_treatment = round(sales/visit, 4)\n",
    "print(f\"Control group conversion rate: {conv_rate_treatment*100}%.\")"
   ]
  },
  {
   "cell_type": "markdown",
   "id": "a1bf4f2c",
   "metadata": {},
   "source": [
    "# 5. Hypotheses Testing"
   ]
  },
  {
   "cell_type": "code",
   "execution_count": 51,
   "id": "87b54293",
   "metadata": {
    "ExecuteTime": {
     "end_time": "2024-02-16T16:38:12.917117Z",
     "start_time": "2024-02-16T16:38:12.907326Z"
    }
   },
   "outputs": [],
   "source": [
    "df5 = df3.copy()"
   ]
  },
  {
   "cell_type": "code",
   "execution_count": 52,
   "id": "2ca4369f",
   "metadata": {
    "ExecuteTime": {
     "end_time": "2024-02-16T16:38:22.084422Z",
     "start_time": "2024-02-16T16:38:22.076293Z"
    }
   },
   "outputs": [
    {
     "data": {
      "text/html": [
       "<div>\n",
       "<style scoped>\n",
       "    .dataframe tbody tr th:only-of-type {\n",
       "        vertical-align: middle;\n",
       "    }\n",
       "\n",
       "    .dataframe tbody tr th {\n",
       "        vertical-align: top;\n",
       "    }\n",
       "\n",
       "    .dataframe thead th {\n",
       "        text-align: right;\n",
       "    }\n",
       "</style>\n",
       "<table border=\"1\" class=\"dataframe\">\n",
       "  <thead>\n",
       "    <tr style=\"text-align: right;\">\n",
       "      <th></th>\n",
       "      <th>user_id</th>\n",
       "      <th>timestamp</th>\n",
       "      <th>group</th>\n",
       "      <th>landing_page</th>\n",
       "      <th>converted</th>\n",
       "    </tr>\n",
       "  </thead>\n",
       "  <tbody>\n",
       "    <tr>\n",
       "      <th>0</th>\n",
       "      <td>851104</td>\n",
       "      <td>2017-01-21 22:11:48.556739</td>\n",
       "      <td>control</td>\n",
       "      <td>old_page</td>\n",
       "      <td>0</td>\n",
       "    </tr>\n",
       "    <tr>\n",
       "      <th>1</th>\n",
       "      <td>804228</td>\n",
       "      <td>2017-01-12 08:01:45.159739</td>\n",
       "      <td>control</td>\n",
       "      <td>old_page</td>\n",
       "      <td>0</td>\n",
       "    </tr>\n",
       "    <tr>\n",
       "      <th>2</th>\n",
       "      <td>661590</td>\n",
       "      <td>2017-01-11 16:55:06.154213</td>\n",
       "      <td>treatment</td>\n",
       "      <td>new_page</td>\n",
       "      <td>0</td>\n",
       "    </tr>\n",
       "    <tr>\n",
       "      <th>3</th>\n",
       "      <td>853541</td>\n",
       "      <td>2017-01-08 18:28:03.143765</td>\n",
       "      <td>treatment</td>\n",
       "      <td>new_page</td>\n",
       "      <td>0</td>\n",
       "    </tr>\n",
       "    <tr>\n",
       "      <th>4</th>\n",
       "      <td>864975</td>\n",
       "      <td>2017-01-21 01:52:26.210827</td>\n",
       "      <td>control</td>\n",
       "      <td>old_page</td>\n",
       "      <td>1</td>\n",
       "    </tr>\n",
       "  </tbody>\n",
       "</table>\n",
       "</div>"
      ],
      "text/plain": [
       "   user_id                  timestamp      group landing_page  converted\n",
       "0   851104 2017-01-21 22:11:48.556739    control     old_page          0\n",
       "1   804228 2017-01-12 08:01:45.159739    control     old_page          0\n",
       "2   661590 2017-01-11 16:55:06.154213  treatment     new_page          0\n",
       "3   853541 2017-01-08 18:28:03.143765  treatment     new_page          0\n",
       "4   864975 2017-01-21 01:52:26.210827    control     old_page          1"
      ]
     },
     "execution_count": 52,
     "metadata": {},
     "output_type": "execute_result"
    }
   ],
   "source": [
    "df5.head()"
   ]
  },
  {
   "cell_type": "markdown",
   "id": "60e6d716",
   "metadata": {},
   "source": [
    "We must make some questions in order better understand the problem to formulate the hypotheses. Let's first initiate **the possible steps with discrete/categorical response variable**. \n",
    "\n",
    "1. What is the data type of the response variable? \n",
    "        \n",
    "        Binary. (discrete/categorical)\n",
    "        \n",
    "2. What is the sample size? \n",
    "\n",
    "        n < 5: Fisher's exact test\n",
    "        n > 5: (1) Chi-squared test one or two samples or (2) Z-test"
   ]
  },
  {
   "cell_type": "markdown",
   "id": "6597941e",
   "metadata": {},
   "source": [
    "On the other hand, if we have a continuous response variable, the steps are:\n",
    "\n",
    "1. What is the data type of the response variable?\n",
    "\n",
    "        Continuous.\n",
    "        \n",
    "2. What do I want to look at the response variable? Ratio? Difference?\n",
    "\n",
    "        Ratio.\n",
    "        \n",
    "3. Do we have dependent and independent variables in this ratio? \n",
    "\n",
    "        Yes: regression analysis.\n",
    "        \n",
    "4. If it is difference: what kind of difference?\n",
    "\n",
    "        Variances: \n",
    "        \n",
    "        (1) Fmax test \n",
    "        (2) Bartlett's test\n",
    "        \n",
    "        Averages: \n",
    "        \n",
    "        (1) For one average/group we use One Sample t-test (t-student distribution)\n",
    "        \n",
    "        (2) For two averages/groups (control and treatment) \n",
    "        \n",
    "            Parametric assumptions satisfied? \n",
    "            \n",
    "                Independent samples, normal distribution (Shapiro-Wilk) and equal variance.\n",
    "                                   * we may transform data into a normal\n",
    "                                   \n",
    "                Yes for two or more: we use Two Sample t-test (t-student distribution)\n",
    "                        \n",
    "                No: (1) Mann-Whitney or (2) Wilcoxon test\n",
    "                \n",
    "         (3) More than two averages/groups  \n",
    "        \n",
    "            Parametric assumptions satisfied? \n",
    "            \n",
    "                Independent samples, normal distribution (Shapiro-Wilk) and equal variance.\n",
    "                                   * we may transform data into a normal\n",
    "                                   \n",
    "                Yes for two or more: we use One Way ANOVA\n",
    "        \n",
    "                No: Kruskall-Wallis test"
   ]
  },
  {
   "cell_type": "markdown",
   "id": "aebcd8cd",
   "metadata": {},
   "source": [
    "## 5.1. Application Examples"
   ]
  },
  {
   "cell_type": "markdown",
   "id": "e23fcdf1",
   "metadata": {},
   "source": [
    "In this subsection, we are going to do some examples in order to understand the hypotheses test for different kinds."
   ]
  },
  {
   "cell_type": "markdown",
   "id": "b2bb51ff",
   "metadata": {},
   "source": [
    "### 5.1.1. Tree Height"
   ]
  },
  {
   "cell_type": "markdown",
   "id": "47e20bf0",
   "metadata": {},
   "source": [
    "We want to test if the average tree height is 15 cm. The status quo is 15 cm. However, we used fertilizer on some plants and now we want to test if it increased or decreased their height. Below, the data points we have:"
   ]
  },
  {
   "cell_type": "code",
   "execution_count": 53,
   "id": "5ea04be2",
   "metadata": {
    "ExecuteTime": {
     "end_time": "2024-02-20T17:15:05.831158Z",
     "start_time": "2024-02-20T17:15:05.828102Z"
    }
   },
   "outputs": [],
   "source": [
    "df = [14, 14, 16, 13, 12, 17, 15, 14, 15, 13, 15, 14]"
   ]
  },
  {
   "cell_type": "code",
   "execution_count": 54,
   "id": "7e1a0269",
   "metadata": {
    "ExecuteTime": {
     "end_time": "2024-02-20T17:15:38.783493Z",
     "start_time": "2024-02-20T17:15:38.779106Z"
    }
   },
   "outputs": [
    {
     "data": {
      "text/plain": [
       "14.33"
      ]
     },
     "execution_count": 54,
     "metadata": {},
     "output_type": "execute_result"
    }
   ],
   "source": [
    "np.mean(df).round(2)"
   ]
  },
  {
   "cell_type": "markdown",
   "id": "3d842763",
   "metadata": {},
   "source": [
    "We must analyze the number of samples and the current average to understand whether the 14.33 cm average is statistical significant or not. Below, the characteristics of this test:\n",
    "\n",
    "1. Continuous data type.\n",
    "2. Difference.\n",
    "3. No.\n",
    "4. Averages. It one average/group.\n",
    "\n",
    "        It is two-tailed test since we want to evaluate whether the new average is higher or lower."
   ]
  },
  {
   "cell_type": "markdown",
   "id": "f32fcc2d",
   "metadata": {},
   "source": [
    "H<sub>0</sub>: μ = 15\n",
    "\n",
    "H<sub>1</sub>: μ <> 15"
   ]
  },
  {
   "cell_type": "code",
   "execution_count": 57,
   "id": "e05b926a",
   "metadata": {
    "ExecuteTime": {
     "end_time": "2024-02-20T17:53:50.825948Z",
     "start_time": "2024-02-20T17:53:50.821078Z"
    }
   },
   "outputs": [
    {
     "name": "stdout",
     "output_type": "stream",
     "text": [
      "p-value: 0.12.\n"
     ]
    }
   ],
   "source": [
    "statistic, pvalue = ttest_1samp(df, popmean=15)\n",
    "print(f\"p-value: {pvalue.round(2)}.\")"
   ]
  },
  {
   "cell_type": "code",
   "execution_count": 61,
   "id": "0df11b24",
   "metadata": {
    "ExecuteTime": {
     "end_time": "2024-02-20T20:15:56.321451Z",
     "start_time": "2024-02-20T20:15:56.317763Z"
    }
   },
   "outputs": [
    {
     "name": "stdout",
     "output_type": "stream",
     "text": [
      "We accept the null hypothesis. There is no significant difference between the groups.\n"
     ]
    }
   ],
   "source": [
    "alpha = 0.05\n",
    "\n",
    "if pvalue < alpha:\n",
    "    print(\"We reject the null hypothesis. There is significant difference between the groups.\")\n",
    "else:\n",
    "    print(\"We accept the null hypothesis. There is no significant difference between the groups.\")"
   ]
  },
  {
   "cell_type": "markdown",
   "id": "36e1484d",
   "metadata": {},
   "source": [
    "Assuming alpha = 0.05 makes p-value > 0.12. That means the probability of null hypothesis is higher than the maximum randomness we admitted. Since it is higher, we may not reject the null hypothesis - we accept it.\n",
    "\n",
    "The 14.33 cm average is NOT statistically significant. The null hypothesis is true: average is 15 cm."
   ]
  },
  {
   "cell_type": "code",
   "execution_count": null,
   "id": "a894fa87",
   "metadata": {},
   "outputs": [],
   "source": []
  },
  {
   "cell_type": "code",
   "execution_count": null,
   "id": "034f3020",
   "metadata": {},
   "outputs": [],
   "source": []
  },
  {
   "cell_type": "code",
   "execution_count": null,
   "id": "86e30466",
   "metadata": {},
   "outputs": [],
   "source": []
  },
  {
   "cell_type": "code",
   "execution_count": null,
   "id": "67016348",
   "metadata": {},
   "outputs": [],
   "source": []
  },
  {
   "cell_type": "code",
   "execution_count": null,
   "id": "68c4d6bc",
   "metadata": {},
   "outputs": [],
   "source": []
  },
  {
   "cell_type": "code",
   "execution_count": null,
   "id": "adfd31b3",
   "metadata": {},
   "outputs": [],
   "source": []
  },
  {
   "cell_type": "code",
   "execution_count": null,
   "id": "451ee476",
   "metadata": {},
   "outputs": [],
   "source": []
  }
 ],
 "metadata": {
  "kernelspec": {
   "display_name": "Python 3 (ipykernel)",
   "language": "python",
   "name": "python3"
  },
  "language_info": {
   "codemirror_mode": {
    "name": "ipython",
    "version": 3
   },
   "file_extension": ".py",
   "mimetype": "text/x-python",
   "name": "python",
   "nbconvert_exporter": "python",
   "pygments_lexer": "ipython3",
   "version": "3.9.13"
  }
 },
 "nbformat": 4,
 "nbformat_minor": 5
}
